{
  "nbformat": 4,
  "nbformat_minor": 0,
  "metadata": {
    "colab": {
      "provenance": [],
      "authorship_tag": "ABX9TyMC/P5QCEePltwy7OOxli1V",
      "include_colab_link": true
    },
    "kernelspec": {
      "name": "python3",
      "display_name": "Python 3"
    },
    "language_info": {
      "name": "python"
    }
  },
  "cells": [
    {
      "cell_type": "markdown",
      "metadata": {
        "id": "view-in-github",
        "colab_type": "text"
      },
      "source": [
        "<a href=\"https://colab.research.google.com/github/belom-nlp/HSE_Lomakin_car_prices/blob/main/streamlit.ipynb\" target=\"_parent\"><img src=\"https://colab.research.google.com/assets/colab-badge.svg\" alt=\"Open In Colab\"/></a>"
      ]
    },
    {
      "cell_type": "code",
      "execution_count": 1,
      "metadata": {
        "colab": {
          "base_uri": "https://localhost:8080/",
          "height": 387
        },
        "id": "NYOrwFjq7xMQ",
        "outputId": "39cf5123-59c4-487a-ed33-a237bf012349"
      },
      "outputs": [
        {
          "output_type": "error",
          "ename": "ModuleNotFoundError",
          "evalue": "ignored",
          "traceback": [
            "\u001b[0;31m---------------------------------------------------------------------------\u001b[0m",
            "\u001b[0;31mModuleNotFoundError\u001b[0m                       Traceback (most recent call last)",
            "\u001b[0;32m<ipython-input-1-a6f4c4ed3755>\u001b[0m in \u001b[0;36m<cell line: 1>\u001b[0;34m()\u001b[0m\n\u001b[0;32m----> 1\u001b[0;31m \u001b[0;32mimport\u001b[0m \u001b[0mstreamlit\u001b[0m \u001b[0;32mas\u001b[0m \u001b[0mst\u001b[0m\u001b[0;34m\u001b[0m\u001b[0;34m\u001b[0m\u001b[0m\n\u001b[0m\u001b[1;32m      2\u001b[0m \u001b[0;32mimport\u001b[0m \u001b[0mpandas\u001b[0m \u001b[0;32mas\u001b[0m \u001b[0mpd\u001b[0m\u001b[0;34m\u001b[0m\u001b[0;34m\u001b[0m\u001b[0m\n\u001b[1;32m      3\u001b[0m \u001b[0;32mfrom\u001b[0m \u001b[0msklearn\u001b[0m\u001b[0;34m.\u001b[0m\u001b[0mpreprocessing\u001b[0m \u001b[0;32mimport\u001b[0m \u001b[0mOneHotEncoder\u001b[0m\u001b[0;34m\u001b[0m\u001b[0;34m\u001b[0m\u001b[0m\n\u001b[1;32m      4\u001b[0m \u001b[0;32mfrom\u001b[0m \u001b[0msklearn\u001b[0m\u001b[0;34m.\u001b[0m\u001b[0mcompose\u001b[0m \u001b[0;32mimport\u001b[0m \u001b[0mColumnTransformer\u001b[0m\u001b[0;34m\u001b[0m\u001b[0;34m\u001b[0m\u001b[0m\n\u001b[1;32m      5\u001b[0m \u001b[0;32mfrom\u001b[0m \u001b[0msklearn\u001b[0m\u001b[0;34m.\u001b[0m\u001b[0mpreprocessing\u001b[0m \u001b[0;32mimport\u001b[0m \u001b[0mStandardScaler\u001b[0m\u001b[0;34m\u001b[0m\u001b[0;34m\u001b[0m\u001b[0m\n",
            "\u001b[0;31mModuleNotFoundError\u001b[0m: No module named 'streamlit'",
            "",
            "\u001b[0;31m---------------------------------------------------------------------------\u001b[0;32m\nNOTE: If your import is failing due to a missing package, you can\nmanually install dependencies using either !pip or !apt.\n\nTo view examples of installing some common dependencies, click the\n\"Open Examples\" button below.\n\u001b[0;31m---------------------------------------------------------------------------\u001b[0m\n"
          ],
          "errorDetails": {
            "actions": [
              {
                "action": "open_url",
                "actionText": "Open Examples",
                "url": "/notebooks/snippets/importing_libraries.ipynb"
              }
            ]
          }
        }
      ],
      "source": [
        "import streamlit as st\n",
        "import pandas as pd\n",
        "from sklearn.preprocessing import OneHotEncoder\n",
        "from sklearn.compose import ColumnTransformer\n",
        "from sklearn.preprocessing import StandardScaler\n",
        "\n",
        "# Название\n",
        "st.title(\"Predict Car Prices\")\n",
        "st.write('Choose parameters and find out optimal car price!')\n",
        "st.sidebar.header('Input Parameters')\n",
        "DATASET_PATH = \"https://raw.githubusercontent.com/evgpat/edu_stepik_from_idea_to_mvp/main/datasets/cars.csv\"\n",
        "\n",
        "#processing dataset\n",
        "df = pd.read_csv(DATASET_PATH)\n",
        "df = df.dropna(subset=['mileage'])\n",
        "df = df.drop(columns=['name'])\n",
        "df['age'] = 2021 - df['year']\n",
        "df['mileage_count'] = df['mileage'].apply(lambda x: float(x.split(' ')[0]) if type(x) == str else None)\n",
        "df['mileage_count'][df.fuel=='Petrol'] = df['mileage_count'][df.fuel=='Petrol'].apply(lambda x: x * 0.75)\n",
        "df['mileage_count'][df.fuel=='Diesel'] = df['mileage_count'][df.fuel=='Diesel'].apply(lambda x: x * 0.85)\n",
        "df['engine_volume'] = df['engine'].apply(lambda x: float(x.split(' ')[0]) if type(x) == str else None)\n",
        "df['max_power_count'] = df['max_power'].apply(lambda x: float(x.strip().split(' ')[0]) if type(x) == str and x!=' bhp' else None)\n",
        "df['torque'] = df['torque'].apply(lambda x: x.replace('at', '@') if type(x) == str else None)\n",
        "df['torque'] = df['torque'].apply(lambda x: x.replace('/', '@') if type(x) == str else None)\n",
        "df['torque_1'] = df.torque.apply(lambda x: x.split('@', maxsplit=1)[0].lower() if type(x) == str else None)\n",
        "def count_nm(x: str):\n",
        "  if 'nm' in x:\n",
        "    x = x.replace('nm', '')\n",
        "    x = x.strip()\n",
        "    if '(' in x:\n",
        "      if '380' in x:\n",
        "        return 380.0\n",
        "    else:\n",
        "      return float(x)\n",
        "  elif 'kgm' in x:\n",
        "    x = x.replace('kgm', '')\n",
        "    x = x.strip()\n",
        "    return float(x) * 9.8\n",
        "  else:\n",
        "    if float(x) > 100:\n",
        "      return float(x)\n",
        "    else:\n",
        "      return float(x) * 9.8\n",
        "\n",
        "df['torque_1'] = df['torque_1'].apply(lambda x: count_nm(x) if type(x) == str else None )\n",
        "df['rpm'] = df['torque'].apply(lambda x: x.split('@', maxsplit=1)[1].lower() if type(x) == str and '@' in x else None)\n",
        "def process_rpm(x: str):\n",
        "  x = x.replace('(kgm@ rpm)', '')\n",
        "  x = x.replace('rpm', '')\n",
        "  x = x.strip()\n",
        "  x = x.replace(',', '')\n",
        "  x = x.replace('+@', '')\n",
        "  x = x.replace('(nm@ )', '')\n",
        "  if '-' in x:\n",
        "    rpm = x.split('-')\n",
        "    rpm[0] = int(rpm[0])\n",
        "    rpm[1] = int(rpm[1])\n",
        "  elif '~' in x:\n",
        "    rpm = x.split('~')\n",
        "    rpm[0] = int(rpm[0])\n",
        "    rpm[1] = int(rpm[1])\n",
        "  else:\n",
        "    rpm = [int(x), int(x)]\n",
        "  return rpm\n",
        "\n",
        "df['rpm'] = df['rpm'].apply(lambda x: process_rpm(x) if type(x) == str else None)\n",
        "df['rpm_min'] = df['rpm'].apply(lambda x: x[0] if x is not None else None)\n",
        "df['rpm_max'] = df['rpm'].apply(lambda x: x[1] if x is not None else None)\n",
        "x = df.drop(columns=['year', 'mileage', 'engine', 'max_power', 'torque', 'rpm'])\n",
        "x = x.dropna()\n",
        "y = x['selling_price']\n",
        "x = x.drop(['selling_price'], axis=1)\n",
        "\n",
        "categorical = ['seller_type', 'transmission', 'fuel', 'owner']\n",
        "numeric_features = [col for col in x.columns if col not in categorical]\n",
        "\n",
        "column_transformer = ColumnTransformer([\n",
        "    ('ohe', OneHotEncoder(), categorical),\n",
        "    ('scaling', StandardScaler(), numeric_features)\n",
        "])\n",
        "\n",
        "X_scaled = column_transformer.fit_transform(x)\n",
        "\n",
        "#model creation\n",
        "from sklearn.ensemble import ExtraTreesRegressor\n",
        "etr = ExtraTreesRegressor(n_estimators=3000, min_samples_split=16, min_samples_leaf=5, max_depth=12)\n",
        "etr.fit(X_scaled, y)\n",
        "\n",
        "def user_input_features():\n",
        "    year = st.sidebar.slider('Please choose the year of car production', 1980, 2020, 2000)\n",
        "    km_driven = st.sidebar.slider('How many kilometers has your car driven?', 0, 2500000, 1250000)\n",
        "    fuel = st.sidebar.selectbox('Choose the type of fuel:', ['Diesel', 'Petrol', 'CNG', 'LPG', 'electric'])\n",
        "    seller_type = st.sidebar.selectbox('Choose seller type:', ['Individual', 'Dealer', 'Trustmark Dealer'])\n",
        "    transmission = st.sidebar.selectbox('Choose transmission type:', ['Manual', 'Automatic'])\n",
        "    owner = st.sidebar.selectbox('Chhose the number of owner:', ['First Owner', 'Second Owner', 'Third Owner', 'Fourth & Above Owner'])\n",
        "    torque = st.sidebar.slider('Choose the value of torque:', [45, 800, 350])\n",
        "    rpm_max = st.sidebar.slider('Choose maximum number of rotation per minute:', [500, 22000, 10000])\n",
        "    rpm_min = st.sidebar.slider('Choose minimum number of rotation per minute:', [150, 22000, 10000])\n",
        "    engine_volume = st.sidebar.slider('Choose the engine volume:', [500, 3800, 2000])\n",
        "    seats = st.sidebar.selectbox('Choose the number of seats:', [1, 2, 3, 4, 5, 6])\n",
        "    mileage_count = st.sidebar.slider('Choose mileage:', [0, 50, 25])\n",
        "    max_power_count = st.sidebar.slider('Choose max power, bhp:', [30, 500, 250])\n",
        "\n",
        "    data = {'seller_type': seller_type,\n",
        "    'transmission': transmission,\n",
        "    'fuel': fuel,\n",
        "    'owner': owner,\n",
        "    'km_driven': km_driven,\n",
        "    'seats': seats,\n",
        "    'age': 2021 - year,\n",
        "    'mileage_count': mileage_count,\n",
        "    'engine_volume': engine_volume,\n",
        "    'max_power_count': max_power_count,\n",
        "    'torque_1': torque,\n",
        "    'rpm_min': rpm_min,\n",
        "    'rpm_max': rpm_max\n",
        "            }\n",
        "    features = pd.DataFrame(data, index=[0])\n",
        "    return features\n",
        "\n",
        "df = user_input_features()\n",
        "\n",
        "st.subheader('Your car: characteristics')\n",
        "st.write(df)\n",
        "\n",
        "df = column_transformer.transform(df)\n",
        "pred = etr.predict(df)\n",
        "\n",
        "st.write('Your optimal price is', int(pred))\n",
        "\n"
      ]
    },
    {
      "cell_type": "code",
      "source": [],
      "metadata": {
        "id": "taBmyYzh79P6"
      },
      "execution_count": null,
      "outputs": []
    }
  ]
}