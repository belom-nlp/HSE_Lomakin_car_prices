{
  "nbformat": 4,
  "nbformat_minor": 0,
  "metadata": {
    "colab": {
      "provenance": [],
      "toc_visible": true,
      "include_colab_link": true
    },
    "kernelspec": {
      "name": "python3",
      "display_name": "Python 3"
    },
    "language_info": {
      "name": "python"
    }
  },
  "cells": [
    {
      "cell_type": "markdown",
      "metadata": {
        "id": "view-in-github",
        "colab_type": "text"
      },
      "source": [
        "<a href=\"https://colab.research.google.com/github/belom-nlp/HSE_Lomakin_car_prices/blob/main/EDA_cars_Lomakin.ipynb\" target=\"_parent\"><img src=\"https://colab.research.google.com/assets/colab-badge.svg\" alt=\"Open In Colab\"/></a>"
      ]
    },
    {
      "cell_type": "markdown",
      "source": [
        "# Подержанные автомобили"
      ],
      "metadata": {
        "id": "d04VdHY7jUnn"
      }
    },
    {
      "cell_type": "markdown",
      "source": [
        "Датасет содержит информацию о характеристиках и ценах подержанных автомобилей в некоторой стране"
      ],
      "metadata": {
        "id": "DxMCeYxukBKi"
      }
    },
    {
      "cell_type": "markdown",
      "source": [
        "## Импорт библиотек, константы"
      ],
      "metadata": {
        "id": "lhA1Am55jZ3D"
      }
    },
    {
      "cell_type": "code",
      "execution_count": null,
      "metadata": {
        "id": "HV1hv_cBi-zx"
      },
      "outputs": [],
      "source": [
        "import numpy as np\n",
        "import pandas as pd\n",
        "import seaborn as sns\n",
        "import matplotlib.pyplot as plt"
      ]
    },
    {
      "cell_type": "code",
      "source": [
        "RANDOM_STATE = 42"
      ],
      "metadata": {
        "id": "IfM0ZXowjluS"
      },
      "execution_count": null,
      "outputs": []
    },
    {
      "cell_type": "code",
      "source": [
        "DATASET_PATH = \"https://raw.githubusercontent.com/evgpat/edu_stepik_from_idea_to_mvp/main/datasets/cars.csv\""
      ],
      "metadata": {
        "id": "otQxpwuxjoBA"
      },
      "execution_count": null,
      "outputs": []
    },
    {
      "cell_type": "markdown",
      "source": [
        "## Загрузка и обзор данных"
      ],
      "metadata": {
        "id": "Fp7HfNokjzdr"
      }
    },
    {
      "cell_type": "markdown",
      "source": [
        "### Загрузка"
      ],
      "metadata": {
        "id": "voBVih6bkqoP"
      }
    },
    {
      "cell_type": "code",
      "source": [
        "# загрузка данных\n",
        "df = pd.read_csv(DATASET_PATH)"
      ],
      "metadata": {
        "id": "akRLgc55jyGl"
      },
      "execution_count": null,
      "outputs": []
    },
    {
      "cell_type": "markdown",
      "source": [
        "### Описание данных"
      ],
      "metadata": {
        "id": "mNHZ_G-tkb1e"
      }
    },
    {
      "cell_type": "markdown",
      "source": [
        "**Целевая переменная**\n",
        "- `selling_price`: цена продажи, числовая\n",
        "\n",
        "**Признаки**\n",
        "- `name` (string): модель автомобиля\n",
        "- `year` (numeric, int): год выпуска с завода-изготовителя\n",
        "- `km_driven` (numeric, int): пробег на дату продажи\n",
        "- `fuel` (categorical: _Diesel_ или _Petrol_, или _CNG_, или _LPG_, или _electric_): тип топлива\n",
        "- `seller_type` (categorical: _Individual_ или _Dealer_, или _Trustmark Dealer_): продавец\n",
        "- `transmission` (categorical: _Manual_ или _Automatic_): тип трансмиссии\n",
        "- `owner` (categorical: _First Owner_ или _Second Owner_, или _Third Owner_, или _Fourth & Above Owner_): какой по счёту хозяин?\n",
        "- `mileage` (string, по смыслу числовой): пробег, требует предобработки\n",
        "- `engine` (string, по смыслу числовой): рабочий объем двигателя, требует предобработки\n",
        "- `max_power` (string, по смыслу числовой): пиковая мощность двигателя, требует предобработки\n",
        "- `torque` (string, по смыслу числовой, а то и 2): крутящий момент, требует предобработки\n",
        "- `seats` (numeric, float; по смыслу categorical, int)"
      ],
      "metadata": {
        "id": "3FxkHi2QkEPV"
      }
    },
    {
      "cell_type": "code",
      "source": [
        "# информация от столбцах\n",
        "df.info()"
      ],
      "metadata": {
        "colab": {
          "base_uri": "https://localhost:8080/"
        },
        "id": "VterO9sXkWTi",
        "outputId": "15631f58-4a1a-40ee-857f-2b696d5d8f9c"
      },
      "execution_count": null,
      "outputs": [
        {
          "output_type": "stream",
          "name": "stdout",
          "text": [
            "<class 'pandas.core.frame.DataFrame'>\n",
            "RangeIndex: 6999 entries, 0 to 6998\n",
            "Data columns (total 13 columns):\n",
            " #   Column         Non-Null Count  Dtype  \n",
            "---  ------         --------------  -----  \n",
            " 0   name           6999 non-null   object \n",
            " 1   year           6999 non-null   int64  \n",
            " 2   selling_price  6999 non-null   int64  \n",
            " 3   km_driven      6999 non-null   int64  \n",
            " 4   fuel           6999 non-null   object \n",
            " 5   seller_type    6999 non-null   object \n",
            " 6   transmission   6999 non-null   object \n",
            " 7   owner          6999 non-null   object \n",
            " 8   mileage        6797 non-null   object \n",
            " 9   engine         6797 non-null   object \n",
            " 10  max_power      6803 non-null   object \n",
            " 11  torque         6796 non-null   object \n",
            " 12  seats          6797 non-null   float64\n",
            "dtypes: float64(1), int64(3), object(9)\n",
            "memory usage: 711.0+ KB\n"
          ]
        }
      ]
    },
    {
      "cell_type": "markdown",
      "source": [
        "Как видим, в колонках с 8 по 12 у нас есть пропуски в данных (максимум около 200). Посмотрим, совпадают они или нет."
      ],
      "metadata": {
        "id": "nH8eJC0FjmJ4"
      }
    },
    {
      "cell_type": "code",
      "source": [
        "df[df.mileage.isnull()].index == df[df.engine.isnull()].index"
      ],
      "metadata": {
        "colab": {
          "base_uri": "https://localhost:8080/"
        },
        "id": "4yAjN5DihJg8",
        "outputId": "35a62b3c-3e65-4084-d05f-bb4feba00942"
      },
      "execution_count": null,
      "outputs": [
        {
          "output_type": "execute_result",
          "data": {
            "text/plain": [
              "array([ True,  True,  True,  True,  True,  True,  True,  True,  True,\n",
              "        True,  True,  True,  True,  True,  True,  True,  True,  True,\n",
              "        True,  True,  True,  True,  True,  True,  True,  True,  True,\n",
              "        True,  True,  True,  True,  True,  True,  True,  True,  True,\n",
              "        True,  True,  True,  True,  True,  True,  True,  True,  True,\n",
              "        True,  True,  True,  True,  True,  True,  True,  True,  True,\n",
              "        True,  True,  True,  True,  True,  True,  True,  True,  True,\n",
              "        True,  True,  True,  True,  True,  True,  True,  True,  True,\n",
              "        True,  True,  True,  True,  True,  True,  True,  True,  True,\n",
              "        True,  True,  True,  True,  True,  True,  True,  True,  True,\n",
              "        True,  True,  True,  True,  True,  True,  True,  True,  True,\n",
              "        True,  True,  True,  True,  True,  True,  True,  True,  True,\n",
              "        True,  True,  True,  True,  True,  True,  True,  True,  True,\n",
              "        True,  True,  True,  True,  True,  True,  True,  True,  True,\n",
              "        True,  True,  True,  True,  True,  True,  True,  True,  True,\n",
              "        True,  True,  True,  True,  True,  True,  True,  True,  True,\n",
              "        True,  True,  True,  True,  True,  True,  True,  True,  True,\n",
              "        True,  True,  True,  True,  True,  True,  True,  True,  True,\n",
              "        True,  True,  True,  True,  True,  True,  True,  True,  True,\n",
              "        True,  True,  True,  True,  True,  True,  True,  True,  True,\n",
              "        True,  True,  True,  True,  True,  True,  True,  True,  True,\n",
              "        True,  True,  True,  True,  True,  True,  True,  True,  True,\n",
              "        True,  True,  True,  True])"
            ]
          },
          "metadata": {},
          "execution_count": 6
        }
      ]
    },
    {
      "cell_type": "code",
      "source": [
        "df[df.mileage.isnull()].index == df[df.seats.isnull()].index"
      ],
      "metadata": {
        "colab": {
          "base_uri": "https://localhost:8080/"
        },
        "id": "tHi7yh4uhvVx",
        "outputId": "bee53706-62f6-4832-d8e3-f4111ca386d6"
      },
      "execution_count": null,
      "outputs": [
        {
          "output_type": "execute_result",
          "data": {
            "text/plain": [
              "array([ True,  True,  True,  True,  True,  True,  True,  True,  True,\n",
              "        True,  True,  True,  True,  True,  True,  True,  True,  True,\n",
              "        True,  True,  True,  True,  True,  True,  True,  True,  True,\n",
              "        True,  True,  True,  True,  True,  True,  True,  True,  True,\n",
              "        True,  True,  True,  True,  True,  True,  True,  True,  True,\n",
              "        True,  True,  True,  True,  True,  True,  True,  True,  True,\n",
              "        True,  True,  True,  True,  True,  True,  True,  True,  True,\n",
              "        True,  True,  True,  True,  True,  True,  True,  True,  True,\n",
              "        True,  True,  True,  True,  True,  True,  True,  True,  True,\n",
              "        True,  True,  True,  True,  True,  True,  True,  True,  True,\n",
              "        True,  True,  True,  True,  True,  True,  True,  True,  True,\n",
              "        True,  True,  True,  True,  True,  True,  True,  True,  True,\n",
              "        True,  True,  True,  True,  True,  True,  True,  True,  True,\n",
              "        True,  True,  True,  True,  True,  True,  True,  True,  True,\n",
              "        True,  True,  True,  True,  True,  True,  True,  True,  True,\n",
              "        True,  True,  True,  True,  True,  True,  True,  True,  True,\n",
              "        True,  True,  True,  True,  True,  True,  True,  True,  True,\n",
              "        True,  True,  True,  True,  True,  True,  True,  True,  True,\n",
              "        True,  True,  True,  True,  True,  True,  True,  True,  True,\n",
              "        True,  True,  True,  True,  True,  True,  True,  True,  True,\n",
              "        True,  True,  True,  True,  True,  True,  True,  True,  True,\n",
              "        True,  True,  True,  True,  True,  True,  True,  True,  True,\n",
              "        True,  True,  True,  True])"
            ]
          },
          "metadata": {},
          "execution_count": 7
        }
      ]
    },
    {
      "cell_type": "markdown",
      "source": [
        "Прекраснейшим образом совпадают. Попробуем убрать."
      ],
      "metadata": {
        "id": "V3N-Vqwah6FH"
      }
    },
    {
      "cell_type": "code",
      "source": [
        "df = df.dropna(subset=['mileage'])\n",
        "df.info()"
      ],
      "metadata": {
        "colab": {
          "base_uri": "https://localhost:8080/"
        },
        "id": "hVySukjnFwVB",
        "outputId": "00d9332d-b3aa-4528-c9d3-017ccb90a846"
      },
      "execution_count": null,
      "outputs": [
        {
          "output_type": "stream",
          "name": "stdout",
          "text": [
            "<class 'pandas.core.frame.DataFrame'>\n",
            "Int64Index: 6797 entries, 0 to 6998\n",
            "Data columns (total 13 columns):\n",
            " #   Column         Non-Null Count  Dtype  \n",
            "---  ------         --------------  -----  \n",
            " 0   name           6797 non-null   object \n",
            " 1   year           6797 non-null   int64  \n",
            " 2   selling_price  6797 non-null   int64  \n",
            " 3   km_driven      6797 non-null   int64  \n",
            " 4   fuel           6797 non-null   object \n",
            " 5   seller_type    6797 non-null   object \n",
            " 6   transmission   6797 non-null   object \n",
            " 7   owner          6797 non-null   object \n",
            " 8   mileage        6797 non-null   object \n",
            " 9   engine         6797 non-null   object \n",
            " 10  max_power      6797 non-null   object \n",
            " 11  torque         6796 non-null   object \n",
            " 12  seats          6797 non-null   float64\n",
            "dtypes: float64(1), int64(3), object(9)\n",
            "memory usage: 743.4+ KB\n"
          ]
        }
      ]
    },
    {
      "cell_type": "markdown",
      "source": [
        "Остается единственное незаполненное значение torque. С этим разберемся в дальнейшем."
      ],
      "metadata": {
        "id": "7u6zgkjroiAy"
      }
    },
    {
      "cell_type": "code",
      "source": [
        "# случайные три записи из датасета\n",
        "df.sample(3)"
      ],
      "metadata": {
        "colab": {
          "base_uri": "https://localhost:8080/",
          "height": 398
        },
        "id": "RsDeQvZXmVpW",
        "outputId": "8109bd68-65f9-4418-9fb9-f4a185aa8b04"
      },
      "execution_count": null,
      "outputs": [
        {
          "output_type": "execute_result",
          "data": {
            "text/plain": [
              "                                         name  year  selling_price  km_driven  \\\n",
              "132           Mercedes-Benz S-Class S 350 CDI  2017        5850000      47000   \n",
              "982    Toyota Innova 2.5 VX (Diesel) 7 Seater  2013         750000      79328   \n",
              "667  Mahindra Bolero 2011-2019 DI - AC BS III  2016         600000     120000   \n",
              "\n",
              "       fuel       seller_type transmission         owner     mileage   engine  \\\n",
              "132  Diesel            Dealer    Automatic   First Owner   13.5 kmpl  2987 CC   \n",
              "982  Diesel  Trustmark Dealer       Manual  Second Owner  12.99 kmpl  2494 CC   \n",
              "667  Diesel        Individual       Manual   First Owner  15.96 kmpl  2523 CC   \n",
              "\n",
              "     max_power               torque  seats  \n",
              "132    282 bhp       490Nm@ 1600rpm    5.0  \n",
              "982  100.6 bhp  200Nm@ 1200-3600rpm    7.0  \n",
              "667     63 bhp  180Nm@ 1440-1500rpm    9.0  "
            ],
            "text/html": [
              "\n",
              "  <div id=\"df-ecacbfd6-aab5-46e7-9452-c1cf5361c582\">\n",
              "    <div class=\"colab-df-container\">\n",
              "      <div>\n",
              "<style scoped>\n",
              "    .dataframe tbody tr th:only-of-type {\n",
              "        vertical-align: middle;\n",
              "    }\n",
              "\n",
              "    .dataframe tbody tr th {\n",
              "        vertical-align: top;\n",
              "    }\n",
              "\n",
              "    .dataframe thead th {\n",
              "        text-align: right;\n",
              "    }\n",
              "</style>\n",
              "<table border=\"1\" class=\"dataframe\">\n",
              "  <thead>\n",
              "    <tr style=\"text-align: right;\">\n",
              "      <th></th>\n",
              "      <th>name</th>\n",
              "      <th>year</th>\n",
              "      <th>selling_price</th>\n",
              "      <th>km_driven</th>\n",
              "      <th>fuel</th>\n",
              "      <th>seller_type</th>\n",
              "      <th>transmission</th>\n",
              "      <th>owner</th>\n",
              "      <th>mileage</th>\n",
              "      <th>engine</th>\n",
              "      <th>max_power</th>\n",
              "      <th>torque</th>\n",
              "      <th>seats</th>\n",
              "    </tr>\n",
              "  </thead>\n",
              "  <tbody>\n",
              "    <tr>\n",
              "      <th>132</th>\n",
              "      <td>Mercedes-Benz S-Class S 350 CDI</td>\n",
              "      <td>2017</td>\n",
              "      <td>5850000</td>\n",
              "      <td>47000</td>\n",
              "      <td>Diesel</td>\n",
              "      <td>Dealer</td>\n",
              "      <td>Automatic</td>\n",
              "      <td>First Owner</td>\n",
              "      <td>13.5 kmpl</td>\n",
              "      <td>2987 CC</td>\n",
              "      <td>282 bhp</td>\n",
              "      <td>490Nm@ 1600rpm</td>\n",
              "      <td>5.0</td>\n",
              "    </tr>\n",
              "    <tr>\n",
              "      <th>982</th>\n",
              "      <td>Toyota Innova 2.5 VX (Diesel) 7 Seater</td>\n",
              "      <td>2013</td>\n",
              "      <td>750000</td>\n",
              "      <td>79328</td>\n",
              "      <td>Diesel</td>\n",
              "      <td>Trustmark Dealer</td>\n",
              "      <td>Manual</td>\n",
              "      <td>Second Owner</td>\n",
              "      <td>12.99 kmpl</td>\n",
              "      <td>2494 CC</td>\n",
              "      <td>100.6 bhp</td>\n",
              "      <td>200Nm@ 1200-3600rpm</td>\n",
              "      <td>7.0</td>\n",
              "    </tr>\n",
              "    <tr>\n",
              "      <th>667</th>\n",
              "      <td>Mahindra Bolero 2011-2019 DI - AC BS III</td>\n",
              "      <td>2016</td>\n",
              "      <td>600000</td>\n",
              "      <td>120000</td>\n",
              "      <td>Diesel</td>\n",
              "      <td>Individual</td>\n",
              "      <td>Manual</td>\n",
              "      <td>First Owner</td>\n",
              "      <td>15.96 kmpl</td>\n",
              "      <td>2523 CC</td>\n",
              "      <td>63 bhp</td>\n",
              "      <td>180Nm@ 1440-1500rpm</td>\n",
              "      <td>9.0</td>\n",
              "    </tr>\n",
              "  </tbody>\n",
              "</table>\n",
              "</div>\n",
              "      <button class=\"colab-df-convert\" onclick=\"convertToInteractive('df-ecacbfd6-aab5-46e7-9452-c1cf5361c582')\"\n",
              "              title=\"Convert this dataframe to an interactive table.\"\n",
              "              style=\"display:none;\">\n",
              "        \n",
              "  <svg xmlns=\"http://www.w3.org/2000/svg\" height=\"24px\"viewBox=\"0 0 24 24\"\n",
              "       width=\"24px\">\n",
              "    <path d=\"M0 0h24v24H0V0z\" fill=\"none\"/>\n",
              "    <path d=\"M18.56 5.44l.94 2.06.94-2.06 2.06-.94-2.06-.94-.94-2.06-.94 2.06-2.06.94zm-11 1L8.5 8.5l.94-2.06 2.06-.94-2.06-.94L8.5 2.5l-.94 2.06-2.06.94zm10 10l.94 2.06.94-2.06 2.06-.94-2.06-.94-.94-2.06-.94 2.06-2.06.94z\"/><path d=\"M17.41 7.96l-1.37-1.37c-.4-.4-.92-.59-1.43-.59-.52 0-1.04.2-1.43.59L10.3 9.45l-7.72 7.72c-.78.78-.78 2.05 0 2.83L4 21.41c.39.39.9.59 1.41.59.51 0 1.02-.2 1.41-.59l7.78-7.78 2.81-2.81c.8-.78.8-2.07 0-2.86zM5.41 20L4 18.59l7.72-7.72 1.47 1.35L5.41 20z\"/>\n",
              "  </svg>\n",
              "      </button>\n",
              "      \n",
              "  <style>\n",
              "    .colab-df-container {\n",
              "      display:flex;\n",
              "      flex-wrap:wrap;\n",
              "      gap: 12px;\n",
              "    }\n",
              "\n",
              "    .colab-df-convert {\n",
              "      background-color: #E8F0FE;\n",
              "      border: none;\n",
              "      border-radius: 50%;\n",
              "      cursor: pointer;\n",
              "      display: none;\n",
              "      fill: #1967D2;\n",
              "      height: 32px;\n",
              "      padding: 0 0 0 0;\n",
              "      width: 32px;\n",
              "    }\n",
              "\n",
              "    .colab-df-convert:hover {\n",
              "      background-color: #E2EBFA;\n",
              "      box-shadow: 0px 1px 2px rgba(60, 64, 67, 0.3), 0px 1px 3px 1px rgba(60, 64, 67, 0.15);\n",
              "      fill: #174EA6;\n",
              "    }\n",
              "\n",
              "    [theme=dark] .colab-df-convert {\n",
              "      background-color: #3B4455;\n",
              "      fill: #D2E3FC;\n",
              "    }\n",
              "\n",
              "    [theme=dark] .colab-df-convert:hover {\n",
              "      background-color: #434B5C;\n",
              "      box-shadow: 0px 1px 3px 1px rgba(0, 0, 0, 0.15);\n",
              "      filter: drop-shadow(0px 1px 2px rgba(0, 0, 0, 0.3));\n",
              "      fill: #FFFFFF;\n",
              "    }\n",
              "  </style>\n",
              "\n",
              "      <script>\n",
              "        const buttonEl =\n",
              "          document.querySelector('#df-ecacbfd6-aab5-46e7-9452-c1cf5361c582 button.colab-df-convert');\n",
              "        buttonEl.style.display =\n",
              "          google.colab.kernel.accessAllowed ? 'block' : 'none';\n",
              "\n",
              "        async function convertToInteractive(key) {\n",
              "          const element = document.querySelector('#df-ecacbfd6-aab5-46e7-9452-c1cf5361c582');\n",
              "          const dataTable =\n",
              "            await google.colab.kernel.invokeFunction('convertToInteractive',\n",
              "                                                     [key], {});\n",
              "          if (!dataTable) return;\n",
              "\n",
              "          const docLinkHtml = 'Like what you see? Visit the ' +\n",
              "            '<a target=\"_blank\" href=https://colab.research.google.com/notebooks/data_table.ipynb>data table notebook</a>'\n",
              "            + ' to learn more about interactive tables.';\n",
              "          element.innerHTML = '';\n",
              "          dataTable['output_type'] = 'display_data';\n",
              "          await google.colab.output.renderOutput(dataTable, element);\n",
              "          const docLink = document.createElement('div');\n",
              "          docLink.innerHTML = docLinkHtml;\n",
              "          element.appendChild(docLink);\n",
              "        }\n",
              "      </script>\n",
              "    </div>\n",
              "  </div>\n",
              "  "
            ]
          },
          "metadata": {},
          "execution_count": 9
        }
      ]
    },
    {
      "cell_type": "markdown",
      "source": [
        "# Предобработка данных"
      ],
      "metadata": {
        "id": "e-LvKj-Loz3k"
      }
    },
    {
      "cell_type": "markdown",
      "source": [
        "Выясним, нужна ли нам переменная name."
      ],
      "metadata": {
        "id": "REAg936UkLRI"
      }
    },
    {
      "cell_type": "code",
      "source": [
        "df.name.nunique()"
      ],
      "metadata": {
        "colab": {
          "base_uri": "https://localhost:8080/"
        },
        "id": "fFjlsU9YkEYv",
        "outputId": "4f203bbe-de5a-4e1f-bb1b-336541f9c6d9"
      },
      "execution_count": null,
      "outputs": [
        {
          "output_type": "execute_result",
          "data": {
            "text/plain": [
              "1853"
            ]
          },
          "metadata": {},
          "execution_count": 10
        }
      ]
    },
    {
      "cell_type": "markdown",
      "source": [
        "Видим, что у нас 1853 различных класса. Если делать one-hot encoding, получится 1852 лишние переменные, что сильно усложнит модель и снизит интерпретируемость данных. Этой колонкой мы вполне можем пожертвовать."
      ],
      "metadata": {
        "id": "ObuNNIKskU2U"
      }
    },
    {
      "cell_type": "code",
      "source": [
        "df = df.drop(columns=['name'])"
      ],
      "metadata": {
        "id": "zaDpMtmho6Mn"
      },
      "execution_count": null,
      "outputs": []
    },
    {
      "cell_type": "markdown",
      "source": [
        "## Year"
      ],
      "metadata": {
        "id": "82EB3dIau8iR"
      }
    },
    {
      "cell_type": "markdown",
      "source": [
        "Посмотрим на то, какие годы представлены в колонке year, максимальное и минимальное значение."
      ],
      "metadata": {
        "id": "f4X5ajw-k4va"
      }
    },
    {
      "cell_type": "code",
      "source": [
        "print('Число уникальных элементов в столбце:', df.year.nunique())\n",
        "print('Годы представлены в диапазоне от', df.year.unique().min(), 'до', df.year.unique().max())"
      ],
      "metadata": {
        "colab": {
          "base_uri": "https://localhost:8080/"
        },
        "id": "mEDMRkAKlDrI",
        "outputId": "6225ec33-0728-4ba4-d97d-93c9cef4094d"
      },
      "execution_count": null,
      "outputs": [
        {
          "output_type": "stream",
          "name": "stdout",
          "text": [
            "Число уникальных элементов в столбце: 26\n",
            "Годы представлены в диапазоне от 1994 до 2020\n"
          ]
        }
      ]
    },
    {
      "cell_type": "markdown",
      "source": [
        "Представляется более логичным и удобным определить на основании года возраст машины."
      ],
      "metadata": {
        "id": "winALKZ6l4V5"
      }
    },
    {
      "cell_type": "code",
      "source": [
        "df['age'] = 2021 - df['year']"
      ],
      "metadata": {
        "id": "BfX2h748mDeI"
      },
      "execution_count": null,
      "outputs": []
    },
    {
      "cell_type": "markdown",
      "source": [
        "Интересно посмотреть на распределение по годам."
      ],
      "metadata": {
        "id": "NHoMowh2l1QY"
      }
    },
    {
      "cell_type": "code",
      "source": [
        "sns.histplot(df.age)"
      ],
      "metadata": {
        "colab": {
          "base_uri": "https://localhost:8080/",
          "height": 467
        },
        "id": "gngsWXJvm43A",
        "outputId": "8b5ec60c-1545-43f7-b888-b0731014ff49"
      },
      "execution_count": null,
      "outputs": [
        {
          "output_type": "execute_result",
          "data": {
            "text/plain": [
              "<Axes: xlabel='age', ylabel='Count'>"
            ]
          },
          "metadata": {},
          "execution_count": 14
        },
        {
          "output_type": "display_data",
          "data": {
            "text/plain": [
              "<Figure size 640x480 with 1 Axes>"
            ],
            "image/png": "[encoded data removed]"
          },
          "metadata": {}
        }
      ]
    },
    {
      "cell_type": "markdown",
      "source": [
        "Как видим, данные распределены неравномерно, подавляющее большинство машин не старше 13 лет. Попробуем сбалансировать данные."
      ],
      "metadata": {
        "id": "_ZWUjYkYnP8B"
      }
    },
    {
      "cell_type": "code",
      "source": [
        "print('Количество машин старше 13 лет:', df[df.age > 13].shape[0])"
      ],
      "metadata": {
        "colab": {
          "base_uri": "https://localhost:8080/"
        },
        "id": "IJAouRDZni8z",
        "outputId": "877d5ae2-13a7-4e95-dda4-cde7fd6c2420"
      },
      "execution_count": null,
      "outputs": [
        {
          "output_type": "stream",
          "name": "stdout",
          "text": [
            "Количество машин старше 13 лет: 440\n"
          ]
        }
      ]
    },
    {
      "cell_type": "markdown",
      "source": [
        "Заменим все возрасты больше 13 цифрой 14."
      ],
      "metadata": {
        "id": "Ve2rWQoeoeLd"
      }
    },
    {
      "cell_type": "code",
      "source": [
        "df['age'] = np.where(df['age'] > 13, 14, df['age'])\n",
        "df.age.nunique()"
      ],
      "metadata": {
        "colab": {
          "base_uri": "https://localhost:8080/"
        },
        "id": "7W1bhtYiomp5",
        "outputId": "10afb34c-7a92-45c0-cea7-5826218dfb22"
      },
      "execution_count": null,
      "outputs": [
        {
          "output_type": "execute_result",
          "data": {
            "text/plain": [
              "14"
            ]
          },
          "metadata": {},
          "execution_count": 16
        }
      ]
    },
    {
      "cell_type": "code",
      "source": [
        "sns.histplot(df.age)"
      ],
      "metadata": {
        "colab": {
          "base_uri": "https://localhost:8080/",
          "height": 467
        },
        "id": "03Vpo45Jo9mf",
        "outputId": "1bfd7aa8-c137-4021-cf0b-bc7e33da31a3"
      },
      "execution_count": null,
      "outputs": [
        {
          "output_type": "execute_result",
          "data": {
            "text/plain": [
              "<Axes: xlabel='age', ylabel='Count'>"
            ]
          },
          "metadata": {},
          "execution_count": 17
        },
        {
          "output_type": "display_data",
          "data": {
            "text/plain": [
              "<Figure size 640x480 with 1 Axes>"
            ],
            "image/png": "[encoded data removed]"
          },
          "metadata": {}
        }
      ]
    },
    {
      "cell_type": "markdown",
      "source": [
        "С таким распределением нашей модели будет гораздо легче справиться."
      ],
      "metadata": {
        "id": "VySuPET9pAwj"
      }
    },
    {
      "cell_type": "code",
      "source": [
        "sns.scatterplot(x=df['age'], y=df['selling_price'])"
      ],
      "metadata": {
        "colab": {
          "base_uri": "https://localhost:8080/",
          "height": 483
        },
        "id": "NHwC6tR41IPy",
        "outputId": "2ed1a3a5-70a8-45b1-d52e-67f92e457757"
      },
      "execution_count": null,
      "outputs": [
        {
          "output_type": "execute_result",
          "data": {
            "text/plain": [
              "<Axes: xlabel='age', ylabel='selling_price'>"
            ]
          },
          "metadata": {},
          "execution_count": 19
        },
        {
          "output_type": "display_data",
          "data": {
            "text/plain": [
              "<Figure size 640x480 with 1 Axes>"
            ],
            "image/png": "[encoded data removed]"
          },
          "metadata": {}
        }
      ]
    },
    {
      "cell_type": "markdown",
      "source": [
        "Как видим, стоимость лишь частично коррелирует с возрастом автомобиля."
      ],
      "metadata": {
        "id": "fUd7R0YZ1m3B"
      }
    },
    {
      "cell_type": "markdown",
      "source": [
        "##Mileage"
      ],
      "metadata": {
        "id": "KI_0GYgevF0E"
      }
    },
    {
      "cell_type": "markdown",
      "source": [
        "Посмотрим на переменную milage."
      ],
      "metadata": {
        "id": "XxwGQWaxpM01"
      }
    },
    {
      "cell_type": "code",
      "source": [
        "df['mileage'].unique()"
      ],
      "metadata": {
        "colab": {
          "base_uri": "https://localhost:8080/"
        },
        "id": "85tg3fBPpQwF",
        "outputId": "33bb775c-f872-42bc-baaf-fe217e4bbcdc"
      },
      "execution_count": null,
      "outputs": [
        {
          "output_type": "execute_result",
          "data": {
            "text/plain": [
              "array(['23.4 kmpl', '21.14 kmpl', '23.0 kmpl', '16.1 kmpl', '20.14 kmpl',\n",
              "       '17.3 km/kg', '23.59 kmpl', '20.0 kmpl', '19.01 kmpl', '17.3 kmpl',\n",
              "       '19.3 kmpl', '18.9 kmpl', '18.15 kmpl', '19.7 kmpl', '22.54 kmpl',\n",
              "       '21.0 kmpl', '25.5 kmpl', '26.59 kmpl', '21.5 kmpl', '21.4 kmpl',\n",
              "       '24.7 kmpl', '18.2 kmpl', '16.8 kmpl', '24.3 kmpl', '14.0 kmpl',\n",
              "       '33.44 km/kg', '23.95 kmpl', '17.0 kmpl', '20.63 kmpl',\n",
              "       '13.93 kmpl', '16.0 kmpl', '17.8 kmpl', '12.55 kmpl', '12.99 kmpl',\n",
              "       '14.8 kmpl', '13.5 kmpl', '26.0 kmpl', '27.3 kmpl', '11.36 kmpl',\n",
              "       '17.68 kmpl', '18.53 kmpl', '14.84 kmpl', '21.12 kmpl',\n",
              "       '20.36 kmpl', '21.27 kmpl', '18.16 kmpl', '22.0 kmpl', '25.1 kmpl',\n",
              "       '20.51 kmpl', '21.66 kmpl', '25.2 kmpl', '22.9 kmpl', '16.02 kmpl',\n",
              "       '20.54 kmpl', '22.77 kmpl', '15.71 kmpl', '23.1 kmpl',\n",
              "       '19.02 kmpl', '19.81 kmpl', '26.2 km/kg', '16.47 kmpl',\n",
              "       '15.04 kmpl', '18.5 kmpl', '19.1 kmpl', '21.79 kmpl', '18.8 kmpl',\n",
              "       '21.21 kmpl', '11.79 kmpl', '19.0 kmpl', '14.3 kmpl', '15.1 kmpl',\n",
              "       '19.09 kmpl', '22.32 kmpl', '21.9 kmpl', '14.53 kmpl',\n",
              "       '21.63 kmpl', '20.85 kmpl', '20.45 kmpl', '19.67 kmpl',\n",
              "       '23.01 kmpl', '17.92 kmpl', '20.77 kmpl', '17.01 kmpl',\n",
              "       '22.37 kmpl', '19.33 kmpl', '12.83 kmpl', '22.48 kmpl',\n",
              "       '16.78 kmpl', '14.67 kmpl', '15.0 kmpl', '13.96 kmpl',\n",
              "       '14.28 kmpl', '18.0 kmpl', '12.07 kmpl', '26.21 kmpl', '10.8 kmpl',\n",
              "       '13.6 kmpl', '16.3 kmpl', '14.74 kmpl', '15.6 kmpl', '19.56 kmpl',\n",
              "       '22.69 kmpl', '19.16 kmpl', '18.12 kmpl', '12.1 kmpl', '17.5 kmpl',\n",
              "       '42.0 kmpl', '20.4 kmpl', '18.6 kmpl', '21.1 kmpl', '19.44 kmpl',\n",
              "       '13.0 kmpl', '21.43 kmpl', '22.95 kmpl', '15.3 kmpl', '28.09 kmpl',\n",
              "       '20.3 kmpl', '17.4 kmpl', '26.6 km/kg', '17.6 kmpl', '28.4 kmpl',\n",
              "       '14.1 kmpl', '22.74 kmpl', '17.57 kmpl', '16.95 kmpl',\n",
              "       '17.21 kmpl', '25.17 kmpl', '15.37 kmpl', '13.2 kmpl',\n",
              "       '24.52 kmpl', '14.2 kmpl', '19.4 kmpl', '26.8 kmpl', '25.4 kmpl',\n",
              "       '27.28 kmpl', '17.97 kmpl', '12.8 kmpl', '16.55 kmpl',\n",
              "       '12.05 kmpl', '21.02 kmpl', '17.9 kmpl', '15.96 kmpl', '17.1 kmpl',\n",
              "       '17.19 kmpl', '21.01 kmpl', '24.0 kmpl', '25.6 kmpl', '21.38 kmpl',\n",
              "       '23.84 kmpl', '23.08 kmpl', '14.24 kmpl', '20.71 kmpl',\n",
              "       '15.64 kmpl', '14.5 kmpl', '16.34 kmpl', '27.39 kmpl', '11.1 kmpl',\n",
              "       '20.88 km/kg', '20.92 kmpl', '23.8 kmpl', '24.4 kmpl',\n",
              "       '15.29 kmpl', '21.19 kmpl', '22.5 kmpl', '19.6 kmpl', '23.65 kmpl',\n",
              "       '11.5 kmpl', '19.49 kmpl', '16.2 kmpl', '23.5 kmpl', '16.6 kmpl',\n",
              "       '23.9 kmpl', '25.32 kmpl', '20.8 kmpl', '27.62 kmpl', '12.9 kmpl',\n",
              "       '25.44 kmpl', '17.88 kmpl', '17.2 kmpl', '15.42 kmpl',\n",
              "       '19.68 kmpl', '18.7 kmpl', '15.4 kmpl', '17.7 kmpl', '19.34 kmpl',\n",
              "       '22.7 kmpl', '22.71 kmpl', '13.7 kmpl', '12.2 kmpl', '18.49 kmpl',\n",
              "       '9.0 kmpl', '0.0 kmpl', '13.58 kmpl', '10.1 kmpl', '20.5 kmpl',\n",
              "       '25.0 kmpl', '10.5 kmpl', '22.07 kmpl', '15.26 kmpl', '20.62 kmpl',\n",
              "       '27.4 kmpl', '25.8 kmpl', '23.2 kmpl', '18.4 kmpl', '30.46 km/kg',\n",
              "       '14.02 kmpl', '11.0 kmpl', '20.6 kmpl', '22.3 kmpl', '20.2 kmpl',\n",
              "       '22.1 kmpl', '19.87 kmpl', '13.01 kmpl', '18.06 kmpl', '13.9 kmpl',\n",
              "       '16.52 kmpl', '13.55 kmpl', '24.2 kmpl', '25.83 kmpl', '11.2 kmpl',\n",
              "       '18.1 kmpl', '17.09 kmpl', '21.03 kmpl', '21.94 km/kg',\n",
              "       '13.87 kmpl', '19.98 kmpl', '20.52 kmpl', '23.57 kmpl',\n",
              "       '11.57 kmpl', '11.7 kmpl', '17.43 kmpl', '13.68 kmpl',\n",
              "       '11.18 kmpl', '20.89 kmpl', '19.62 kmpl', '21.7 kmpl', '14.9 kmpl',\n",
              "       '10.91 kmpl', '19.5 kmpl', '15.7 kmpl', '15.85 kmpl', '9.5 kmpl',\n",
              "       '20.7 kmpl', '14.23 kmpl', '16.5 kmpl', '17.36 kmpl', '17.45 kmpl',\n",
              "       '12.6 kmpl', '16.36 kmpl', '16.9 kmpl', '19.2 kmpl', '16.96 kmpl',\n",
              "       '22.15 kmpl', '18.78 kmpl', '19.61 kmpl', '17.71 kmpl',\n",
              "       '18.3 kmpl', '19.12 kmpl', '19.72 kmpl', '12.0 kmpl', '23.03 kmpl',\n",
              "       '11.07 kmpl', '15.9 kmpl', '17.67 kmpl', '13.1 kmpl', '11.4 kmpl',\n",
              "       '13.45 km/kg', '14.95 kmpl', '21.64 kmpl', '24.8 kmpl',\n",
              "       '15.73 kmpl', '15.8 kmpl', '15.11 kmpl', '18.88 kmpl', '12.7 kmpl',\n",
              "       '21.2 kmpl', '20.38 kmpl', '21.56 kmpl', '13.22 kmpl',\n",
              "       '14.49 kmpl', '15.05 kmpl', '20.73 kmpl', '23.26 kmpl',\n",
              "       '15.41 kmpl', '13.8 kmpl', '22.27 kmpl', '32.52 km/kg',\n",
              "       '14.66 kmpl', '12.12 kmpl', '16.84 kmpl', '14.09 kmpl',\n",
              "       '14.7 kmpl', '20.46 kmpl', '13.4 kmpl', '13.49 kmpl',\n",
              "       '11.88 km/kg', '14.6 kmpl', '10.75 kmpl', '15.5 kmpl', '24.5 kmpl',\n",
              "       '11.74 kmpl', '16.07 kmpl', '15.63 kmpl', '26.3 km/kg',\n",
              "       '23.7 km/kg', '25.47 kmpl', '23.3 kmpl', '11.9 kmpl', '13.38 kmpl',\n",
              "       '20.86 kmpl', '19.2 km/kg', '10.9 kmpl', '18.25 kmpl', '15.2 kmpl',\n",
              "       '20.37 kmpl', '17.8 km/kg', '22.05 kmpl', '21.8 kmpl',\n",
              "       '11.96 kmpl', '24.04 kmpl', '19.69 kmpl', '13.73 kmpl',\n",
              "       '21.04 kmpl', '25.01 kmpl', '10.93 kmpl', '10.9 km/kg',\n",
              "       '24.29 kmpl', '13.44 kmpl', '19.08 kmpl', '20.34 kmpl',\n",
              "       '11.68 kmpl', '12.5 kmpl', '12.3 kmpl', '23.87 kmpl', '16.38 kmpl',\n",
              "       '17.42 kmpl', '10.0 kmpl', '18.24 kmpl', '10.71 kmpl',\n",
              "       '14.07 kmpl', '19.59 kmpl', '16.7 kmpl', '19.83 kmpl',\n",
              "       '21.76 kmpl', '16.05 kmpl', '20.28 kmpl', '16.25 kmpl',\n",
              "       '18.48 kmpl', '13.2 km/kg', '21.4 km/kg', '14.99 kmpl',\n",
              "       '18.76 kmpl', '16.4 kmpl', '19.64 kmpl', '14.94 kmpl',\n",
              "       '16.6 km/kg', '16.0 km/kg', '17.11 kmpl', '14.4 kmpl',\n",
              "       '22.8 km/kg', '33.0 km/kg', '12.4 kmpl', '18.44 kmpl',\n",
              "       '16.09 kmpl', '19.0 km/kg', '20.65 kmpl', '12.62 kmpl',\n",
              "       '21.13 kmpl', '26.1 kmpl', '15.17 kmpl', '21.73 kmpl',\n",
              "       '21.72 kmpl', '13.24 kmpl', '14.4 km/kg', '21.49 kmpl',\n",
              "       '14.62 kmpl', '26.83 km/kg', '11.45 kmpl', '12.08 kmpl',\n",
              "       '15.74 kmpl', '14.81 kmpl', '11.3 kmpl', '15.1 km/kg',\n",
              "       '14.21 kmpl', '11.72 kmpl', '16.51 kmpl'], dtype=object)"
            ]
          },
          "metadata": {},
          "execution_count": 18
        }
      ]
    },
    {
      "cell_type": "markdown",
      "source": [
        "Как видим, числа находятся в разных диапазонах: км/л или км/кг. Хотелось бы это унифицировать, однако проблема в том, что у разного топлива разная плотность. Поэтому пока разобьем на две колонки: значение и единица"
      ],
      "metadata": {
        "id": "v23ww7-SpQA7"
      }
    },
    {
      "cell_type": "code",
      "source": [
        "df['mileage_count'] = df['mileage'].apply(lambda x: float(x.split(' ')[0]) if type(x) == str else None)"
      ],
      "metadata": {
        "id": "COEX-449p8iz"
      },
      "execution_count": null,
      "outputs": []
    },
    {
      "cell_type": "code",
      "source": [
        "df['mileage_measure'] = df['mileage'].apply(lambda x: x.split(' ')[1] if type(x) == str else None)"
      ],
      "metadata": {
        "id": "Msi4ZUALs2P9"
      },
      "execution_count": null,
      "outputs": []
    },
    {
      "cell_type": "markdown",
      "source": [
        "Убедимся, что данные не потеряны."
      ],
      "metadata": {
        "id": "oEh4ZJ_6stH9"
      }
    },
    {
      "cell_type": "code",
      "source": [
        "df.mileage.isna().sum() == df.mileage_count.isna().sum()"
      ],
      "metadata": {
        "colab": {
          "base_uri": "https://localhost:8080/"
        },
        "id": "vXFsMM6tsRFf",
        "outputId": "fbdde7f6-a638-4c6a-e948-67129825478e"
      },
      "execution_count": null,
      "outputs": [
        {
          "output_type": "execute_result",
          "data": {
            "text/plain": [
              "True"
            ]
          },
          "metadata": {},
          "execution_count": 22
        }
      ]
    },
    {
      "cell_type": "markdown",
      "source": [
        "Посмотрим, в каких случаях у нас меняется единица измерения. По логике вещей, это должно быть связано с типом топлива."
      ],
      "metadata": {
        "id": "Y9j3yXYOswb7"
      }
    },
    {
      "cell_type": "code",
      "source": [
        "df[df['mileage_measure'] == 'km/kg'].fuel.unique()"
      ],
      "metadata": {
        "colab": {
          "base_uri": "https://localhost:8080/"
        },
        "id": "9kcQYv8vtO3m",
        "outputId": "bde0f907-0349-481e-e2fd-e05b5165b2e8"
      },
      "execution_count": null,
      "outputs": [
        {
          "output_type": "execute_result",
          "data": {
            "text/plain": [
              "array(['LPG', 'CNG'], dtype=object)"
            ]
          },
          "metadata": {},
          "execution_count": 23
        }
      ]
    },
    {
      "cell_type": "code",
      "source": [
        "df[df['mileage_measure'] == 'kmpl'].fuel.unique()"
      ],
      "metadata": {
        "colab": {
          "base_uri": "https://localhost:8080/"
        },
        "id": "Z5SjoDZqtnj6",
        "outputId": "39ef5b09-f747-4347-aaf1-c59d44add378"
      },
      "execution_count": null,
      "outputs": [
        {
          "output_type": "execute_result",
          "data": {
            "text/plain": [
              "array(['Diesel', 'Petrol'], dtype=object)"
            ]
          },
          "metadata": {},
          "execution_count": 24
        }
      ]
    },
    {
      "cell_type": "markdown",
      "source": [
        "Видимо, в случае с электрическим топливом mileage == None. Путем простого гугления получаем, что литр дизеля весит 0,84 кг, литр бензина 0,75 кг. Что и применим к данным."
      ],
      "metadata": {
        "id": "0x9Hm0h1tyZa"
      }
    },
    {
      "cell_type": "code",
      "source": [
        "df['mileage_count'][df.fuel=='Petrol'] = df['mileage_count'][df.fuel=='Petrol'].apply(lambda x: x * 0.75)"
      ],
      "metadata": {
        "colab": {
          "base_uri": "https://localhost:8080/"
        },
        "id": "XDY2X7hgNoDv",
        "outputId": "ccc36292-b212-4587-c12c-08dd1543bc1f"
      },
      "execution_count": null,
      "outputs": [
        {
          "output_type": "stream",
          "name": "stderr",
          "text": [
            "<ipython-input-25-dc8cdcf09e50>:1: SettingWithCopyWarning: \n",
            "A value is trying to be set on a copy of a slice from a DataFrame\n",
            "\n",
            "See the caveats in the documentation: https://pandas.pydata.org/pandas-docs/stable/user_guide/indexing.html#returning-a-view-versus-a-copy\n",
            "  df['mileage_count'][df.fuel=='Petrol'] = df['mileage_count'][df.fuel=='Petrol'].apply(lambda x: x * 0.75)\n"
          ]
        }
      ]
    },
    {
      "cell_type": "code",
      "source": [
        "df['mileage_count'][df.fuel=='Diesel'] = df['mileage_count'][df.fuel=='Diesel'].apply(lambda x: x * 0.85)"
      ],
      "metadata": {
        "colab": {
          "base_uri": "https://localhost:8080/"
        },
        "id": "KRCMnRkAQ4qZ",
        "outputId": "72d1cc7b-66c8-4f6b-a206-030fd3d8919d"
      },
      "execution_count": null,
      "outputs": [
        {
          "output_type": "stream",
          "name": "stderr",
          "text": [
            "<ipython-input-26-6b58cf86ffbf>:1: SettingWithCopyWarning: \n",
            "A value is trying to be set on a copy of a slice from a DataFrame\n",
            "\n",
            "See the caveats in the documentation: https://pandas.pydata.org/pandas-docs/stable/user_guide/indexing.html#returning-a-view-versus-a-copy\n",
            "  df['mileage_count'][df.fuel=='Diesel'] = df['mileage_count'][df.fuel=='Diesel'].apply(lambda x: x * 0.85)\n"
          ]
        }
      ]
    },
    {
      "cell_type": "markdown",
      "source": [
        "Mileage_measure можно убрать, так как эта информация содержится в столбце fuel."
      ],
      "metadata": {
        "id": "UKtL7XsJNZPx"
      }
    },
    {
      "cell_type": "code",
      "source": [
        "df = df.drop(columns=['mileage_measure'])"
      ],
      "metadata": {
        "id": "YDM1OT2epf3E"
      },
      "execution_count": null,
      "outputs": []
    },
    {
      "cell_type": "markdown",
      "source": [
        "Посмотрим, как mileage соотносится с selling price."
      ],
      "metadata": {
        "id": "l8lIyXVA2FjO"
      }
    },
    {
      "cell_type": "code",
      "source": [
        "sns.scatterplot(x=df['mileage_count'], y=df['selling_price'])"
      ],
      "metadata": {
        "colab": {
          "base_uri": "https://localhost:8080/",
          "height": 483
        },
        "outputId": "dd7aed63-0210-4a87-8fc6-959b8bfada01",
        "id": "jXTSz8ZO2MrW"
      },
      "execution_count": null,
      "outputs": [
        {
          "output_type": "execute_result",
          "data": {
            "text/plain": [
              "<Axes: xlabel='mileage_count', ylabel='selling_price'>"
            ]
          },
          "metadata": {},
          "execution_count": 28
        },
        {
          "output_type": "display_data",
          "data": {
            "text/plain": [
              "<Figure size 640x480 with 1 Axes>"
            ],
            "image/png": "[encoded data removed]"
          },
          "metadata": {}
        }
      ]
    },
    {
      "cell_type": "markdown",
      "source": [
        "Очень слабая зависимость."
      ],
      "metadata": {
        "id": "OXV19OPZ2UK-"
      }
    },
    {
      "cell_type": "markdown",
      "source": [
        "##Engine"
      ],
      "metadata": {
        "id": "EjFsIc2fvJt_"
      }
    },
    {
      "cell_type": "markdown",
      "source": [
        "Посмотрим на данные."
      ],
      "metadata": {
        "id": "aUAsI-oRvRFX"
      }
    },
    {
      "cell_type": "code",
      "source": [
        "df.engine.unique()"
      ],
      "metadata": {
        "colab": {
          "base_uri": "https://localhost:8080/"
        },
        "id": "EEuwke_8vT2h",
        "outputId": "8eb39dbd-9255-4df5-9f57-4e1b3d41210a"
      },
      "execution_count": null,
      "outputs": [
        {
          "output_type": "execute_result",
          "data": {
            "text/plain": [
              "array(['1248 CC', '1498 CC', '1396 CC', '1298 CC', '1197 CC', '1061 CC',\n",
              "       '796 CC', '1364 CC', '1399 CC', '1461 CC', '993 CC', '1198 CC',\n",
              "       '998 CC', '1591 CC', '2179 CC', '1368 CC', '1497 CC', '2982 CC',\n",
              "       '2494 CC', '2143 CC', '2477 CC', '2755 CC', '1968 CC', '1196 CC',\n",
              "       '1373 CC', '1598 CC', '1998 CC', '1086 CC', '1194 CC', '1798 CC',\n",
              "       '1405 CC', '1582 CC', '999 CC', '2487 CC', '1999 CC', '2987 CC',\n",
              "       '1995 CC', '1451 CC', '1969 CC', '2967 CC', '2497 CC', '1797 CC',\n",
              "       '1991 CC', '2362 CC', '1493 CC', '1341 CC', '1199 CC', '1794 CC',\n",
              "       '1193 CC', '2696 CC', '799 CC', '1495 CC', '1186 CC', '1047 CC',\n",
              "       '2498 CC', '2523 CC', '1120 CC', '624 CC', '1496 CC', '1984 CC',\n",
              "       '2354 CC', '793 CC', '1799 CC', '936 CC', '1956 CC', '814 CC',\n",
              "       '1997 CC', '1948 CC', '2997 CC', '1172 CC', '2489 CC', '2499 CC',\n",
              "       '2609 CC', '2953 CC', '1150 CC', '1994 CC', '1388 CC', '1462 CC',\n",
              "       '2956 CC', '1527 CC', '2199 CC', '995 CC', '1599 CC', '2993 CC',\n",
              "       '1586 CC', '1390 CC', '909 CC', '2393 CC', '3198 CC', '1499 CC',\n",
              "       '3604 CC', '1339 CC', '2092 CC', '1595 CC', '2496 CC', '1596 CC',\n",
              "       '1597 CC', '2596 CC', '2148 CC', '1299 CC', '1590 CC', '2231 CC',\n",
              "       '2694 CC', '2200 CC', '1795 CC', '1896 CC', '1796 CC', '1422 CC',\n",
              "       '1489 CC', '2359 CC', '2197 CC', '2999 CC', '1781 CC', '2650 CC',\n",
              "       '1343 CC', '2446 CC', '3498 CC', '2198 CC', '2776 CC', '1950 CC'],\n",
              "      dtype=object)"
            ]
          },
          "metadata": {},
          "execution_count": 27
        }
      ]
    },
    {
      "cell_type": "markdown",
      "source": [
        "Единица измерения одна, поэтому обработать колонку гораздо проще."
      ],
      "metadata": {
        "id": "dxyVym7WvZym"
      }
    },
    {
      "cell_type": "code",
      "source": [
        "df['engine_volume'] = df['engine'].apply(lambda x: float(x.split(' ')[0]) if type(x) == str else None)"
      ],
      "metadata": {
        "id": "WrbRLF96voe4"
      },
      "execution_count": null,
      "outputs": []
    },
    {
      "cell_type": "code",
      "source": [
        "sns.scatterplot(x=df['engine_volume'], y=df['selling_price'])"
      ],
      "metadata": {
        "colab": {
          "base_uri": "https://localhost:8080/",
          "height": 483
        },
        "outputId": "9f9e449f-4f0b-4588-cce2-8387349e0cf2",
        "id": "eM49DSHQ2ZGc"
      },
      "execution_count": null,
      "outputs": [
        {
          "output_type": "execute_result",
          "data": {
            "text/plain": [
              "<Axes: xlabel='engine_volume', ylabel='selling_price'>"
            ]
          },
          "metadata": {},
          "execution_count": 30
        },
        {
          "output_type": "display_data",
          "data": {
            "text/plain": [
              "<Figure size 640x480 with 1 Axes>"
            ],
            "image/png": "[encoded data removed]"
          },
          "metadata": {}
        }
      ]
    },
    {
      "cell_type": "markdown",
      "source": [
        "Есть тенденция к увеличению стоимости машины при увеличени  объема двигателя."
      ],
      "metadata": {
        "id": "l40KUWP82kiL"
      }
    },
    {
      "cell_type": "markdown",
      "source": [
        "##Max_power"
      ],
      "metadata": {
        "id": "sRlglEiKwBQD"
      }
    },
    {
      "cell_type": "markdown",
      "source": [
        "Так же поступим с max_power."
      ],
      "metadata": {
        "id": "71tOkQVBwFHK"
      }
    },
    {
      "cell_type": "code",
      "source": [
        "df.max_power.unique()"
      ],
      "metadata": {
        "colab": {
          "base_uri": "https://localhost:8080/"
        },
        "id": "dlS8XDIDv5Ru",
        "outputId": "07c5218b-4de6-4f46-89b6-98fcd0fc2aa3"
      },
      "execution_count": null,
      "outputs": [
        {
          "output_type": "execute_result",
          "data": {
            "text/plain": [
              "array(['74 bhp', '103.52 bhp', '90 bhp', '88.2 bhp', '81.86 bhp',\n",
              "       '57.5 bhp', '37 bhp', '67.1 bhp', '68.1 bhp', '108.45 bhp',\n",
              "       '60 bhp', '73.9 bhp', '67 bhp', '82 bhp', '46.3 bhp', '88.73 bhp',\n",
              "       '64.1 bhp', '98.6 bhp', '88.8 bhp', '83.1 bhp', '47.3 bhp',\n",
              "       '73.8 bhp', '34.2 bhp', '88.5 bhp', '35 bhp', '40.3 bhp',\n",
              "       '121.3 bhp', '138.03 bhp', '160.77 bhp', '117.3 bhp', '116.3 bhp',\n",
              "       '67.05 bhp', '168.5 bhp', '100 bhp', '120.7 bhp', '98.63 bhp',\n",
              "       '175.56 bhp', '171.5 bhp', '100.6 bhp', '174.33 bhp', '187.74 bhp',\n",
              "       '170 bhp', '78.9 bhp', '88.76 bhp', '86.8 bhp', '108.495 bhp',\n",
              "       '108.62 bhp', '93.7 bhp', '103.6 bhp', '98.59 bhp', '189 bhp',\n",
              "       '67.04 bhp', '68.05 bhp', '58.2 bhp', '82.85 bhp', '81.80 bhp',\n",
              "       '120 bhp', '94.68 bhp', '160 bhp', '155 bhp', '69.01 bhp',\n",
              "       '126.32 bhp', '138.1 bhp', '83.14 bhp', '83.8 bhp', '126.2 bhp',\n",
              "       '62.1 bhp', '86.7 bhp', '188 bhp', '214.56 bhp', '177 bhp',\n",
              "       '148.31 bhp', '254.79 bhp', '190 bhp', '177.46 bhp', '204 bhp',\n",
              "       '141 bhp', '241.4 bhp', '282 bhp', '150 bhp', '108.5 bhp',\n",
              "       '147.5 bhp', '103.5 bhp', '183 bhp', '181.04 bhp', '157.7 bhp',\n",
              "       '164.7 bhp', '91.1 bhp', '400 bhp', '68 bhp', '81.83 bhp',\n",
              "       '75 bhp', '85.8 bhp', '87.2 bhp', '53 bhp', '118 bhp', '83 bhp',\n",
              "       '84 bhp', '58.16 bhp', '147.94 bhp', '74.02 bhp', '80 bhp',\n",
              "       '88.7 bhp', '97.7 bhp', '121.36 bhp', '162 bhp', '53.3 bhp',\n",
              "       '140 bhp', '73 bhp', '94 bhp', '100.57 bhp', '82.9 bhp',\n",
              "       '83.11 bhp', '70 bhp', '153.86 bhp', '121 bhp', '126.3 bhp',\n",
              "       '73.97 bhp', '69 bhp', '99.6 bhp', '102 bhp', '105 bhp', '63 bhp',\n",
              "       '79.4 bhp', '97.9 bhp', '63.1 bhp', '66.1 bhp', '174.5 bhp',\n",
              "       '53.26 bhp', '73.75 bhp', '67.06 bhp', '64.08 bhp', '37.5 bhp',\n",
              "       '189.3 bhp', '158.8 bhp', '110 bhp', '117.6 bhp', '61.7 bhp',\n",
              "       '71.01 bhp', '98.96 bhp', '73.74 bhp', '147.9 bhp', '71 bhp',\n",
              "       '121.4 bhp', '77 bhp', '113.4 bhp', '47 bhp', '130 bhp',\n",
              "       '57.6 bhp', '138 bhp', '52.8 bhp', '53.5 bhp', '76.8 bhp',\n",
              "       '82.4 bhp', '113.42 bhp', '76 bhp', '55.2 bhp', '53.64 bhp',\n",
              "       '84.8 bhp', '56.3 bhp', '83.81 bhp', '218 bhp', '65 bhp', '92 bhp',\n",
              "       '105.5 bhp', '169 bhp', '95 bhp', '112 bhp', '72.4 bhp', '115 bhp',\n",
              "       '152 bhp', '91.2 bhp', '156 bhp', '74.9 bhp', '105.3 bhp',\n",
              "       '78 bhp', '73.94 bhp', '85 bhp', '118.3 bhp', '72 bhp', '171 bhp',\n",
              "       '147.51 bhp', '103.2 bhp', '58 bhp', '64 bhp', '126.24 bhp',\n",
              "       '76.9 bhp', '194.3 bhp', '62 bhp', '89.84 bhp', '123.7 bhp',\n",
              "       '118.35 bhp', '99 bhp', '241 bhp', '136 bhp', '261.4 bhp',\n",
              "       '104.68 bhp', '37.48 bhp', '104 bhp', '88.50 bhp', '85.80 bhp',\n",
              "       '63.12 bhp', '91.7 bhp', '102.5 bhp', '177.6 bhp', '45 bhp',\n",
              "       '147.8 bhp', '184 bhp', '84.48 bhp', '68.07 bhp', '74.96 bhp',\n",
              "       '167.6 bhp', '152.87 bhp', '112.2 bhp', '83.83 bhp', '197 bhp',\n",
              "       '110.4 bhp', '280 bhp', '104.55 bhp', '103 bhp', '103.3 bhp',\n",
              "       '66 bhp', '108.6 bhp', '165 bhp', '163.7 bhp', '94.93 bhp',\n",
              "       '127 bhp', '198.5 bhp', '179.5 bhp', '120.69 bhp', '138.08 bhp',\n",
              "       '187.7 bhp', '80.8 bhp', '86.79 bhp', '116.6 bhp', '143 bhp',\n",
              "       '103.25 bhp', '92.7 bhp', '88 bhp', '58.33 bhp', '78.8 bhp',\n",
              "       '64.4 bhp', '125 bhp', '139.01 bhp', '254.8 bhp', '181 bhp',\n",
              "       '258 bhp', '55.23 bhp', '265 bhp', '157.75 bhp', '101 bhp',\n",
              "       '186 bhp', '187.4 bhp', '224 bhp', '64.9 bhp', '148 bhp',\n",
              "       '35.5 bhp', '89.75 bhp', '32.8 bhp', '91.72 bhp', '106 bhp',\n",
              "       '98.97 bhp', '66.6 bhp', '86 bhp', '98.82 bhp', '198.25 bhp',\n",
              "       '65.3 bhp', '132 bhp', '174.57 bhp', '178 bhp', '163.2 bhp',\n",
              "       '203.2 bhp', '175 bhp', '57 bhp', '80.84 bhp', '68.4 bhp',\n",
              "       '167.67 bhp', '170.63 bhp', '52 bhp', '149.5 bhp', '270.9 bhp',\n",
              "       '48.21 bhp', ' bhp', '201.1 bhp', '38 bhp', '194.4 bhp',\n",
              "       '168.7 bhp', '104.5 bhp', '103.26 bhp', '116.4 bhp', '93.87 bhp',\n",
              "       '80.9 bhp', '272 bhp', '235 bhp', '167.62 bhp', '170.30 bhp',\n",
              "       '139.46 bhp', '158 bhp', '110.5 bhp', '121.31 bhp', '99.23 bhp',\n",
              "       '82.5 bhp', '141.1 bhp', '100.5 bhp', '38.4 bhp', '197.2 bhp',\n",
              "       '161 bhp', '194 bhp', '122.4 bhp', '134.10 bhp', '123.37 bhp',\n",
              "       '60.2 bhp', '134 bhp', '203 bhp', '177.5 bhp'], dtype=object)"
            ]
          },
          "metadata": {},
          "execution_count": 29
        }
      ]
    },
    {
      "cell_type": "code",
      "source": [
        "df['max_power_count'] = df['max_power'].apply(lambda x: float(x.strip().split(' ')[0]) if type(x) == str and x!=' bhp' else None)"
      ],
      "metadata": {
        "id": "4kA_G5RTwItN"
      },
      "execution_count": null,
      "outputs": []
    },
    {
      "cell_type": "markdown",
      "source": [
        "Проверим количество Nan-ов"
      ],
      "metadata": {
        "id": "fS70P7YWfNO0"
      }
    },
    {
      "cell_type": "code",
      "source": [
        "print(df.max_power.isna().sum(), df.max_power_count.isna().sum())"
      ],
      "metadata": {
        "colab": {
          "base_uri": "https://localhost:8080/"
        },
        "id": "NZfKCsQPfSvX",
        "outputId": "dde68807-3d89-48a3-fb94-76dc9ef18bbb"
      },
      "execution_count": null,
      "outputs": [
        {
          "output_type": "stream",
          "name": "stdout",
          "text": [
            "0 1\n"
          ]
        }
      ]
    },
    {
      "cell_type": "markdown",
      "source": [
        "Как видим, потеряли всего одно значение, которое в таблице выглядело как ' bhp' (без числа), то есть ничего не потеряли."
      ],
      "metadata": {
        "id": "1Boy1FzEfa70"
      }
    },
    {
      "cell_type": "code",
      "source": [
        "sns.scatterplot(x=df['max_power_count'], y=df['selling_price'])"
      ],
      "metadata": {
        "colab": {
          "base_uri": "https://localhost:8080/",
          "height": 483
        },
        "outputId": "8bc88cd5-5ea6-4da2-c419-2e7ce52de9c7",
        "id": "NJmEZHgX2sHk"
      },
      "execution_count": null,
      "outputs": [
        {
          "output_type": "execute_result",
          "data": {
            "text/plain": [
              "<Axes: xlabel='max_power_count', ylabel='selling_price'>"
            ]
          },
          "metadata": {},
          "execution_count": 33
        },
        {
          "output_type": "display_data",
          "data": {
            "text/plain": [
              "<Figure size 640x480 with 1 Axes>"
            ],
            "image/png": "[encoded data removed]"
          },
          "metadata": {}
        }
      ]
    },
    {
      "cell_type": "markdown",
      "source": [
        "Примерно то же самое, что в предыдущем случае."
      ],
      "metadata": {
        "id": "8ffKdBoK2vvc"
      }
    },
    {
      "cell_type": "markdown",
      "source": [
        "## Torque"
      ],
      "metadata": {
        "id": "AciPcea9J0eT"
      }
    },
    {
      "cell_type": "code",
      "source": [
        "df['torque'].unique()"
      ],
      "metadata": {
        "colab": {
          "base_uri": "https://localhost:8080/"
        },
        "id": "PFIWp4heKgm2",
        "outputId": "4b40bc23-30e9-4eef-e773-76db7543f4c7"
      },
      "execution_count": null,
      "outputs": [
        {
          "output_type": "execute_result",
          "data": {
            "text/plain": [
              "array(['190Nm@ 2000rpm', '250Nm@ 1500-2500rpm',\n",
              "       '22.4 kgm at 1750-2750rpm', '11.5@ 4,500(kgm@ rpm)',\n",
              "       '113.75nm@ 4000rpm', '7.8@ 4,500(kgm@ rpm)', '59Nm@ 2500rpm',\n",
              "       '170Nm@ 1800-2400rpm', '160Nm@ 2000rpm', '248Nm@ 2250rpm',\n",
              "       '78Nm@ 4500rpm', '84Nm@ 3500rpm', '115Nm@ 3500-3600rpm',\n",
              "       '62Nm@ 3000rpm', '219.7Nm@ 1500-2750rpm', '200Nm@ 1750rpm',\n",
              "       '115Nm@ 4000rpm', '69Nm@ 3500rpm', '172.5Nm@ 1750rpm',\n",
              "       '6.1kgm@ 3000rpm', '60Nm@ 3500rpm', '90Nm@ 3500rpm',\n",
              "       '151Nm@ 4850rpm', '104Nm@ 4000rpm', '320Nm@ 1700-2700rpm',\n",
              "       '250Nm@ 1750-2500rpm', '145Nm@ 4600rpm', '146Nm@ 4800rpm',\n",
              "       '343Nm@ 1400-3400rpm', '200Nm@ 1400-3400rpm',\n",
              "       '200Nm@ 1250-4000rpm', '400Nm@ 2000-2500rpm',\n",
              "       '360Nm@ 1200-3400rpm', '200Nm@ 1200-3600rpm',\n",
              "       '380Nm@ 1750-2500rpm', '400Nm@ 1750-3000rpm',\n",
              "       '400Nm@ 1400-2800rpm', '200Nm@ 1750-3000rpm', '111.7Nm@ 4000rpm',\n",
              "       '219.6Nm@ 1500-2750rpm', '112Nm@ 4000rpm', '250Nm@ 1500-3000rpm',\n",
              "       '130Nm@ 4000rpm', '205Nm@ 1750-3250rpm', '280Nm@ 1350-4600rpm',\n",
              "       '99.04Nm@ 4500rpm', '77Nm@ 3500rpm', '110Nm@ 3750rpm',\n",
              "       '153Nm@ 3800rpm', '113.7Nm@ 4000rpm', '114Nm@ 4000rpm',\n",
              "       '113Nm@ 4200rpm', '290Nm@ 1800-2800rpm', '120Nm@ 4250rpm',\n",
              "       '250Nm@ 1500~4500rpm', '360Nm@ 1750-2800rpm', '135Nm@ 2500rpm',\n",
              "       '259.8Nm@ 1900-2750rpm', '173Nm@ 4000rpm', '200Nm@ 1900rpm',\n",
              "       '259.9Nm@ 1900-2750rpm', '91Nm@ 4250rpm', '96.1Nm@ 3000rpm',\n",
              "       '109Nm@ 4500rpm', '400nm@ 1750-3000rpm', '202Nm@ 3600-5200rpm',\n",
              "       '430Nm@ 1750-2500rpm', '382nm@ 1750-2250rpm',\n",
              "       '620Nm@ 1600-2400rpm', '400Nm@ 1750-2500rpm', '250@ 1250-5000rpm',\n",
              "       '500Nm@ 1600-1800rpm', '250Nm@ 1600-3600rpm', '400Nm',\n",
              "       '550Nm@ 1750-2750rpm', '490Nm@ 1600rpm', '250 Nm at 2750 rpm',\n",
              "       '170Nm@ 1750-4000rpm', '177.5Nm@ 4700rpm', '300Nm@ 1200-4000rpm',\n",
              "       '300Nm@ 1200-1400rpm', '260Nm@ 1500-2750rpm', '213Nm@ 4500rpm',\n",
              "       '224Nm@ 4000rpm', '640Nm@ 1740rpm', '114.7Nm@ 4000rpm',\n",
              "       '113Nm@ 4500rpm', '95Nm@ 3000-4300rpm', '13.1kgm@ 4600rpm',\n",
              "       '205Nm@ 1800-2800rpm', '71Nm@ 3500rpm', '190Nm@ 1750-3000rpm',\n",
              "       '146Nm at 4800 rpm', '115Nm@ 3200rpm', '114Nm@ 3500rpm',\n",
              "       '320Nm@ 1500-3000rpm', '11.4 kgm at 4,000 rpm',\n",
              "       '140Nm@ 1500-4000rpm', '134Nm@ 4000rpm', '150Nm@ 4500rpm',\n",
              "       '340Nm@ 1800-3250rpm', '240Nm@ 1600-2800rpm', '72Nm@ 4386rpm',\n",
              "       '330Nm@ 1600-2800rpm', '101Nm@ 3000rpm', '12.5@ 3,500(kgm@ rpm)',\n",
              "       '110Nm@ 4800rpm', '111.8Nm@ 4000rpm', '11.8@ 3,200(kgm@ rpm)',\n",
              "       '135.4Nm@ 2500rpm', '300Nm@ 1750-2500rpm',\n",
              "       '190.25nm@ 1750-2250rpm', '140Nm@ 1800-3000rpm', '117nm@ 4000rpm',\n",
              "       '20.4@ 1400-3400(kgm@ rpm)', '247Nm@ 1800-2000rpm',\n",
              "       '180 Nm at 1440-1500rpm', '195Nm@ 1400-2200rpm',\n",
              "       '154.9Nm@ 4200rpm', '114.73Nm@ 4000rpm', '160Nm@ 1500-2750rpm',\n",
              "       '108Nm@ 4400rpm', '190.24nm@ 1750-2250rpm', '420Nm@ 1400-2600rpm',\n",
              "       '100Nm@ 2700rpm', '51Nm@ 4000rpm', '250Nm@ 1250-5300rpm',\n",
              "       '132Nm@ 3000rpm', '350Nm@ 1500-2750rpm', '218Nm@ 4200rpm',\n",
              "       '24@ 1,900-2,750(kgm@ rpm)', '13.5@ 2,500(kgm@ rpm)',\n",
              "       '85Nm@ 3000rpm', '160Nm@ 1750rpm', '180.4Nm@ 1750-2500rpm',\n",
              "       '230Nm@ 1500-2500rpm', '113.75Nm@ 4000rpm',\n",
              "       '219.66nm@ 1500-2750rpm', '245Nm@ 1750rpm', '360Nm@ 1400-3200rpm',\n",
              "       '320Nm@ 2000rpm', '135 Nm at 2500  rpm ',\n",
              "       '24 KGM at 1900-2750 RPM', '204Nm@ 2000-2750rpm',\n",
              "       '14.3@ 1,800-3,000(kgm@ rpm)', '190Nm@ 1750-2250rpm',\n",
              "       '250nm@ 1500-2750rpm', '125Nm@ 2000rpm', '172Nm@ 4300rpm',\n",
              "       '150Nm@ 1750rpm', '102Nm@ 4000rpm', '85Nm@ 2500rpm',\n",
              "       '8.5@ 2,500(kgm@ rpm)', '180Nm@ 1440-1500rpm', '106.5Nm@ 4400rpm',\n",
              "       '108.5Nm@ 5000rpm', '350Nm@ 1750-2500rpm', '144.15nm@ 4500rpm',\n",
              "       '104Nm@ 4400rpm', '74.5Nm@ 4000rpm', '200Nm@ 2000rpm',\n",
              "       '280Nm@ 1800-2800rpm', '142.5Nm@ 1750rpm', '115@ 2,500(kgm@ rpm)',\n",
              "       '196Nm@ 5000rpm', '9.8@ 3,000(kgm@ rpm)', '209Nm@ 2000rpm',\n",
              "       '140Nm@ 4200rpm', '220Nm at 1400-2600 rpm',\n",
              "       '260 Nm at 1800-2200 rpm', '171Nm@ 1800rpm',\n",
              "       '277.5Nm@ 1700-2200rpm', '215Nm@ 3600rpm', '195Nm@ 1440-2200rpm',\n",
              "       '13@ 2,500(kgm@ rpm)', '180Nm@ 2000rpm', '200Nm@ 1400-2200rpm',\n",
              "       '380Nm(38.7kgm)@ 2500rpm', '110Nm@ 4400rpm', '72Nm@ 4388rpm',\n",
              "       '263.7Nm@ 2500rpm', '12.7@ 2,700(kgm@ rpm)', '320Nm@ 1600-2800rpm',\n",
              "       '16.3@ 2,000(kgm@ rpm)', '190 Nm at 1750 rpm ', '94.14Nm@ 3500rpm',\n",
              "       '12@ 3,500(kgm@ rpm)', '280Nm@ 2400-2800rpm', '96Nm@ 3500rpm',\n",
              "       '16@ 2,000(kgm@ rpm)', '320Nm@ 1750-3000rpm', '114.73nm@ 4000rpm',\n",
              "       '320Nm@ 1750-2500rpm', '138nm@ 4400rpm', '99Nm@ 4500rpm',\n",
              "       '190Nm@ 1750rpm', '789Nm@ 2250rpm', '259.87Nm@ 1900-2750rpm',\n",
              "       '205Nm@ 1750rpm', '436.39Nm@ 1800-2500rpm',\n",
              "       '182.5Nm@ 1500-1800rpm', '90.3Nm@ 4200rpm',\n",
              "       '14.9@ 3,000(kgm@ rpm)', '305Nm@ 2000rpm', '14.9 KGM at 3000 RPM',\n",
              "       '215Nm@ 1750-3000rpm', '540Nm@ 2000rpm', '327Nm@ 2600rpm',\n",
              "       '300Nm@ 1600-3000rpm', '620Nm@ 2000-2500rpm',\n",
              "       '19@ 1,800(kgm@ rpm)', '9.2@ 4,200(kgm@ rpm)',\n",
              "       '145@ 4,100(kgm@ rpm)', '51Nm@ 4000+/-500rpm', '110Nm@ 3000rpm',\n",
              "       '148Nm@ 3500rpm', '12.5@ 2,500(kgm@ rpm)', '116Nm@ 4750rpm',\n",
              "       '148Nm@ 4000rpm', '222Nm@ 4300rpm', '135.3Nm@ 5000rpm',\n",
              "       '98Nm@ 1600-3000rpm', '343Nm@ 1400-2800rpm', '402Nm@ 1600-3000rpm',\n",
              "       '113Nm@ 3300rpm', '99.07Nm@ 4500rpm', '210nm@ 1600-2200rpm',\n",
              "       '190 Nm at 1750  rpm ', '224nm@ 1500-2750rpm',\n",
              "       '400nm@ 1750-2500rpm', '215Nm@ 1750-2500rpm',\n",
              "       '25@ 1,800-2,800(kgm@ rpm)', '136.3Nm@ 4200rpm',\n",
              "       '470Nm@ 1750-2500rpm', '11@ 3,000(kgm@ rpm)',\n",
              "       '450Nm@ 1600-2400rpm', '140Nm@ 4400rpm', '347Nm@ 4300rpm',\n",
              "       '142Nm@ 4000rpm', '138Nm@ 4400rpm', '145Nm@ 4100rpm',\n",
              "       '320Nm@ 1500-2800rpm', '123Nm@ 1000-2500rpm', '510@ 1600-2400',\n",
              "       '220Nm@ 1500-2750rpm', '380Nm@ 2000rpm', '104Nm@ 3100rpm',\n",
              "       '20@ 3,750(kgm@ rpm)', '46.5@ 1,400-2,800(kgm@ rpm)',\n",
              "       '15@ 3,800(kgm@ rpm)', '136Nm@ 4250rpm', '228Nm@ 4400rpm',\n",
              "       '149Nm@ 4500rpm', '187Nm@ 2500rpm', '146Nm@ 3400rpm',\n",
              "       '218Nm@ 1400-2600rpm', '8.6@ 3,500(kgm@ rpm)',\n",
              "       '219.7Nm@ 1750-2750rpm', '450Nm@ 2000rpm', '300Nm@ 2000rpm',\n",
              "       '230Nm@ 1800-2000rpm', '42@ 2,000(kgm@ rpm)',\n",
              "       '110Nm@ 3000-4300rpm', '330Nm@ 1800rpm', '219.6Nm@ 1750-2750rpm',\n",
              "       '380Nm@ 1750-2750rpm', '28.3@ 1,700-2,200(kgm@ rpm)',\n",
              "       '197Nm@ 1750rpm', '259.88Nm@ 1900-2750rpm', '580Nm@ 1400-3250rpm',\n",
              "       '400 Nm /2000 rpm', '127Nm@ 3500rpm', '300Nm@ 1500-2500rpm',\n",
              "       '132.3Nm@ 4000rpm', '113nm@ 4400rpm', '151NM@ 4850rpm',\n",
              "       '153Nm@ 3750-3800rpm', '10.7@ 2,500(kgm@ rpm)', '78Nm@ 3500rpm',\n",
              "       '219.9Nm@ 1750-2750rpm', '420.7Nm@ 1800-2500rpm', '113Nm@ 5000rpm',\n",
              "       '130Nm@ 3000rpm', '424Nm@ 2000rpm', '130@ 2500(kgm@ rpm)',\n",
              "       '99.8Nm@ 2700rpm', '11.2@ 4,400(kgm@ rpm)', '380Nm@ 2500rpm',\n",
              "       '240Nm@ 1850rpm', '16.1@ 4,200(kgm@ rpm)', '320Nm@ 1750-2700rpm',\n",
              "       '115Nm@ 4500rpm', '245Nm@ 4000rpm', '321Nm@ 1600-2400rpm',\n",
              "       '619Nm@ 1600-2400rpm', '380Nm@ 1750-3000rpm', '560Nm@ 1500rpm',\n",
              "       '230Nm@ 1500-2250rpm', '90Nm@ 2650rpm', '260Nm@ 1800-2200rpm',\n",
              "       '113Nm@ 4,500rpm', '259.87nm@ 1500-3000rpm',\n",
              "       '16.6@ 4,500(kgm@ rpm)', '219.66NM@ 1500-2750rpm',\n",
              "       '12.5@ 3,000(kgm@ rpm)', '620Nm@ 1500-2500rpm',\n",
              "       '250Nm@ 1500-4500rpm', '14.9@ 3,400(kgm@ rpm)',\n",
              "       '25.5@ 1,900(kgm@ rpm)', '33.7@ 1,800(kgm@ rpm)',\n",
              "       '285Nm@ 2400-4000rpm', '10.7@ 2,600(kgm@ rpm)', '240Nm@ 1750rpm',\n",
              "       '226Nm@ 4400rpm', '510Nm@ 1600-2800rpm', '259.87NM@ 1500-3000rpm',\n",
              "       '155 Nm at 1600-2800 rpm', '240Nm@ 2000rpm', '103Nm@ 4500rpm',\n",
              "       '13.5@ 4,800(kgm@ rpm)', '400Nm@ 1750-2750rpm',\n",
              "       '175Nm@ 1500-4100rpm', '72.9Nm@ 2250rpm', '135.4Nm@ 2500',\n",
              "       '245Nm@ 5000rpm', '57Nm@ 2500rpm', '215nm@ 1750-2500rpm',\n",
              "       '10.4@ 3,200(kgm@ rpm)', '128Nm@ 3100rpm', '131Nm@ 4400rpm',\n",
              "       '250Nm@ 4250rpm', '96Nm@ 2500rpm', '135 Nm at 2500 rpm',\n",
              "       '12@ 2500(kgm@ rpm)', '12.4@ 2,600(kgm@ rpm)', '102Nm@ 2600rpm',\n",
              "       '250Nm@ 1000-2000rpm', '170Nm@ 4200rpm', '380NM@ 1800-2800rpm',\n",
              "       '24.5@ 3,500-4,500(kgm@ rpm)', '22.9@ 1,950-4,700(kgm@ rpm)',\n",
              "       '113Nm@ 4400rpm', '190Nm@ 2000-3000', '210 / 1900',\n",
              "       '400Nm@ 175-2750rpm', '350Nm@ 1500-3500rpm', '175nm@ 1750-4000rpm',\n",
              "       '115@ 2500(kgm@ rpm)', '110Nm@ 4500rpm', '190Nm@ 2000-3000rpm',\n",
              "       '223Nm@ 1600-2200rpm', '106Nm@ 2200rpm',\n",
              "       '21.4@ 1,750-4,600(kgm@ rpm)', '96Nm@ 3000rpm', '600Nm@ 2000rpm',\n",
              "       '23.6@ 4,250(kgm@ rpm)', '96 Nm at 3000 rpm', '11.3kgm@ 4700rpm',\n",
              "       '35.7@ 1,750-3,000(kgm@ rpm)', '6@ 2,500(kgm@ rpm)', nan,\n",
              "       '13.9 kgm at 4200 rpm', '320Nm@ 1400-4100rpm', '113.8Nm@ 4000rpm',\n",
              "       '110@ 3,000(kgm@ rpm)', '151Nm@ 2400rpm', '200Nm@ 2000-3500rpm',\n",
              "       '124.6Nm@ 3500rpm', '62Nm@ 2500rpm', '18@ 1,600-2,200(kgm@ rpm)',\n",
              "       '83Nm@ 3000rpm', '124.5Nm@ 3500rpm', '300Nm@ 1600-4000rpm',\n",
              "       '21.4@ 1,900(kgm@ rpm)', '225Nm@ 1500-2500rpm',\n",
              "       '190@ 21,800(kgm@ rpm)', '5.7@ 2,500(kgm@ rpm)', '88.4Nm@ 4200rpm',\n",
              "       '250 Nm at 1,500-3,000 rpm', '36.6@ 1,750-2,500(kgm@ rpm)',\n",
              "       '12.5kgm@ 3500rpm', '6.1@ 3,000(kgm@ rpm)', '110Nm@ 4000rpm',\n",
              "       '350nm@ 1800-2600rpm', '175nm@ 1500-4100rpm', '4.8kgm@ 3000rpm',\n",
              "       '355Nm@ 4500rpm', '51@ 1,750-3,000(kgm@ rpm)',\n",
              "       '410Nm@ 1600-2800rpm', '174Nm@ 4300rpm', '99.1Nm@ 4500rpm',\n",
              "       '385Nm@ 1600-2500rpm', '180 Nm at 2000rpm', '190 Nm at 1750 rpm',\n",
              "       '119Nm@ 4250rpm', '360Nm@ 1400-2600rpm', '420Nm@ 2000rpm',\n",
              "       '48@ 3,000+/-500(NM@ rpm)', '17.5@ 4,300(kgm@ rpm)',\n",
              "       '145Nm@ 3750rpm', '85Nm@ 3500rpm', '190Nm@ 4200rpm',\n",
              "       '190 Nm at 2000rpm', '13.5@ 2500(kgm@ rpm)', '150Nm@ 1700-4500rpm',\n",
              "       '250nm@ 1500-3000rpm', '500Nm@ 2000rpm', '333Nm@ 1600-3200rpm',\n",
              "       '400nm@ 2800rpm', '360Nm@ 2000rpm', '170Nm@ 1400-4500rpm',\n",
              "       '10.2@ 2,600(kgm@ rpm)', '190Nm@ 4300rpm', '171.6Nm@ 1500-4000rpm',\n",
              "       '320Nm@ 1800-2800rpm', '380Nm@ 1750rpm', '250.06nm@ 1500-2750rpm',\n",
              "       '90nm@ 3500rpm', '436.4Nm@ 1800-2500rpm', '250Nm@ 1250-5000rpm'],\n",
              "      dtype=object)"
            ]
          },
          "metadata": {},
          "execution_count": 32
        }
      ]
    },
    {
      "cell_type": "markdown",
      "source": [
        "Здесь данные отформатированы весьма разнообразно, придется много переделывать."
      ],
      "metadata": {
        "id": "SBTxr1i5fpd2"
      }
    },
    {
      "cell_type": "code",
      "source": [
        "df['torque'] = df['torque'].apply(lambda x: x.replace('at', '@') if type(x) == str else None)\n",
        "df['torque'] = df['torque'].apply(lambda x: x.replace('/', '@') if type(x) == str else None)"
      ],
      "metadata": {
        "id": "k6YNLBbEJ9eY"
      },
      "execution_count": null,
      "outputs": []
    },
    {
      "cell_type": "markdown",
      "source": [
        "Итак, первая часть представляет собой значение крутящего момента в ньютон-метрах. Отделим ее от второй."
      ],
      "metadata": {
        "id": "QsaZirUuK_tZ"
      }
    },
    {
      "cell_type": "code",
      "source": [
        "df['torque_1'] = df.torque.apply(lambda x: x.split('@', maxsplit=1)[0].lower() if type(x) == str else None)"
      ],
      "metadata": {
        "id": "IEaL2Pi3wJ2I"
      },
      "execution_count": null,
      "outputs": []
    },
    {
      "cell_type": "code",
      "source": [
        "def count_nm(x: str):\n",
        "  if 'nm' in x:\n",
        "    x = x.replace('nm', '')\n",
        "    x = x.strip()\n",
        "    if '(' in x:\n",
        "      if '380' in x:\n",
        "        return 380.0\n",
        "    else:\n",
        "      return float(x)\n",
        "  elif 'kgm' in x:\n",
        "    x = x.replace('kgm', '')\n",
        "    x = x.strip()\n",
        "    return float(x) * 9.8\n",
        "  else:\n",
        "    if float(x) > 100:\n",
        "      return float(x)\n",
        "    else:\n",
        "      return float(x) * 9.8"
      ],
      "metadata": {
        "id": "AaOrRecCwyRN"
      },
      "execution_count": null,
      "outputs": []
    },
    {
      "cell_type": "code",
      "source": [
        "df['torque_1'] = df['torque_1'].apply(lambda x: count_nm(x) if type(x) == str else None )"
      ],
      "metadata": {
        "id": "uoHrfdY0y5O6"
      },
      "execution_count": null,
      "outputs": []
    },
    {
      "cell_type": "code",
      "source": [
        "df['rpm'] = df['torque'].apply(lambda x: x.split('@', maxsplit=1)[1].lower() if type(x) == str and '@' in x else None)"
      ],
      "metadata": {
        "id": "GFOzCq9409ry"
      },
      "execution_count": null,
      "outputs": []
    },
    {
      "cell_type": "code",
      "source": [
        "def process_rpm(x: str):\n",
        "  x = x.replace('(kgm@ rpm)', '')\n",
        "  x = x.replace('rpm', '')\n",
        "  x = x.strip()\n",
        "  x = x.replace(',', '')\n",
        "  x = x.replace('+@', '')\n",
        "  x = x.replace('(nm@ )', '')\n",
        "  if '-' in x:\n",
        "    rpm = x.split('-')\n",
        "    rpm[0] = int(rpm[0])\n",
        "    rpm[1] = int(rpm[1])\n",
        "  elif '~' in x:\n",
        "    rpm = x.split('~')\n",
        "    rpm[0] = int(rpm[0])\n",
        "    rpm[1] = int(rpm[1])\n",
        "  else:\n",
        "    rpm = [int(x), int(x)]\n",
        "  return rpm"
      ],
      "metadata": {
        "id": "gPq4qRbF1cHR"
      },
      "execution_count": null,
      "outputs": []
    },
    {
      "cell_type": "code",
      "source": [
        "df['rpm'] = df['rpm'].apply(lambda x: process_rpm(x) if type(x) == str else None)"
      ],
      "metadata": {
        "id": "UzenEa5f2Zpi"
      },
      "execution_count": null,
      "outputs": []
    },
    {
      "cell_type": "code",
      "source": [
        "df.rpm.isna().sum()"
      ],
      "metadata": {
        "colab": {
          "base_uri": "https://localhost:8080/"
        },
        "id": "oH-fZB1P3Rh7",
        "outputId": "5fc042e1-4f83-4209-b593-9c26caa8d39f"
      },
      "execution_count": null,
      "outputs": [
        {
          "output_type": "execute_result",
          "data": {
            "text/plain": [
              "29"
            ]
          },
          "metadata": {},
          "execution_count": 41
        }
      ]
    },
    {
      "cell_type": "markdown",
      "source": [
        "Странно, но..."
      ],
      "metadata": {
        "id": "3O_BUIw04ERu"
      }
    },
    {
      "cell_type": "code",
      "source": [
        "df[df['rpm'].isna()]"
      ],
      "metadata": {
        "colab": {
          "base_uri": "https://localhost:8080/",
          "height": 1000
        },
        "id": "dbXwfXJ43oHk",
        "outputId": "8eb827d0-e746-4423-c17c-e84e6e1ea052"
      },
      "execution_count": null,
      "outputs": [
        {
          "output_type": "execute_result",
          "data": {
            "text/plain": [
              "      year  selling_price  km_driven    fuel seller_type transmission  \\\n",
              "129   2018        3400000      22000  Diesel      Dealer    Automatic   \n",
              "361   2019        3800000      20000  Diesel  Individual    Automatic   \n",
              "567   2019        3800000      20000  Diesel  Individual    Automatic   \n",
              "929   2019        3800000      20000  Diesel  Individual    Automatic   \n",
              "947   2019        3800000      20000  Diesel  Individual    Automatic   \n",
              "962   2019        3800000      20000  Diesel  Individual    Automatic   \n",
              "978   2019        3800000      20000  Diesel  Individual    Automatic   \n",
              "1468  2019        3800000      20000  Diesel  Individual    Automatic   \n",
              "1568  2019        3800000      20000  Diesel  Individual    Automatic   \n",
              "2293  2019        3800000      20000  Diesel  Individual    Automatic   \n",
              "2652  2019        3800000      20000  Diesel  Individual    Automatic   \n",
              "2941  2019        3800000      20000  Diesel  Individual    Automatic   \n",
              "3035  2019        3800000      20000  Diesel  Individual    Automatic   \n",
              "3291  2019        3800000      20000  Diesel  Individual    Automatic   \n",
              "3623  2019        3800000      20000  Diesel  Individual    Automatic   \n",
              "3643  2019        3800000      20000  Diesel  Individual    Automatic   \n",
              "3699  2019        3800000      20000  Diesel  Individual    Automatic   \n",
              "3773  2019        3800000      20000  Diesel  Individual    Automatic   \n",
              "4121  2019        3800000      20000  Diesel  Individual    Automatic   \n",
              "4217  2000          80000     100000     CNG  Individual       Manual   \n",
              "4349  2019        3800000      20000  Diesel  Individual    Automatic   \n",
              "5299  2019        3800000      20000  Diesel  Individual    Automatic   \n",
              "5335  2019        3800000      20000  Diesel  Individual    Automatic   \n",
              "5637  2019        3800000      20000  Diesel  Individual    Automatic   \n",
              "5652  2019        3800000      20000  Diesel  Individual    Automatic   \n",
              "5753  2019        3800000      20000  Diesel  Individual    Automatic   \n",
              "5991  2019        3800000      20000  Diesel  Individual    Automatic   \n",
              "6778  2019        3800000      20000  Diesel  Individual    Automatic   \n",
              "6832  2019        5500000      17000  Diesel  Individual    Automatic   \n",
              "\n",
              "             owner     mileage   engine max_power torque  seats  age  \\\n",
              "129    First Owner   18.0 kmpl  1969 CC   190 bhp  400Nm    5.0    3   \n",
              "361    First Owner   18.0 kmpl  1969 CC   190 bhp  400Nm    5.0    2   \n",
              "567    First Owner   18.0 kmpl  1969 CC   190 bhp  400Nm    5.0    2   \n",
              "929    First Owner   18.0 kmpl  1969 CC   190 bhp  400Nm    5.0    2   \n",
              "947    First Owner   18.0 kmpl  1969 CC   190 bhp  400Nm    5.0    2   \n",
              "962    First Owner   18.0 kmpl  1969 CC   190 bhp  400Nm    5.0    2   \n",
              "978    First Owner   18.0 kmpl  1969 CC   190 bhp  400Nm    5.0    2   \n",
              "1468   First Owner   18.0 kmpl  1969 CC   190 bhp  400Nm    5.0    2   \n",
              "1568   First Owner   18.0 kmpl  1969 CC   190 bhp  400Nm    5.0    2   \n",
              "2293   First Owner   18.0 kmpl  1969 CC   190 bhp  400Nm    5.0    2   \n",
              "2652   First Owner   18.0 kmpl  1969 CC   190 bhp  400Nm    5.0    2   \n",
              "2941   First Owner   18.0 kmpl  1969 CC   190 bhp  400Nm    5.0    2   \n",
              "3035   First Owner   18.0 kmpl  1969 CC   190 bhp  400Nm    5.0    2   \n",
              "3291   First Owner   18.0 kmpl  1969 CC   190 bhp  400Nm    5.0    2   \n",
              "3623   First Owner   18.0 kmpl  1969 CC   190 bhp  400Nm    5.0    2   \n",
              "3643   First Owner   18.0 kmpl  1969 CC   190 bhp  400Nm    5.0    2   \n",
              "3699   First Owner   18.0 kmpl  1969 CC   190 bhp  400Nm    5.0    2   \n",
              "3773   First Owner   18.0 kmpl  1969 CC   190 bhp  400Nm    5.0    2   \n",
              "4121   First Owner   18.0 kmpl  1969 CC   190 bhp  400Nm    5.0    2   \n",
              "4217  Second Owner  10.9 km/kg   796 CC       bhp   None    8.0   14   \n",
              "4349   First Owner   18.0 kmpl  1969 CC   190 bhp  400Nm    5.0    2   \n",
              "5299   First Owner   18.0 kmpl  1969 CC   190 bhp  400Nm    5.0    2   \n",
              "5335   First Owner   18.0 kmpl  1969 CC   190 bhp  400Nm    5.0    2   \n",
              "5637   First Owner   18.0 kmpl  1969 CC   190 bhp  400Nm    5.0    2   \n",
              "5652   First Owner   18.0 kmpl  1969 CC   190 bhp  400Nm    5.0    2   \n",
              "5753   First Owner   18.0 kmpl  1969 CC   190 bhp  400Nm    5.0    2   \n",
              "5991   First Owner   18.0 kmpl  1969 CC   190 bhp  400Nm    5.0    2   \n",
              "6778   First Owner   18.0 kmpl  1969 CC   190 bhp  400Nm    5.0    2   \n",
              "6832   First Owner   18.0 kmpl  1969 CC   190 bhp  400Nm    5.0    2   \n",
              "\n",
              "      mileage_count  engine_volume  max_power_count  torque_1   rpm  \n",
              "129            15.3         1969.0            190.0     400.0  None  \n",
              "361            15.3         1969.0            190.0     400.0  None  \n",
              "567            15.3         1969.0            190.0     400.0  None  \n",
              "929            15.3         1969.0            190.0     400.0  None  \n",
              "947            15.3         1969.0            190.0     400.0  None  \n",
              "962            15.3         1969.0            190.0     400.0  None  \n",
              "978            15.3         1969.0            190.0     400.0  None  \n",
              "1468           15.3         1969.0            190.0     400.0  None  \n",
              "1568           15.3         1969.0            190.0     400.0  None  \n",
              "2293           15.3         1969.0            190.0     400.0  None  \n",
              "2652           15.3         1969.0            190.0     400.0  None  \n",
              "2941           15.3         1969.0            190.0     400.0  None  \n",
              "3035           15.3         1969.0            190.0     400.0  None  \n",
              "3291           15.3         1969.0            190.0     400.0  None  \n",
              "3623           15.3         1969.0            190.0     400.0  None  \n",
              "3643           15.3         1969.0            190.0     400.0  None  \n",
              "3699           15.3         1969.0            190.0     400.0  None  \n",
              "3773           15.3         1969.0            190.0     400.0  None  \n",
              "4121           15.3         1969.0            190.0     400.0  None  \n",
              "4217           10.9          796.0              NaN       NaN  None  \n",
              "4349           15.3         1969.0            190.0     400.0  None  \n",
              "5299           15.3         1969.0            190.0     400.0  None  \n",
              "5335           15.3         1969.0            190.0     400.0  None  \n",
              "5637           15.3         1969.0            190.0     400.0  None  \n",
              "5652           15.3         1969.0            190.0     400.0  None  \n",
              "5753           15.3         1969.0            190.0     400.0  None  \n",
              "5991           15.3         1969.0            190.0     400.0  None  \n",
              "6778           15.3         1969.0            190.0     400.0  None  \n",
              "6832           15.3         1969.0            190.0     400.0  None  "
            ],
            "text/html": [
              "\n",
              "  <div id=\"df-d85d9fb8-8984-49e0-9cce-65e2e480975e\">\n",
              "    <div class=\"colab-df-container\">\n",
              "      <div>\n",
              "<style scoped>\n",
              "    .dataframe tbody tr th:only-of-type {\n",
              "        vertical-align: middle;\n",
              "    }\n",
              "\n",
              "    .dataframe tbody tr th {\n",
              "        vertical-align: top;\n",
              "    }\n",
              "\n",
              "    .dataframe thead th {\n",
              "        text-align: right;\n",
              "    }\n",
              "</style>\n",
              "<table border=\"1\" class=\"dataframe\">\n",
              "  <thead>\n",
              "    <tr style=\"text-align: right;\">\n",
              "      <th></th>\n",
              "      <th>year</th>\n",
              "      <th>selling_price</th>\n",
              "      <th>km_driven</th>\n",
              "      <th>fuel</th>\n",
              "      <th>seller_type</th>\n",
              "      <th>transmission</th>\n",
              "      <th>owner</th>\n",
              "      <th>mileage</th>\n",
              "      <th>engine</th>\n",
              "      <th>max_power</th>\n",
              "      <th>torque</th>\n",
              "      <th>seats</th>\n",
              "      <th>age</th>\n",
              "      <th>mileage_count</th>\n",
              "      <th>engine_volume</th>\n",
              "      <th>max_power_count</th>\n",
              "      <th>torque_1</th>\n",
              "      <th>rpm</th>\n",
              "    </tr>\n",
              "  </thead>\n",
              "  <tbody>\n",
              "    <tr>\n",
              "      <th>129</th>\n",
              "      <td>2018</td>\n",
              "      <td>3400000</td>\n",
              "      <td>22000</td>\n",
              "      <td>Diesel</td>\n",
              "      <td>Dealer</td>\n",
              "      <td>Automatic</td>\n",
              "      <td>First Owner</td>\n",
              "      <td>18.0 kmpl</td>\n",
              "      <td>1969 CC</td>\n",
              "      <td>190 bhp</td>\n",
              "      <td>400Nm</td>\n",
              "      <td>5.0</td>\n",
              "      <td>3</td>\n",
              "      <td>15.3</td>\n",
              "      <td>1969.0</td>\n",
              "      <td>190.0</td>\n",
              "      <td>400.0</td>\n",
              "      <td>None</td>\n",
              "    </tr>\n",
              "    <tr>\n",
              "      <th>361</th>\n",
              "      <td>2019</td>\n",
              "      <td>3800000</td>\n",
              "      <td>20000</td>\n",
              "      <td>Diesel</td>\n",
              "      <td>Individual</td>\n",
              "      <td>Automatic</td>\n",
              "      <td>First Owner</td>\n",
              "      <td>18.0 kmpl</td>\n",
              "      <td>1969 CC</td>\n",
              "      <td>190 bhp</td>\n",
              "      <td>400Nm</td>\n",
              "      <td>5.0</td>\n",
              "      <td>2</td>\n",
              "      <td>15.3</td>\n",
              "      <td>1969.0</td>\n",
              "      <td>190.0</td>\n",
              "      <td>400.0</td>\n",
              "      <td>None</td>\n",
              "    </tr>\n",
              "    <tr>\n",
              "      <th>567</th>\n",
              "      <td>2019</td>\n",
              "      <td>3800000</td>\n",
              "      <td>20000</td>\n",
              "      <td>Diesel</td>\n",
              "      <td>Individual</td>\n",
              "      <td>Automatic</td>\n",
              "      <td>First Owner</td>\n",
              "      <td>18.0 kmpl</td>\n",
              "      <td>1969 CC</td>\n",
              "      <td>190 bhp</td>\n",
              "      <td>400Nm</td>\n",
              "      <td>5.0</td>\n",
              "      <td>2</td>\n",
              "      <td>15.3</td>\n",
              "      <td>1969.0</td>\n",
              "      <td>190.0</td>\n",
              "      <td>400.0</td>\n",
              "      <td>None</td>\n",
              "    </tr>\n",
              "    <tr>\n",
              "      <th>929</th>\n",
              "      <td>2019</td>\n",
              "      <td>3800000</td>\n",
              "      <td>20000</td>\n",
              "      <td>Diesel</td>\n",
              "      <td>Individual</td>\n",
              "      <td>Automatic</td>\n",
              "      <td>First Owner</td>\n",
              "      <td>18.0 kmpl</td>\n",
              "      <td>1969 CC</td>\n",
              "      <td>190 bhp</td>\n",
              "      <td>400Nm</td>\n",
              "      <td>5.0</td>\n",
              "      <td>2</td>\n",
              "      <td>15.3</td>\n",
              "      <td>1969.0</td>\n",
              "      <td>190.0</td>\n",
              "      <td>400.0</td>\n",
              "      <td>None</td>\n",
              "    </tr>\n",
              "    <tr>\n",
              "      <th>947</th>\n",
              "      <td>2019</td>\n",
              "      <td>3800000</td>\n",
              "      <td>20000</td>\n",
              "      <td>Diesel</td>\n",
              "      <td>Individual</td>\n",
              "      <td>Automatic</td>\n",
              "      <td>First Owner</td>\n",
              "      <td>18.0 kmpl</td>\n",
              "      <td>1969 CC</td>\n",
              "      <td>190 bhp</td>\n",
              "      <td>400Nm</td>\n",
              "      <td>5.0</td>\n",
              "      <td>2</td>\n",
              "      <td>15.3</td>\n",
              "      <td>1969.0</td>\n",
              "      <td>190.0</td>\n",
              "      <td>400.0</td>\n",
              "      <td>None</td>\n",
              "    </tr>\n",
              "    <tr>\n",
              "      <th>962</th>\n",
              "      <td>2019</td>\n",
              "      <td>3800000</td>\n",
              "      <td>20000</td>\n",
              "      <td>Diesel</td>\n",
              "      <td>Individual</td>\n",
              "      <td>Automatic</td>\n",
              "      <td>First Owner</td>\n",
              "      <td>18.0 kmpl</td>\n",
              "      <td>1969 CC</td>\n",
              "      <td>190 bhp</td>\n",
              "      <td>400Nm</td>\n",
              "      <td>5.0</td>\n",
              "      <td>2</td>\n",
              "      <td>15.3</td>\n",
              "      <td>1969.0</td>\n",
              "      <td>190.0</td>\n",
              "      <td>400.0</td>\n",
              "      <td>None</td>\n",
              "    </tr>\n",
              "    <tr>\n",
              "      <th>978</th>\n",
              "      <td>2019</td>\n",
              "      <td>3800000</td>\n",
              "      <td>20000</td>\n",
              "      <td>Diesel</td>\n",
              "      <td>Individual</td>\n",
              "      <td>Automatic</td>\n",
              "      <td>First Owner</td>\n",
              "      <td>18.0 kmpl</td>\n",
              "      <td>1969 CC</td>\n",
              "      <td>190 bhp</td>\n",
              "      <td>400Nm</td>\n",
              "      <td>5.0</td>\n",
              "      <td>2</td>\n",
              "      <td>15.3</td>\n",
              "      <td>1969.0</td>\n",
              "      <td>190.0</td>\n",
              "      <td>400.0</td>\n",
              "      <td>None</td>\n",
              "    </tr>\n",
              "    <tr>\n",
              "      <th>1468</th>\n",
              "      <td>2019</td>\n",
              "      <td>3800000</td>\n",
              "      <td>20000</td>\n",
              "      <td>Diesel</td>\n",
              "      <td>Individual</td>\n",
              "      <td>Automatic</td>\n",
              "      <td>First Owner</td>\n",
              "      <td>18.0 kmpl</td>\n",
              "      <td>1969 CC</td>\n",
              "      <td>190 bhp</td>\n",
              "      <td>400Nm</td>\n",
              "      <td>5.0</td>\n",
              "      <td>2</td>\n",
              "      <td>15.3</td>\n",
              "      <td>1969.0</td>\n",
              "      <td>190.0</td>\n",
              "      <td>400.0</td>\n",
              "      <td>None</td>\n",
              "    </tr>\n",
              "    <tr>\n",
              "      <th>1568</th>\n",
              "      <td>2019</td>\n",
              "      <td>3800000</td>\n",
              "      <td>20000</td>\n",
              "      <td>Diesel</td>\n",
              "      <td>Individual</td>\n",
              "      <td>Automatic</td>\n",
              "      <td>First Owner</td>\n",
              "      <td>18.0 kmpl</td>\n",
              "      <td>1969 CC</td>\n",
              "      <td>190 bhp</td>\n",
              "      <td>400Nm</td>\n",
              "      <td>5.0</td>\n",
              "      <td>2</td>\n",
              "      <td>15.3</td>\n",
              "      <td>1969.0</td>\n",
              "      <td>190.0</td>\n",
              "      <td>400.0</td>\n",
              "      <td>None</td>\n",
              "    </tr>\n",
              "    <tr>\n",
              "      <th>2293</th>\n",
              "      <td>2019</td>\n",
              "      <td>3800000</td>\n",
              "      <td>20000</td>\n",
              "      <td>Diesel</td>\n",
              "      <td>Individual</td>\n",
              "      <td>Automatic</td>\n",
              "      <td>First Owner</td>\n",
              "      <td>18.0 kmpl</td>\n",
              "      <td>1969 CC</td>\n",
              "      <td>190 bhp</td>\n",
              "      <td>400Nm</td>\n",
              "      <td>5.0</td>\n",
              "      <td>2</td>\n",
              "      <td>15.3</td>\n",
              "      <td>1969.0</td>\n",
              "      <td>190.0</td>\n",
              "      <td>400.0</td>\n",
              "      <td>None</td>\n",
              "    </tr>\n",
              "    <tr>\n",
              "      <th>2652</th>\n",
              "      <td>2019</td>\n",
              "      <td>3800000</td>\n",
              "      <td>20000</td>\n",
              "      <td>Diesel</td>\n",
              "      <td>Individual</td>\n",
              "      <td>Automatic</td>\n",
              "      <td>First Owner</td>\n",
              "      <td>18.0 kmpl</td>\n",
              "      <td>1969 CC</td>\n",
              "      <td>190 bhp</td>\n",
              "      <td>400Nm</td>\n",
              "      <td>5.0</td>\n",
              "      <td>2</td>\n",
              "      <td>15.3</td>\n",
              "      <td>1969.0</td>\n",
              "      <td>190.0</td>\n",
              "      <td>400.0</td>\n",
              "      <td>None</td>\n",
              "    </tr>\n",
              "    <tr>\n",
              "      <th>2941</th>\n",
              "      <td>2019</td>\n",
              "      <td>3800000</td>\n",
              "      <td>20000</td>\n",
              "      <td>Diesel</td>\n",
              "      <td>Individual</td>\n",
              "      <td>Automatic</td>\n",
              "      <td>First Owner</td>\n",
              "      <td>18.0 kmpl</td>\n",
              "      <td>1969 CC</td>\n",
              "      <td>190 bhp</td>\n",
              "      <td>400Nm</td>\n",
              "      <td>5.0</td>\n",
              "      <td>2</td>\n",
              "      <td>15.3</td>\n",
              "      <td>1969.0</td>\n",
              "      <td>190.0</td>\n",
              "      <td>400.0</td>\n",
              "      <td>None</td>\n",
              "    </tr>\n",
              "    <tr>\n",
              "      <th>3035</th>\n",
              "      <td>2019</td>\n",
              "      <td>3800000</td>\n",
              "      <td>20000</td>\n",
              "      <td>Diesel</td>\n",
              "      <td>Individual</td>\n",
              "      <td>Automatic</td>\n",
              "      <td>First Owner</td>\n",
              "      <td>18.0 kmpl</td>\n",
              "      <td>1969 CC</td>\n",
              "      <td>190 bhp</td>\n",
              "      <td>400Nm</td>\n",
              "      <td>5.0</td>\n",
              "      <td>2</td>\n",
              "      <td>15.3</td>\n",
              "      <td>1969.0</td>\n",
              "      <td>190.0</td>\n",
              "      <td>400.0</td>\n",
              "      <td>None</td>\n",
              "    </tr>\n",
              "    <tr>\n",
              "      <th>3291</th>\n",
              "      <td>2019</td>\n",
              "      <td>3800000</td>\n",
              "      <td>20000</td>\n",
              "      <td>Diesel</td>\n",
              "      <td>Individual</td>\n",
              "      <td>Automatic</td>\n",
              "      <td>First Owner</td>\n",
              "      <td>18.0 kmpl</td>\n",
              "      <td>1969 CC</td>\n",
              "      <td>190 bhp</td>\n",
              "      <td>400Nm</td>\n",
              "      <td>5.0</td>\n",
              "      <td>2</td>\n",
              "      <td>15.3</td>\n",
              "      <td>1969.0</td>\n",
              "      <td>190.0</td>\n",
              "      <td>400.0</td>\n",
              "      <td>None</td>\n",
              "    </tr>\n",
              "    <tr>\n",
              "      <th>3623</th>\n",
              "      <td>2019</td>\n",
              "      <td>3800000</td>\n",
              "      <td>20000</td>\n",
              "      <td>Diesel</td>\n",
              "      <td>Individual</td>\n",
              "      <td>Automatic</td>\n",
              "      <td>First Owner</td>\n",
              "      <td>18.0 kmpl</td>\n",
              "      <td>1969 CC</td>\n",
              "      <td>190 bhp</td>\n",
              "      <td>400Nm</td>\n",
              "      <td>5.0</td>\n",
              "      <td>2</td>\n",
              "      <td>15.3</td>\n",
              "      <td>1969.0</td>\n",
              "      <td>190.0</td>\n",
              "      <td>400.0</td>\n",
              "      <td>None</td>\n",
              "    </tr>\n",
              "    <tr>\n",
              "      <th>3643</th>\n",
              "      <td>2019</td>\n",
              "      <td>3800000</td>\n",
              "      <td>20000</td>\n",
              "      <td>Diesel</td>\n",
              "      <td>Individual</td>\n",
              "      <td>Automatic</td>\n",
              "      <td>First Owner</td>\n",
              "      <td>18.0 kmpl</td>\n",
              "      <td>1969 CC</td>\n",
              "      <td>190 bhp</td>\n",
              "      <td>400Nm</td>\n",
              "      <td>5.0</td>\n",
              "      <td>2</td>\n",
              "      <td>15.3</td>\n",
              "      <td>1969.0</td>\n",
              "      <td>190.0</td>\n",
              "      <td>400.0</td>\n",
              "      <td>None</td>\n",
              "    </tr>\n",
              "    <tr>\n",
              "      <th>3699</th>\n",
              "      <td>2019</td>\n",
              "      <td>3800000</td>\n",
              "      <td>20000</td>\n",
              "      <td>Diesel</td>\n",
              "      <td>Individual</td>\n",
              "      <td>Automatic</td>\n",
              "      <td>First Owner</td>\n",
              "      <td>18.0 kmpl</td>\n",
              "      <td>1969 CC</td>\n",
              "      <td>190 bhp</td>\n",
              "      <td>400Nm</td>\n",
              "      <td>5.0</td>\n",
              "      <td>2</td>\n",
              "      <td>15.3</td>\n",
              "      <td>1969.0</td>\n",
              "      <td>190.0</td>\n",
              "      <td>400.0</td>\n",
              "      <td>None</td>\n",
              "    </tr>\n",
              "    <tr>\n",
              "      <th>3773</th>\n",
              "      <td>2019</td>\n",
              "      <td>3800000</td>\n",
              "      <td>20000</td>\n",
              "      <td>Diesel</td>\n",
              "      <td>Individual</td>\n",
              "      <td>Automatic</td>\n",
              "      <td>First Owner</td>\n",
              "      <td>18.0 kmpl</td>\n",
              "      <td>1969 CC</td>\n",
              "      <td>190 bhp</td>\n",
              "      <td>400Nm</td>\n",
              "      <td>5.0</td>\n",
              "      <td>2</td>\n",
              "      <td>15.3</td>\n",
              "      <td>1969.0</td>\n",
              "      <td>190.0</td>\n",
              "      <td>400.0</td>\n",
              "      <td>None</td>\n",
              "    </tr>\n",
              "    <tr>\n",
              "      <th>4121</th>\n",
              "      <td>2019</td>\n",
              "      <td>3800000</td>\n",
              "      <td>20000</td>\n",
              "      <td>Diesel</td>\n",
              "      <td>Individual</td>\n",
              "      <td>Automatic</td>\n",
              "      <td>First Owner</td>\n",
              "      <td>18.0 kmpl</td>\n",
              "      <td>1969 CC</td>\n",
              "      <td>190 bhp</td>\n",
              "      <td>400Nm</td>\n",
              "      <td>5.0</td>\n",
              "      <td>2</td>\n",
              "      <td>15.3</td>\n",
              "      <td>1969.0</td>\n",
              "      <td>190.0</td>\n",
              "      <td>400.0</td>\n",
              "      <td>None</td>\n",
              "    </tr>\n",
              "    <tr>\n",
              "      <th>4217</th>\n",
              "      <td>2000</td>\n",
              "      <td>80000</td>\n",
              "      <td>100000</td>\n",
              "      <td>CNG</td>\n",
              "      <td>Individual</td>\n",
              "      <td>Manual</td>\n",
              "      <td>Second Owner</td>\n",
              "      <td>10.9 km/kg</td>\n",
              "      <td>796 CC</td>\n",
              "      <td>bhp</td>\n",
              "      <td>None</td>\n",
              "      <td>8.0</td>\n",
              "      <td>14</td>\n",
              "      <td>10.9</td>\n",
              "      <td>796.0</td>\n",
              "      <td>NaN</td>\n",
              "      <td>NaN</td>\n",
              "      <td>None</td>\n",
              "    </tr>\n",
              "    <tr>\n",
              "      <th>4349</th>\n",
              "      <td>2019</td>\n",
              "      <td>3800000</td>\n",
              "      <td>20000</td>\n",
              "      <td>Diesel</td>\n",
              "      <td>Individual</td>\n",
              "      <td>Automatic</td>\n",
              "      <td>First Owner</td>\n",
              "      <td>18.0 kmpl</td>\n",
              "      <td>1969 CC</td>\n",
              "      <td>190 bhp</td>\n",
              "      <td>400Nm</td>\n",
              "      <td>5.0</td>\n",
              "      <td>2</td>\n",
              "      <td>15.3</td>\n",
              "      <td>1969.0</td>\n",
              "      <td>190.0</td>\n",
              "      <td>400.0</td>\n",
              "      <td>None</td>\n",
              "    </tr>\n",
              "    <tr>\n",
              "      <th>5299</th>\n",
              "      <td>2019</td>\n",
              "      <td>3800000</td>\n",
              "      <td>20000</td>\n",
              "      <td>Diesel</td>\n",
              "      <td>Individual</td>\n",
              "      <td>Automatic</td>\n",
              "      <td>First Owner</td>\n",
              "      <td>18.0 kmpl</td>\n",
              "      <td>1969 CC</td>\n",
              "      <td>190 bhp</td>\n",
              "      <td>400Nm</td>\n",
              "      <td>5.0</td>\n",
              "      <td>2</td>\n",
              "      <td>15.3</td>\n",
              "      <td>1969.0</td>\n",
              "      <td>190.0</td>\n",
              "      <td>400.0</td>\n",
              "      <td>None</td>\n",
              "    </tr>\n",
              "    <tr>\n",
              "      <th>5335</th>\n",
              "      <td>2019</td>\n",
              "      <td>3800000</td>\n",
              "      <td>20000</td>\n",
              "      <td>Diesel</td>\n",
              "      <td>Individual</td>\n",
              "      <td>Automatic</td>\n",
              "      <td>First Owner</td>\n",
              "      <td>18.0 kmpl</td>\n",
              "      <td>1969 CC</td>\n",
              "      <td>190 bhp</td>\n",
              "      <td>400Nm</td>\n",
              "      <td>5.0</td>\n",
              "      <td>2</td>\n",
              "      <td>15.3</td>\n",
              "      <td>1969.0</td>\n",
              "      <td>190.0</td>\n",
              "      <td>400.0</td>\n",
              "      <td>None</td>\n",
              "    </tr>\n",
              "    <tr>\n",
              "      <th>5637</th>\n",
              "      <td>2019</td>\n",
              "      <td>3800000</td>\n",
              "      <td>20000</td>\n",
              "      <td>Diesel</td>\n",
              "      <td>Individual</td>\n",
              "      <td>Automatic</td>\n",
              "      <td>First Owner</td>\n",
              "      <td>18.0 kmpl</td>\n",
              "      <td>1969 CC</td>\n",
              "      <td>190 bhp</td>\n",
              "      <td>400Nm</td>\n",
              "      <td>5.0</td>\n",
              "      <td>2</td>\n",
              "      <td>15.3</td>\n",
              "      <td>1969.0</td>\n",
              "      <td>190.0</td>\n",
              "      <td>400.0</td>\n",
              "      <td>None</td>\n",
              "    </tr>\n",
              "    <tr>\n",
              "      <th>5652</th>\n",
              "      <td>2019</td>\n",
              "      <td>3800000</td>\n",
              "      <td>20000</td>\n",
              "      <td>Diesel</td>\n",
              "      <td>Individual</td>\n",
              "      <td>Automatic</td>\n",
              "      <td>First Owner</td>\n",
              "      <td>18.0 kmpl</td>\n",
              "      <td>1969 CC</td>\n",
              "      <td>190 bhp</td>\n",
              "      <td>400Nm</td>\n",
              "      <td>5.0</td>\n",
              "      <td>2</td>\n",
              "      <td>15.3</td>\n",
              "      <td>1969.0</td>\n",
              "      <td>190.0</td>\n",
              "      <td>400.0</td>\n",
              "      <td>None</td>\n",
              "    </tr>\n",
              "    <tr>\n",
              "      <th>5753</th>\n",
              "      <td>2019</td>\n",
              "      <td>3800000</td>\n",
              "      <td>20000</td>\n",
              "      <td>Diesel</td>\n",
              "      <td>Individual</td>\n",
              "      <td>Automatic</td>\n",
              "      <td>First Owner</td>\n",
              "      <td>18.0 kmpl</td>\n",
              "      <td>1969 CC</td>\n",
              "      <td>190 bhp</td>\n",
              "      <td>400Nm</td>\n",
              "      <td>5.0</td>\n",
              "      <td>2</td>\n",
              "      <td>15.3</td>\n",
              "      <td>1969.0</td>\n",
              "      <td>190.0</td>\n",
              "      <td>400.0</td>\n",
              "      <td>None</td>\n",
              "    </tr>\n",
              "    <tr>\n",
              "      <th>5991</th>\n",
              "      <td>2019</td>\n",
              "      <td>3800000</td>\n",
              "      <td>20000</td>\n",
              "      <td>Diesel</td>\n",
              "      <td>Individual</td>\n",
              "      <td>Automatic</td>\n",
              "      <td>First Owner</td>\n",
              "      <td>18.0 kmpl</td>\n",
              "      <td>1969 CC</td>\n",
              "      <td>190 bhp</td>\n",
              "      <td>400Nm</td>\n",
              "      <td>5.0</td>\n",
              "      <td>2</td>\n",
              "      <td>15.3</td>\n",
              "      <td>1969.0</td>\n",
              "      <td>190.0</td>\n",
              "      <td>400.0</td>\n",
              "      <td>None</td>\n",
              "    </tr>\n",
              "    <tr>\n",
              "      <th>6778</th>\n",
              "      <td>2019</td>\n",
              "      <td>3800000</td>\n",
              "      <td>20000</td>\n",
              "      <td>Diesel</td>\n",
              "      <td>Individual</td>\n",
              "      <td>Automatic</td>\n",
              "      <td>First Owner</td>\n",
              "      <td>18.0 kmpl</td>\n",
              "      <td>1969 CC</td>\n",
              "      <td>190 bhp</td>\n",
              "      <td>400Nm</td>\n",
              "      <td>5.0</td>\n",
              "      <td>2</td>\n",
              "      <td>15.3</td>\n",
              "      <td>1969.0</td>\n",
              "      <td>190.0</td>\n",
              "      <td>400.0</td>\n",
              "      <td>None</td>\n",
              "    </tr>\n",
              "    <tr>\n",
              "      <th>6832</th>\n",
              "      <td>2019</td>\n",
              "      <td>5500000</td>\n",
              "      <td>17000</td>\n",
              "      <td>Diesel</td>\n",
              "      <td>Individual</td>\n",
              "      <td>Automatic</td>\n",
              "      <td>First Owner</td>\n",
              "      <td>18.0 kmpl</td>\n",
              "      <td>1969 CC</td>\n",
              "      <td>190 bhp</td>\n",
              "      <td>400Nm</td>\n",
              "      <td>5.0</td>\n",
              "      <td>2</td>\n",
              "      <td>15.3</td>\n",
              "      <td>1969.0</td>\n",
              "      <td>190.0</td>\n",
              "      <td>400.0</td>\n",
              "      <td>None</td>\n",
              "    </tr>\n",
              "  </tbody>\n",
              "</table>\n",
              "</div>\n",
              "      <button class=\"colab-df-convert\" onclick=\"convertToInteractive('df-d85d9fb8-8984-49e0-9cce-65e2e480975e')\"\n",
              "              title=\"Convert this dataframe to an interactive table.\"\n",
              "              style=\"display:none;\">\n",
              "        \n",
              "  <svg xmlns=\"http://www.w3.org/2000/svg\" height=\"24px\"viewBox=\"0 0 24 24\"\n",
              "       width=\"24px\">\n",
              "    <path d=\"M0 0h24v24H0V0z\" fill=\"none\"/>\n",
              "    <path d=\"M18.56 5.44l.94 2.06.94-2.06 2.06-.94-2.06-.94-.94-2.06-.94 2.06-2.06.94zm-11 1L8.5 8.5l.94-2.06 2.06-.94-2.06-.94L8.5 2.5l-.94 2.06-2.06.94zm10 10l.94 2.06.94-2.06 2.06-.94-2.06-.94-.94-2.06-.94 2.06-2.06.94z\"/><path d=\"M17.41 7.96l-1.37-1.37c-.4-.4-.92-.59-1.43-.59-.52 0-1.04.2-1.43.59L10.3 9.45l-7.72 7.72c-.78.78-.78 2.05 0 2.83L4 21.41c.39.39.9.59 1.41.59.51 0 1.02-.2 1.41-.59l7.78-7.78 2.81-2.81c.8-.78.8-2.07 0-2.86zM5.41 20L4 18.59l7.72-7.72 1.47 1.35L5.41 20z\"/>\n",
              "  </svg>\n",
              "      </button>\n",
              "      \n",
              "  <style>\n",
              "    .colab-df-container {\n",
              "      display:flex;\n",
              "      flex-wrap:wrap;\n",
              "      gap: 12px;\n",
              "    }\n",
              "\n",
              "    .colab-df-convert {\n",
              "      background-color: #E8F0FE;\n",
              "      border: none;\n",
              "      border-radius: 50%;\n",
              "      cursor: pointer;\n",
              "      display: none;\n",
              "      fill: #1967D2;\n",
              "      height: 32px;\n",
              "      padding: 0 0 0 0;\n",
              "      width: 32px;\n",
              "    }\n",
              "\n",
              "    .colab-df-convert:hover {\n",
              "      background-color: #E2EBFA;\n",
              "      box-shadow: 0px 1px 2px rgba(60, 64, 67, 0.3), 0px 1px 3px 1px rgba(60, 64, 67, 0.15);\n",
              "      fill: #174EA6;\n",
              "    }\n",
              "\n",
              "    [theme=dark] .colab-df-convert {\n",
              "      background-color: #3B4455;\n",
              "      fill: #D2E3FC;\n",
              "    }\n",
              "\n",
              "    [theme=dark] .colab-df-convert:hover {\n",
              "      background-color: #434B5C;\n",
              "      box-shadow: 0px 1px 3px 1px rgba(0, 0, 0, 0.15);\n",
              "      filter: drop-shadow(0px 1px 2px rgba(0, 0, 0, 0.3));\n",
              "      fill: #FFFFFF;\n",
              "    }\n",
              "  </style>\n",
              "\n",
              "      <script>\n",
              "        const buttonEl =\n",
              "          document.querySelector('#df-d85d9fb8-8984-49e0-9cce-65e2e480975e button.colab-df-convert');\n",
              "        buttonEl.style.display =\n",
              "          google.colab.kernel.accessAllowed ? 'block' : 'none';\n",
              "\n",
              "        async function convertToInteractive(key) {\n",
              "          const element = document.querySelector('#df-d85d9fb8-8984-49e0-9cce-65e2e480975e');\n",
              "          const dataTable =\n",
              "            await google.colab.kernel.invokeFunction('convertToInteractive',\n",
              "                                                     [key], {});\n",
              "          if (!dataTable) return;\n",
              "\n",
              "          const docLinkHtml = 'Like what you see? Visit the ' +\n",
              "            '<a target=\"_blank\" href=https://colab.research.google.com/notebooks/data_table.ipynb>data table notebook</a>'\n",
              "            + ' to learn more about interactive tables.';\n",
              "          element.innerHTML = '';\n",
              "          dataTable['output_type'] = 'display_data';\n",
              "          await google.colab.output.renderOutput(dataTable, element);\n",
              "          const docLink = document.createElement('div');\n",
              "          docLink.innerHTML = docLinkHtml;\n",
              "          element.appendChild(docLink);\n",
              "        }\n",
              "      </script>\n",
              "    </div>\n",
              "  </div>\n",
              "  "
            ]
          },
          "metadata": {},
          "execution_count": 42
        }
      ]
    },
    {
      "cell_type": "markdown",
      "source": [
        "Всё в порядке!"
      ],
      "metadata": {
        "id": "n4d5ZV4Q4HGt"
      }
    },
    {
      "cell_type": "code",
      "source": [
        "df['rpm_min'] = df['rpm'].apply(lambda x: x[0] if x is not None else None)\n",
        "df['rpm_max'] = df['rpm'].apply(lambda x: x[1] if x is not None else None)"
      ],
      "metadata": {
        "id": "BOjHyRFS4PPO"
      },
      "execution_count": null,
      "outputs": []
    },
    {
      "cell_type": "code",
      "source": [
        "df.columns"
      ],
      "metadata": {
        "colab": {
          "base_uri": "https://localhost:8080/"
        },
        "id": "w2KbBzh3qDoH",
        "outputId": "f5737141-f426-4a21-886e-b3318ba65402"
      },
      "execution_count": null,
      "outputs": [
        {
          "output_type": "execute_result",
          "data": {
            "text/plain": [
              "Index(['year', 'selling_price', 'km_driven', 'fuel', 'seller_type',\n",
              "       'transmission', 'owner', 'mileage', 'engine', 'max_power', 'torque',\n",
              "       'seats', 'age', 'mileage_count', 'engine_volume', 'max_power_count',\n",
              "       'torque_1', 'rpm', 'rpm_min', 'rpm_max'],\n",
              "      dtype='object')"
            ]
          },
          "metadata": {},
          "execution_count": 44
        }
      ]
    },
    {
      "cell_type": "markdown",
      "source": [
        "Для модели будем исключать из таблицы следующие колонки: year, mileage, engine, max_power, torque, rpm."
      ],
      "metadata": {
        "id": "qKxMJuNi5PSy"
      }
    },
    {
      "cell_type": "code",
      "source": [
        "x = df.drop(columns=['year', 'mileage', 'engine', 'max_power', 'torque', 'rpm'])"
      ],
      "metadata": {
        "id": "SbXtLNpY450R"
      },
      "execution_count": null,
      "outputs": []
    },
    {
      "cell_type": "code",
      "source": [
        "x.head()"
      ],
      "metadata": {
        "colab": {
          "base_uri": "https://localhost:8080/",
          "height": 357
        },
        "id": "zUskTZR556Gp",
        "outputId": "4cfe7ed7-f297-4c4c-92bb-acd64f727699"
      },
      "execution_count": null,
      "outputs": [
        {
          "output_type": "execute_result",
          "data": {
            "text/plain": [
              "   selling_price  km_driven    fuel seller_type transmission         owner  \\\n",
              "0         450000     145500  Diesel  Individual       Manual   First Owner   \n",
              "1         370000     120000  Diesel  Individual       Manual  Second Owner   \n",
              "2         225000     127000  Diesel  Individual       Manual   First Owner   \n",
              "3         130000     120000  Petrol  Individual       Manual   First Owner   \n",
              "4         440000      45000  Petrol  Individual       Manual   First Owner   \n",
              "\n",
              "   seats  age  mileage_count  engine_volume  max_power_count  torque_1  \\\n",
              "0    5.0    7         19.890         1248.0            74.00    190.00   \n",
              "1    5.0    7         17.969         1498.0           103.52    250.00   \n",
              "2    5.0   11         19.550         1396.0            90.00    219.52   \n",
              "3    5.0   14         12.075         1298.0            88.20    112.70   \n",
              "4    5.0    4         15.105         1197.0            81.86    113.75   \n",
              "\n",
              "   rpm_min  rpm_max  \n",
              "0   2000.0   2000.0  \n",
              "1   1500.0   2500.0  \n",
              "2   1750.0   2750.0  \n",
              "3   4500.0   4500.0  \n",
              "4   4000.0   4000.0  "
            ],
            "text/html": [
              "\n",
              "  <div id=\"df-59bed6c6-5de8-4f29-87f0-970bc09d0b43\">\n",
              "    <div class=\"colab-df-container\">\n",
              "      <div>\n",
              "<style scoped>\n",
              "    .dataframe tbody tr th:only-of-type {\n",
              "        vertical-align: middle;\n",
              "    }\n",
              "\n",
              "    .dataframe tbody tr th {\n",
              "        vertical-align: top;\n",
              "    }\n",
              "\n",
              "    .dataframe thead th {\n",
              "        text-align: right;\n",
              "    }\n",
              "</style>\n",
              "<table border=\"1\" class=\"dataframe\">\n",
              "  <thead>\n",
              "    <tr style=\"text-align: right;\">\n",
              "      <th></th>\n",
              "      <th>selling_price</th>\n",
              "      <th>km_driven</th>\n",
              "      <th>fuel</th>\n",
              "      <th>seller_type</th>\n",
              "      <th>transmission</th>\n",
              "      <th>owner</th>\n",
              "      <th>seats</th>\n",
              "      <th>age</th>\n",
              "      <th>mileage_count</th>\n",
              "      <th>engine_volume</th>\n",
              "      <th>max_power_count</th>\n",
              "      <th>torque_1</th>\n",
              "      <th>rpm_min</th>\n",
              "      <th>rpm_max</th>\n",
              "    </tr>\n",
              "  </thead>\n",
              "  <tbody>\n",
              "    <tr>\n",
              "      <th>0</th>\n",
              "      <td>450000</td>\n",
              "      <td>145500</td>\n",
              "      <td>Diesel</td>\n",
              "      <td>Individual</td>\n",
              "      <td>Manual</td>\n",
              "      <td>First Owner</td>\n",
              "      <td>5.0</td>\n",
              "      <td>7</td>\n",
              "      <td>19.890</td>\n",
              "      <td>1248.0</td>\n",
              "      <td>74.00</td>\n",
              "      <td>190.00</td>\n",
              "      <td>2000.0</td>\n",
              "      <td>2000.0</td>\n",
              "    </tr>\n",
              "    <tr>\n",
              "      <th>1</th>\n",
              "      <td>370000</td>\n",
              "      <td>120000</td>\n",
              "      <td>Diesel</td>\n",
              "      <td>Individual</td>\n",
              "      <td>Manual</td>\n",
              "      <td>Second Owner</td>\n",
              "      <td>5.0</td>\n",
              "      <td>7</td>\n",
              "      <td>17.969</td>\n",
              "      <td>1498.0</td>\n",
              "      <td>103.52</td>\n",
              "      <td>250.00</td>\n",
              "      <td>1500.0</td>\n",
              "      <td>2500.0</td>\n",
              "    </tr>\n",
              "    <tr>\n",
              "      <th>2</th>\n",
              "      <td>225000</td>\n",
              "      <td>127000</td>\n",
              "      <td>Diesel</td>\n",
              "      <td>Individual</td>\n",
              "      <td>Manual</td>\n",
              "      <td>First Owner</td>\n",
              "      <td>5.0</td>\n",
              "      <td>11</td>\n",
              "      <td>19.550</td>\n",
              "      <td>1396.0</td>\n",
              "      <td>90.00</td>\n",
              "      <td>219.52</td>\n",
              "      <td>1750.0</td>\n",
              "      <td>2750.0</td>\n",
              "    </tr>\n",
              "    <tr>\n",
              "      <th>3</th>\n",
              "      <td>130000</td>\n",
              "      <td>120000</td>\n",
              "      <td>Petrol</td>\n",
              "      <td>Individual</td>\n",
              "      <td>Manual</td>\n",
              "      <td>First Owner</td>\n",
              "      <td>5.0</td>\n",
              "      <td>14</td>\n",
              "      <td>12.075</td>\n",
              "      <td>1298.0</td>\n",
              "      <td>88.20</td>\n",
              "      <td>112.70</td>\n",
              "      <td>4500.0</td>\n",
              "      <td>4500.0</td>\n",
              "    </tr>\n",
              "    <tr>\n",
              "      <th>4</th>\n",
              "      <td>440000</td>\n",
              "      <td>45000</td>\n",
              "      <td>Petrol</td>\n",
              "      <td>Individual</td>\n",
              "      <td>Manual</td>\n",
              "      <td>First Owner</td>\n",
              "      <td>5.0</td>\n",
              "      <td>4</td>\n",
              "      <td>15.105</td>\n",
              "      <td>1197.0</td>\n",
              "      <td>81.86</td>\n",
              "      <td>113.75</td>\n",
              "      <td>4000.0</td>\n",
              "      <td>4000.0</td>\n",
              "    </tr>\n",
              "  </tbody>\n",
              "</table>\n",
              "</div>\n",
              "      <button class=\"colab-df-convert\" onclick=\"convertToInteractive('df-59bed6c6-5de8-4f29-87f0-970bc09d0b43')\"\n",
              "              title=\"Convert this dataframe to an interactive table.\"\n",
              "              style=\"display:none;\">\n",
              "        \n",
              "  <svg xmlns=\"http://www.w3.org/2000/svg\" height=\"24px\"viewBox=\"0 0 24 24\"\n",
              "       width=\"24px\">\n",
              "    <path d=\"M0 0h24v24H0V0z\" fill=\"none\"/>\n",
              "    <path d=\"M18.56 5.44l.94 2.06.94-2.06 2.06-.94-2.06-.94-.94-2.06-.94 2.06-2.06.94zm-11 1L8.5 8.5l.94-2.06 2.06-.94-2.06-.94L8.5 2.5l-.94 2.06-2.06.94zm10 10l.94 2.06.94-2.06 2.06-.94-2.06-.94-.94-2.06-.94 2.06-2.06.94z\"/><path d=\"M17.41 7.96l-1.37-1.37c-.4-.4-.92-.59-1.43-.59-.52 0-1.04.2-1.43.59L10.3 9.45l-7.72 7.72c-.78.78-.78 2.05 0 2.83L4 21.41c.39.39.9.59 1.41.59.51 0 1.02-.2 1.41-.59l7.78-7.78 2.81-2.81c.8-.78.8-2.07 0-2.86zM5.41 20L4 18.59l7.72-7.72 1.47 1.35L5.41 20z\"/>\n",
              "  </svg>\n",
              "      </button>\n",
              "      \n",
              "  <style>\n",
              "    .colab-df-container {\n",
              "      display:flex;\n",
              "      flex-wrap:wrap;\n",
              "      gap: 12px;\n",
              "    }\n",
              "\n",
              "    .colab-df-convert {\n",
              "      background-color: #E8F0FE;\n",
              "      border: none;\n",
              "      border-radius: 50%;\n",
              "      cursor: pointer;\n",
              "      display: none;\n",
              "      fill: #1967D2;\n",
              "      height: 32px;\n",
              "      padding: 0 0 0 0;\n",
              "      width: 32px;\n",
              "    }\n",
              "\n",
              "    .colab-df-convert:hover {\n",
              "      background-color: #E2EBFA;\n",
              "      box-shadow: 0px 1px 2px rgba(60, 64, 67, 0.3), 0px 1px 3px 1px rgba(60, 64, 67, 0.15);\n",
              "      fill: #174EA6;\n",
              "    }\n",
              "\n",
              "    [theme=dark] .colab-df-convert {\n",
              "      background-color: #3B4455;\n",
              "      fill: #D2E3FC;\n",
              "    }\n",
              "\n",
              "    [theme=dark] .colab-df-convert:hover {\n",
              "      background-color: #434B5C;\n",
              "      box-shadow: 0px 1px 3px 1px rgba(0, 0, 0, 0.15);\n",
              "      filter: drop-shadow(0px 1px 2px rgba(0, 0, 0, 0.3));\n",
              "      fill: #FFFFFF;\n",
              "    }\n",
              "  </style>\n",
              "\n",
              "      <script>\n",
              "        const buttonEl =\n",
              "          document.querySelector('#df-59bed6c6-5de8-4f29-87f0-970bc09d0b43 button.colab-df-convert');\n",
              "        buttonEl.style.display =\n",
              "          google.colab.kernel.accessAllowed ? 'block' : 'none';\n",
              "\n",
              "        async function convertToInteractive(key) {\n",
              "          const element = document.querySelector('#df-59bed6c6-5de8-4f29-87f0-970bc09d0b43');\n",
              "          const dataTable =\n",
              "            await google.colab.kernel.invokeFunction('convertToInteractive',\n",
              "                                                     [key], {});\n",
              "          if (!dataTable) return;\n",
              "\n",
              "          const docLinkHtml = 'Like what you see? Visit the ' +\n",
              "            '<a target=\"_blank\" href=https://colab.research.google.com/notebooks/data_table.ipynb>data table notebook</a>'\n",
              "            + ' to learn more about interactive tables.';\n",
              "          element.innerHTML = '';\n",
              "          dataTable['output_type'] = 'display_data';\n",
              "          await google.colab.output.renderOutput(dataTable, element);\n",
              "          const docLink = document.createElement('div');\n",
              "          docLink.innerHTML = docLinkHtml;\n",
              "          element.appendChild(docLink);\n",
              "        }\n",
              "      </script>\n",
              "    </div>\n",
              "  </div>\n",
              "  "
            ]
          },
          "metadata": {},
          "execution_count": 46
        }
      ]
    },
    {
      "cell_type": "code",
      "source": [
        "corr = df[['engine_volume','max_power_count', 'torque_1', 'rpm_max', 'rpm_min']].corr()\n",
        "\n",
        "sns.heatmap(corr, cmap=\"crest\")"
      ],
      "metadata": {
        "colab": {
          "base_uri": "https://localhost:8080/",
          "height": 566
        },
        "id": "z-kSQJ_n6xyt",
        "outputId": "adf0cf0f-6245-4c1e-9f73-7557f7be63c2"
      },
      "execution_count": null,
      "outputs": [
        {
          "output_type": "execute_result",
          "data": {
            "text/plain": [
              "<Axes: >"
            ]
          },
          "metadata": {},
          "execution_count": 47
        },
        {
          "output_type": "display_data",
          "data": {
            "text/plain": [
              "<Figure size 640x480 with 2 Axes>"
            ],
            "image/png": "[encoded data removed]"
          },
          "metadata": {}
        }
      ]
    },
    {
      "cell_type": "markdown",
      "source": [
        "Видим, что engine_volume тесно коррелирует с max_power_count и torque_1 (что и логично). Пока убирать не будем, можно будет поэкспериментировать с этим и посмотреть, как будут себя вести различные модели."
      ],
      "metadata": {
        "id": "uag5kQ-E6O3u"
      }
    },
    {
      "cell_type": "markdown",
      "source": [
        "## Разбиение данных на выборки и нормализация"
      ],
      "metadata": {
        "id": "ZbCPUwsgFU56"
      }
    },
    {
      "cell_type": "code",
      "source": [
        "x.info()"
      ],
      "metadata": {
        "colab": {
          "base_uri": "https://localhost:8080/"
        },
        "id": "EYU-L1b1qpjZ",
        "outputId": "da8e8392-6168-41b0-a0c1-0aaf5f743800"
      },
      "execution_count": null,
      "outputs": [
        {
          "output_type": "stream",
          "name": "stdout",
          "text": [
            "<class 'pandas.core.frame.DataFrame'>\n",
            "Int64Index: 6797 entries, 0 to 6998\n",
            "Data columns (total 14 columns):\n",
            " #   Column           Non-Null Count  Dtype  \n",
            "---  ------           --------------  -----  \n",
            " 0   selling_price    6797 non-null   int64  \n",
            " 1   km_driven        6797 non-null   int64  \n",
            " 2   fuel             6797 non-null   object \n",
            " 3   seller_type      6797 non-null   object \n",
            " 4   transmission     6797 non-null   object \n",
            " 5   owner            6797 non-null   object \n",
            " 6   seats            6797 non-null   float64\n",
            " 7   age              6797 non-null   int64  \n",
            " 8   mileage_count    6797 non-null   float64\n",
            " 9   engine_volume    6797 non-null   float64\n",
            " 10  max_power_count  6796 non-null   float64\n",
            " 11  torque_1         6796 non-null   float64\n",
            " 12  rpm_min          6768 non-null   float64\n",
            " 13  rpm_max          6768 non-null   float64\n",
            "dtypes: float64(7), int64(3), object(4)\n",
            "memory usage: 1.0+ MB\n"
          ]
        }
      ]
    },
    {
      "cell_type": "markdown",
      "source": [
        "30 строчек погоды не сделают, можно дропнуть."
      ],
      "metadata": {
        "id": "IscLgCGnquNp"
      }
    },
    {
      "cell_type": "code",
      "source": [
        "x = x.dropna()"
      ],
      "metadata": {
        "id": "FhaM-phuG3JJ"
      },
      "execution_count": null,
      "outputs": []
    },
    {
      "cell_type": "code",
      "source": [
        "x.info()"
      ],
      "metadata": {
        "colab": {
          "base_uri": "https://localhost:8080/"
        },
        "id": "BLZFbc1uHR9Z",
        "outputId": "afbfac2a-5d81-411f-f8ea-c08b4239c00d"
      },
      "execution_count": null,
      "outputs": [
        {
          "output_type": "stream",
          "name": "stdout",
          "text": [
            "<class 'pandas.core.frame.DataFrame'>\n",
            "Int64Index: 6768 entries, 0 to 6998\n",
            "Data columns (total 14 columns):\n",
            " #   Column           Non-Null Count  Dtype  \n",
            "---  ------           --------------  -----  \n",
            " 0   selling_price    6768 non-null   int64  \n",
            " 1   km_driven        6768 non-null   int64  \n",
            " 2   fuel             6768 non-null   object \n",
            " 3   seller_type      6768 non-null   object \n",
            " 4   transmission     6768 non-null   object \n",
            " 5   owner            6768 non-null   object \n",
            " 6   seats            6768 non-null   float64\n",
            " 7   age              6768 non-null   int64  \n",
            " 8   mileage_count    6768 non-null   float64\n",
            " 9   engine_volume    6768 non-null   float64\n",
            " 10  max_power_count  6768 non-null   float64\n",
            " 11  torque_1         6768 non-null   float64\n",
            " 12  rpm_min          6768 non-null   float64\n",
            " 13  rpm_max          6768 non-null   float64\n",
            "dtypes: float64(7), int64(3), object(4)\n",
            "memory usage: 793.1+ KB\n"
          ]
        }
      ]
    },
    {
      "cell_type": "code",
      "source": [
        "y = x['selling_price']\n",
        "x = x.drop(['selling_price'], axis=1)"
      ],
      "metadata": {
        "id": "bl3aPxBhJjWm"
      },
      "execution_count": null,
      "outputs": []
    },
    {
      "cell_type": "code",
      "source": [
        "from sklearn.model_selection import train_test_split\n",
        "x_train, x_test, y_train, y_test = train_test_split(x, y, test_size=0.2, random_state=42)"
      ],
      "metadata": {
        "id": "u__90YzrJXOn"
      },
      "execution_count": null,
      "outputs": []
    },
    {
      "cell_type": "markdown",
      "source": [
        "Попробуем разные энкодеры."
      ],
      "metadata": {
        "id": "dwzqevX6GGWN"
      }
    },
    {
      "cell_type": "code",
      "source": [
        "from sklearn.preprocessing import OneHotEncoder\n",
        "from sklearn.compose import ColumnTransformer\n",
        "from sklearn.preprocessing import StandardScaler\n",
        "\n",
        "categorical = ['seller_type', 'transmission', 'fuel', 'owner']\n",
        "numeric_features = [col for col in x_train.columns if col not in categorical]\n",
        "\n",
        "column_transformer = ColumnTransformer([\n",
        "    ('ohe', OneHotEncoder(), categorical),\n",
        "    ('scaling', StandardScaler(), numeric_features)\n",
        "])\n",
        "\n",
        "X_train_st = column_transformer.fit_transform(x_train)\n",
        "X_test_st = column_transformer.transform(x_test)"
      ],
      "metadata": {
        "id": "Q8sKoPmGGt2O"
      },
      "execution_count": null,
      "outputs": []
    },
    {
      "cell_type": "code",
      "source": [
        "from sklearn.preprocessing import MinMaxScaler\n",
        "mm_column_transformer = ColumnTransformer([\n",
        "    ('ohe', OneHotEncoder(), categorical),\n",
        "    ('scaling', MinMaxScaler(), numeric_features)\n",
        "])\n",
        "X_train_mm = mm_column_transformer.fit_transform(x_train)\n",
        "X_test_mm = mm_column_transformer.transform(x_test)"
      ],
      "metadata": {
        "id": "2oCamyS4thfm"
      },
      "execution_count": null,
      "outputs": []
    },
    {
      "cell_type": "code",
      "source": [
        "simple_column_transformer = ColumnTransformer([\n",
        "    ('ohe', OneHotEncoder(), categorical)\n",
        "])\n",
        "X_train_simple = simple_column_transformer.fit_transform(x_train)\n",
        "X_test_simple = simple_column_transformer.transform(x_test)"
      ],
      "metadata": {
        "id": "wyflXdSQ4Aun"
      },
      "execution_count": null,
      "outputs": []
    },
    {
      "cell_type": "code",
      "source": [
        "colnames = list(column_transformer.transformers_[0][1].get_feature_names_out())"
      ],
      "metadata": {
        "id": "YdQlcp1A1pDo"
      },
      "execution_count": null,
      "outputs": []
    },
    {
      "cell_type": "code",
      "source": [
        "colnames_1 = list(column_transformer.transformers_[1][1].get_feature_names_out())"
      ],
      "metadata": {
        "id": "JgZhbixX1u9t"
      },
      "execution_count": null,
      "outputs": []
    },
    {
      "cell_type": "code",
      "source": [
        "colnames.extend(colnames_1)"
      ],
      "metadata": {
        "id": "pPRvSvVR2BNi"
      },
      "execution_count": null,
      "outputs": []
    },
    {
      "cell_type": "code",
      "source": [
        "colnames"
      ],
      "metadata": {
        "colab": {
          "base_uri": "https://localhost:8080/"
        },
        "id": "67hPkHoy3bof",
        "outputId": "d4c164f0-85af-4aa9-bd4f-22b504a753c1"
      },
      "execution_count": null,
      "outputs": [
        {
          "output_type": "execute_result",
          "data": {
            "text/plain": [
              "['seller_type_Dealer',\n",
              " 'seller_type_Individual',\n",
              " 'seller_type_Trustmark Dealer',\n",
              " 'transmission_Automatic',\n",
              " 'transmission_Manual',\n",
              " 'fuel_CNG',\n",
              " 'fuel_Diesel',\n",
              " 'fuel_LPG',\n",
              " 'fuel_Petrol',\n",
              " 'owner_First Owner',\n",
              " 'owner_Fourth & Above Owner',\n",
              " 'owner_Second Owner',\n",
              " 'owner_Test Drive Car',\n",
              " 'owner_Third Owner',\n",
              " 'km_driven',\n",
              " 'seats',\n",
              " 'age',\n",
              " 'mileage_count',\n",
              " 'engine_volume',\n",
              " 'max_power_count',\n",
              " 'torque_1',\n",
              " 'rpm_min',\n",
              " 'rpm_max']"
            ]
          },
          "metadata": {},
          "execution_count": 82
        }
      ]
    },
    {
      "cell_type": "markdown",
      "source": [
        "#Обучение модели"
      ],
      "metadata": {
        "id": "fzFd74pIuR6N"
      }
    },
    {
      "cell_type": "markdown",
      "source": [
        "Попробуем обучить на наших данных разные модели."
      ],
      "metadata": {
        "id": "rgDhaN9X3awf"
      }
    },
    {
      "cell_type": "code",
      "source": [
        "from sklearn.ensemble import ExtraTreesRegressor, RandomForestRegressor, AdaBoostRegressor, BaggingRegressor, GradientBoostingRegressor\n",
        "from sklearn.linear_model import LinearRegression, RidgeCV, SGDRegressor, ElasticNetCV, LarsCV, LassoCV\n",
        "\n",
        "from sklearn.metrics import mean_squared_error\n",
        "def get_mse(model, trainset, testset):\n",
        "  model.fit(trainset, y_train)\n",
        "  pred = model.predict(testset)\n",
        "  return mean_squared_error(y_test, pred)"
      ],
      "metadata": {
        "id": "J8LgkzG-76bh"
      },
      "execution_count": null,
      "outputs": []
    },
    {
      "cell_type": "code",
      "source": [
        "models = [LinearRegression(), RidgeCV(), SGDRegressor(), ElasticNetCV(), LarsCV(), LassoCV(), ExtraTreesRegressor(), RandomForestRegressor(), AdaBoostRegressor(), BaggingRegressor(), GradientBoostingRegressor()]\n",
        "mm_metrics = []\n",
        "for model in models:\n",
        "  mm_metrics.append(get_mse(model, X_train_mm, X_test_mm))"
      ],
      "metadata": {
        "id": "EkvuKpeD5YGu"
      },
      "execution_count": null,
      "outputs": []
    },
    {
      "cell_type": "code",
      "source": [
        "models = [LinearRegression(), RidgeCV(), SGDRegressor(), ElasticNetCV(), LarsCV(), LassoCV(), ExtraTreesRegressor(), RandomForestRegressor(), AdaBoostRegressor(), BaggingRegressor(), GradientBoostingRegressor()]\n",
        "st_metrics = []\n",
        "for model in models:\n",
        "  st_metrics.append(get_mse(model, X_train_st, X_test_st))"
      ],
      "metadata": {
        "id": "I0j0jXeI7ET6"
      },
      "execution_count": null,
      "outputs": []
    },
    {
      "cell_type": "code",
      "source": [
        "models = [LinearRegression(), RidgeCV(), SGDRegressor(), ElasticNetCV(), LarsCV(), LassoCV(), ExtraTreesRegressor(), RandomForestRegressor(), AdaBoostRegressor(), BaggingRegressor(), GradientBoostingRegressor()]\n",
        "simple_metrics = []\n",
        "for model in models:\n",
        "  simple_metrics.append(get_mse(model, X_train_simple.toarray(), X_test_simple))"
      ],
      "metadata": {
        "id": "ZbnRmj2O7EfJ"
      },
      "execution_count": null,
      "outputs": []
    },
    {
      "cell_type": "code",
      "source": [
        "model_names = ['LinearRegression', 'RidgeCV', 'SGDRegressor', 'ElasticNetCV', 'LarsCV', 'LassoCV', 'ExtraTreesRegressor', 'RandomForestRegressor', 'AdaBoostRegressor', 'BaggingRegressor', 'GradientBoostingRegressor']"
      ],
      "metadata": {
        "id": "lFMda0lH7j1K"
      },
      "execution_count": null,
      "outputs": []
    },
    {
      "cell_type": "code",
      "source": [
        "matrix_results = pd.DataFrame({'model': model_names, 'MinMax': mm_metrics, 'Standard': st_metrics, 'Simple': simple_metrics})"
      ],
      "metadata": {
        "id": "sRyrbn4Y7cNq"
      },
      "execution_count": null,
      "outputs": []
    },
    {
      "cell_type": "code",
      "source": [
        "matrix_results"
      ],
      "metadata": {
        "colab": {
          "base_uri": "https://localhost:8080/",
          "height": 394
        },
        "id": "mhEp3njw8KXs",
        "outputId": "03d6a33f-2f3d-4efe-ebff-8c841701ffcf"
      },
      "execution_count": null,
      "outputs": [
        {
          "output_type": "execute_result",
          "data": {
            "text/plain": [
              "                        model        MinMax      Standard        Simple\n",
              "0            LinearRegression  1.969450e+11  1.967154e+11  2.986944e+11\n",
              "1                     RidgeCV  1.966543e+11  1.972342e+11  2.985204e+11\n",
              "2                SGDRegressor  1.931497e+11  1.973508e+11  2.988935e+11\n",
              "3                ElasticNetCV  5.514596e+11  5.498815e+11  5.516995e+11\n",
              "4                      LarsCV  3.964857e+11  1.949206e+11  4.078268e+11\n",
              "5                     LassoCV  1.950167e+11  1.962637e+11  2.984920e+11\n",
              "6         ExtraTreesRegressor  1.516535e+10  1.478930e+10  2.309910e+11\n",
              "7       RandomForestRegressor  1.590825e+10  1.629780e+10  2.307269e+11\n",
              "8           AdaBoostRegressor  1.188468e+11  1.215561e+11  3.142318e+11\n",
              "9            BaggingRegressor  1.646554e+10  2.035175e+10  2.307137e+11\n",
              "10  GradientBoostingRegressor  2.064279e+10  2.066782e+10  2.307110e+11"
            ],
            "text/html": [
              "\n",
              "  <div id=\"df-e7b6489d-d606-4418-87a3-75f72d7a5967\">\n",
              "    <div class=\"colab-df-container\">\n",
              "      <div>\n",
              "<style scoped>\n",
              "    .dataframe tbody tr th:only-of-type {\n",
              "        vertical-align: middle;\n",
              "    }\n",
              "\n",
              "    .dataframe tbody tr th {\n",
              "        vertical-align: top;\n",
              "    }\n",
              "\n",
              "    .dataframe thead th {\n",
              "        text-align: right;\n",
              "    }\n",
              "</style>\n",
              "<table border=\"1\" class=\"dataframe\">\n",
              "  <thead>\n",
              "    <tr style=\"text-align: right;\">\n",
              "      <th></th>\n",
              "      <th>model</th>\n",
              "      <th>MinMax</th>\n",
              "      <th>Standard</th>\n",
              "      <th>Simple</th>\n",
              "    </tr>\n",
              "  </thead>\n",
              "  <tbody>\n",
              "    <tr>\n",
              "      <th>0</th>\n",
              "      <td>LinearRegression</td>\n",
              "      <td>1.969450e+11</td>\n",
              "      <td>1.967154e+11</td>\n",
              "      <td>2.986944e+11</td>\n",
              "    </tr>\n",
              "    <tr>\n",
              "      <th>1</th>\n",
              "      <td>RidgeCV</td>\n",
              "      <td>1.966543e+11</td>\n",
              "      <td>1.972342e+11</td>\n",
              "      <td>2.985204e+11</td>\n",
              "    </tr>\n",
              "    <tr>\n",
              "      <th>2</th>\n",
              "      <td>SGDRegressor</td>\n",
              "      <td>1.931497e+11</td>\n",
              "      <td>1.973508e+11</td>\n",
              "      <td>2.988935e+11</td>\n",
              "    </tr>\n",
              "    <tr>\n",
              "      <th>3</th>\n",
              "      <td>ElasticNetCV</td>\n",
              "      <td>5.514596e+11</td>\n",
              "      <td>5.498815e+11</td>\n",
              "      <td>5.516995e+11</td>\n",
              "    </tr>\n",
              "    <tr>\n",
              "      <th>4</th>\n",
              "      <td>LarsCV</td>\n",
              "      <td>3.964857e+11</td>\n",
              "      <td>1.949206e+11</td>\n",
              "      <td>4.078268e+11</td>\n",
              "    </tr>\n",
              "    <tr>\n",
              "      <th>5</th>\n",
              "      <td>LassoCV</td>\n",
              "      <td>1.950167e+11</td>\n",
              "      <td>1.962637e+11</td>\n",
              "      <td>2.984920e+11</td>\n",
              "    </tr>\n",
              "    <tr>\n",
              "      <th>6</th>\n",
              "      <td>ExtraTreesRegressor</td>\n",
              "      <td>1.516535e+10</td>\n",
              "      <td>1.478930e+10</td>\n",
              "      <td>2.309910e+11</td>\n",
              "    </tr>\n",
              "    <tr>\n",
              "      <th>7</th>\n",
              "      <td>RandomForestRegressor</td>\n",
              "      <td>1.590825e+10</td>\n",
              "      <td>1.629780e+10</td>\n",
              "      <td>2.307269e+11</td>\n",
              "    </tr>\n",
              "    <tr>\n",
              "      <th>8</th>\n",
              "      <td>AdaBoostRegressor</td>\n",
              "      <td>1.188468e+11</td>\n",
              "      <td>1.215561e+11</td>\n",
              "      <td>3.142318e+11</td>\n",
              "    </tr>\n",
              "    <tr>\n",
              "      <th>9</th>\n",
              "      <td>BaggingRegressor</td>\n",
              "      <td>1.646554e+10</td>\n",
              "      <td>2.035175e+10</td>\n",
              "      <td>2.307137e+11</td>\n",
              "    </tr>\n",
              "    <tr>\n",
              "      <th>10</th>\n",
              "      <td>GradientBoostingRegressor</td>\n",
              "      <td>2.064279e+10</td>\n",
              "      <td>2.066782e+10</td>\n",
              "      <td>2.307110e+11</td>\n",
              "    </tr>\n",
              "  </tbody>\n",
              "</table>\n",
              "</div>\n",
              "      <button class=\"colab-df-convert\" onclick=\"convertToInteractive('df-e7b6489d-d606-4418-87a3-75f72d7a5967')\"\n",
              "              title=\"Convert this dataframe to an interactive table.\"\n",
              "              style=\"display:none;\">\n",
              "        \n",
              "  <svg xmlns=\"http://www.w3.org/2000/svg\" height=\"24px\"viewBox=\"0 0 24 24\"\n",
              "       width=\"24px\">\n",
              "    <path d=\"M0 0h24v24H0V0z\" fill=\"none\"/>\n",
              "    <path d=\"M18.56 5.44l.94 2.06.94-2.06 2.06-.94-2.06-.94-.94-2.06-.94 2.06-2.06.94zm-11 1L8.5 8.5l.94-2.06 2.06-.94-2.06-.94L8.5 2.5l-.94 2.06-2.06.94zm10 10l.94 2.06.94-2.06 2.06-.94-2.06-.94-.94-2.06-.94 2.06-2.06.94z\"/><path d=\"M17.41 7.96l-1.37-1.37c-.4-.4-.92-.59-1.43-.59-.52 0-1.04.2-1.43.59L10.3 9.45l-7.72 7.72c-.78.78-.78 2.05 0 2.83L4 21.41c.39.39.9.59 1.41.59.51 0 1.02-.2 1.41-.59l7.78-7.78 2.81-2.81c.8-.78.8-2.07 0-2.86zM5.41 20L4 18.59l7.72-7.72 1.47 1.35L5.41 20z\"/>\n",
              "  </svg>\n",
              "      </button>\n",
              "      \n",
              "  <style>\n",
              "    .colab-df-container {\n",
              "      display:flex;\n",
              "      flex-wrap:wrap;\n",
              "      gap: 12px;\n",
              "    }\n",
              "\n",
              "    .colab-df-convert {\n",
              "      background-color: #E8F0FE;\n",
              "      border: none;\n",
              "      border-radius: 50%;\n",
              "      cursor: pointer;\n",
              "      display: none;\n",
              "      fill: #1967D2;\n",
              "      height: 32px;\n",
              "      padding: 0 0 0 0;\n",
              "      width: 32px;\n",
              "    }\n",
              "\n",
              "    .colab-df-convert:hover {\n",
              "      background-color: #E2EBFA;\n",
              "      box-shadow: 0px 1px 2px rgba(60, 64, 67, 0.3), 0px 1px 3px 1px rgba(60, 64, 67, 0.15);\n",
              "      fill: #174EA6;\n",
              "    }\n",
              "\n",
              "    [theme=dark] .colab-df-convert {\n",
              "      background-color: #3B4455;\n",
              "      fill: #D2E3FC;\n",
              "    }\n",
              "\n",
              "    [theme=dark] .colab-df-convert:hover {\n",
              "      background-color: #434B5C;\n",
              "      box-shadow: 0px 1px 3px 1px rgba(0, 0, 0, 0.15);\n",
              "      filter: drop-shadow(0px 1px 2px rgba(0, 0, 0, 0.3));\n",
              "      fill: #FFFFFF;\n",
              "    }\n",
              "  </style>\n",
              "\n",
              "      <script>\n",
              "        const buttonEl =\n",
              "          document.querySelector('#df-e7b6489d-d606-4418-87a3-75f72d7a5967 button.colab-df-convert');\n",
              "        buttonEl.style.display =\n",
              "          google.colab.kernel.accessAllowed ? 'block' : 'none';\n",
              "\n",
              "        async function convertToInteractive(key) {\n",
              "          const element = document.querySelector('#df-e7b6489d-d606-4418-87a3-75f72d7a5967');\n",
              "          const dataTable =\n",
              "            await google.colab.kernel.invokeFunction('convertToInteractive',\n",
              "                                                     [key], {});\n",
              "          if (!dataTable) return;\n",
              "\n",
              "          const docLinkHtml = 'Like what you see? Visit the ' +\n",
              "            '<a target=\"_blank\" href=https://colab.research.google.com/notebooks/data_table.ipynb>data table notebook</a>'\n",
              "            + ' to learn more about interactive tables.';\n",
              "          element.innerHTML = '';\n",
              "          dataTable['output_type'] = 'display_data';\n",
              "          await google.colab.output.renderOutput(dataTable, element);\n",
              "          const docLink = document.createElement('div');\n",
              "          docLink.innerHTML = docLinkHtml;\n",
              "          element.appendChild(docLink);\n",
              "        }\n",
              "      </script>\n",
              "    </div>\n",
              "  </div>\n",
              "  "
            ]
          },
          "metadata": {},
          "execution_count": 93
        }
      ]
    },
    {
      "cell_type": "markdown",
      "source": [
        "Как видим, минимальное значение получается на ExtraTreesRegressor при использовании StandardScaler. Будем подбирать параметры для этой модели."
      ],
      "metadata": {
        "id": "_-4HZaX23vPo"
      }
    },
    {
      "cell_type": "code",
      "source": [
        "!pip install optuna"
      ],
      "metadata": {
        "id": "xeYZ2x008lIf"
      },
      "execution_count": null,
      "outputs": []
    },
    {
      "cell_type": "code",
      "source": [
        "import optuna\n",
        "?optuna.integration.OptunaSearchCV"
      ],
      "metadata": {
        "id": "qxGbXeII8rA4"
      },
      "execution_count": null,
      "outputs": []
    },
    {
      "cell_type": "code",
      "source": [
        "etr = ExtraTreesRegressor()\n",
        "param_distributions = {\n",
        "    'n_estimators': optuna.distributions.IntDistribution(100, 10000, False, 100),\n",
        "    'min_samples_split': optuna.distributions.IntDistribution(2, 20, False, 2),\n",
        "    'min_samples_leaf': optuna.distributions.IntDistribution(1, 15, False, 2),\n",
        "    'max_depth': optuna.distributions.IntDistribution(10, 30, False, 2)\n",
        "}"
      ],
      "metadata": {
        "id": "5xXe9SIW9XdL"
      },
      "execution_count": null,
      "outputs": []
    },
    {
      "cell_type": "code",
      "source": [
        "optuna_search = optuna.integration.OptunaSearchCV(etr, param_distributions)\n",
        "optuna_search.fit(X_train_st, y_train)"
      ],
      "metadata": {
        "colab": {
          "base_uri": "https://localhost:8080/",
          "height": 372
        },
        "id": "pzWLzNV_9WC7",
        "outputId": "c77825b6-e3e5-46c4-c2d8-a043c8b50f51"
      },
      "execution_count": null,
      "outputs": [
        {
          "output_type": "stream",
          "name": "stderr",
          "text": [
            "<ipython-input-106-2199eaafc411>:1: ExperimentalWarning: OptunaSearchCV is experimental (supported from v0.17.0). The interface can change in the future.\n",
            "  optuna_search = optuna.integration.OptunaSearchCV(etr, param_distributions)\n",
            "[I 2023-06-27 04:05:04,851] A new study created in memory with name: no-name-76b6f9e9-a7a2-4c3c-802f-00059340c442\n",
            "[I 2023-06-27 04:06:30,156] Trial 0 finished with value: 0.9186152950229465 and parameters: {'n_estimators': 2400, 'min_samples_split': 14, 'min_samples_leaf': 15, 'max_depth': 24}. Best is trial 0 with value: 0.9186152950229465.\n",
            "[I 2023-06-27 04:11:54,525] Trial 1 finished with value: 0.9187784024950545 and parameters: {'n_estimators': 9100, 'min_samples_split': 6, 'min_samples_leaf': 15, 'max_depth': 16}. Best is trial 1 with value: 0.9187784024950545.\n",
            "[I 2023-06-27 04:14:34,220] Trial 2 finished with value: 0.9214866845438371 and parameters: {'n_estimators': 4800, 'min_samples_split': 10, 'min_samples_leaf': 13, 'max_depth': 10}. Best is trial 2 with value: 0.9214866845438371.\n",
            "[I 2023-06-27 04:20:14,208] Trial 3 finished with value: 0.9362853267947246 and parameters: {'n_estimators': 8800, 'min_samples_split': 4, 'min_samples_leaf': 7, 'max_depth': 12}. Best is trial 3 with value: 0.9362853267947246.\n",
            "[I 2023-06-27 04:21:51,869] Trial 4 finished with value: 0.9250475826261274 and parameters: {'n_estimators': 2900, 'min_samples_split': 14, 'min_samples_leaf': 11, 'max_depth': 10}. Best is trial 3 with value: 0.9362853267947246.\n",
            "[I 2023-06-27 04:23:47,437] Trial 5 finished with value: 0.9416077243125585 and parameters: {'n_estimators': 3000, 'min_samples_split': 16, 'min_samples_leaf': 5, 'max_depth': 12}. Best is trial 5 with value: 0.9416077243125585.\n",
            "[I 2023-06-27 04:23:59,820] Trial 6 finished with value: 0.9364003820818685 and parameters: {'n_estimators': 300, 'min_samples_split': 6, 'min_samples_leaf': 7, 'max_depth': 20}. Best is trial 5 with value: 0.9416077243125585.\n",
            "[I 2023-06-27 04:28:45,917] Trial 7 finished with value: 0.9186418808416457 and parameters: {'n_estimators': 8100, 'min_samples_split': 4, 'min_samples_leaf': 15, 'max_depth': 28}. Best is trial 5 with value: 0.9416077243125585.\n",
            "[I 2023-06-27 04:30:14,312] Trial 8 finished with value: 0.9224041576523778 and parameters: {'n_estimators': 2400, 'min_samples_split': 10, 'min_samples_leaf': 13, 'max_depth': 16}. Best is trial 5 with value: 0.9416077243125585.\n",
            "[I 2023-06-27 04:33:15,899] Trial 9 finished with value: 0.9180296412375183 and parameters: {'n_estimators': 5600, 'min_samples_split': 20, 'min_samples_leaf': 15, 'max_depth': 10}. Best is trial 5 with value: 0.9416077243125585.\n"
          ]
        },
        {
          "output_type": "execute_result",
          "data": {
            "text/plain": [
              "OptunaSearchCV(estimator=ExtraTreesRegressor(), n_jobs=1,\n",
              "               param_distributions={'max_depth': IntDistribution(high=30, log=False, low=10, step=2),\n",
              "                                    'min_samples_leaf': IntDistribution(high=15, log=False, low=1, step=2),\n",
              "                                    'min_samples_split': IntDistribution(high=20, log=False, low=2, step=2),\n",
              "                                    'n_estimators': IntDistribution(high=10000, log=False, low=100, step=100)})"
            ],
            "text/html": [
              "<style>#sk-container-id-2 {color: black;background-color: white;}#sk-container-id-2 pre{padding: 0;}#sk-container-id-2 div.sk-toggleable {background-color: white;}#sk-container-id-2 label.sk-toggleable__label {cursor: pointer;display: block;width: 100%;margin-bottom: 0;padding: 0.3em;box-sizing: border-box;text-align: center;}#sk-container-id-2 label.sk-toggleable__label-arrow:before {content: \"▸\";float: left;margin-right: 0.25em;color: #696969;}#sk-container-id-2 label.sk-toggleable__label-arrow:hover:before {color: black;}#sk-container-id-2 div.sk-estimator:hover label.sk-toggleable__label-arrow:before {color: black;}#sk-container-id-2 div.sk-toggleable__content {max-height: 0;max-width: 0;overflow: hidden;text-align: left;background-color: #f0f8ff;}#sk-container-id-2 div.sk-toggleable__content pre {margin: 0.2em;color: black;border-radius: 0.25em;background-color: #f0f8ff;}#sk-container-id-2 input.sk-toggleable__control:checked~div.sk-toggleable__content {max-height: 200px;max-width: 100%;overflow: auto;}#sk-container-id-2 input.sk-toggleable__control:checked~label.sk-toggleable__label-arrow:before {content: \"▾\";}#sk-container-id-2 div.sk-estimator input.sk-toggleable__control:checked~label.sk-toggleable__label {background-color: #d4ebff;}#sk-container-id-2 div.sk-label input.sk-toggleable__control:checked~label.sk-toggleable__label {background-color: #d4ebff;}#sk-container-id-2 input.sk-hidden--visually {border: 0;clip: rect(1px 1px 1px 1px);clip: rect(1px, 1px, 1px, 1px);height: 1px;margin: -1px;overflow: hidden;padding: 0;position: absolute;width: 1px;}#sk-container-id-2 div.sk-estimator {font-family: monospace;background-color: #f0f8ff;border: 1px dotted black;border-radius: 0.25em;box-sizing: border-box;margin-bottom: 0.5em;}#sk-container-id-2 div.sk-estimator:hover {background-color: #d4ebff;}#sk-container-id-2 div.sk-parallel-item::after {content: \"\";width: 100%;border-bottom: 1px solid gray;flex-grow: 1;}#sk-container-id-2 div.sk-label:hover label.sk-toggleable__label {background-color: #d4ebff;}#sk-container-id-2 div.sk-serial::before {content: \"\";position: absolute;border-left: 1px solid gray;box-sizing: border-box;top: 0;bottom: 0;left: 50%;z-index: 0;}#sk-container-id-2 div.sk-serial {display: flex;flex-direction: column;align-items: center;background-color: white;padding-right: 0.2em;padding-left: 0.2em;position: relative;}#sk-container-id-2 div.sk-item {position: relative;z-index: 1;}#sk-container-id-2 div.sk-parallel {display: flex;align-items: stretch;justify-content: center;background-color: white;position: relative;}#sk-container-id-2 div.sk-item::before, #sk-container-id-2 div.sk-parallel-item::before {content: \"\";position: absolute;border-left: 1px solid gray;box-sizing: border-box;top: 0;bottom: 0;left: 50%;z-index: -1;}#sk-container-id-2 div.sk-parallel-item {display: flex;flex-direction: column;z-index: 1;position: relative;background-color: white;}#sk-container-id-2 div.sk-parallel-item:first-child::after {align-self: flex-end;width: 50%;}#sk-container-id-2 div.sk-parallel-item:last-child::after {align-self: flex-start;width: 50%;}#sk-container-id-2 div.sk-parallel-item:only-child::after {width: 0;}#sk-container-id-2 div.sk-dashed-wrapped {border: 1px dashed gray;margin: 0 0.4em 0.5em 0.4em;box-sizing: border-box;padding-bottom: 0.4em;background-color: white;}#sk-container-id-2 div.sk-label label {font-family: monospace;font-weight: bold;display: inline-block;line-height: 1.2em;}#sk-container-id-2 div.sk-label-container {text-align: center;}#sk-container-id-2 div.sk-container {/* jupyter's `normalize.less` sets `[hidden] { display: none; }` but bootstrap.min.css set `[hidden] { display: none !important; }` so we also need the `!important` here to be able to override the default hidden behavior on the sphinx rendered scikit-learn.org. See: https://github.com/scikit-learn/scikit-learn/issues/21755 */display: inline-block !important;position: relative;}#sk-container-id-2 div.sk-text-repr-fallback {display: none;}</style><div id=\"sk-container-id-2\" class=\"sk-top-container\"><div class=\"sk-text-repr-fallback\"><pre>OptunaSearchCV(estimator=ExtraTreesRegressor(), n_jobs=1,\n",
              "               param_distributions={&#x27;max_depth&#x27;: IntDistribution(high=30, log=False, low=10, step=2),\n",
              "                                    &#x27;min_samples_leaf&#x27;: IntDistribution(high=15, log=False, low=1, step=2),\n",
              "                                    &#x27;min_samples_split&#x27;: IntDistribution(high=20, log=False, low=2, step=2),\n",
              "                                    &#x27;n_estimators&#x27;: IntDistribution(high=10000, log=False, low=100, step=100)})</pre><b>In a Jupyter environment, please rerun this cell to show the HTML representation or trust the notebook. <br />On GitHub, the HTML representation is unable to render, please try loading this page with nbviewer.org.</b></div><div class=\"sk-container\" hidden><div class=\"sk-item sk-dashed-wrapped\"><div class=\"sk-label-container\"><div class=\"sk-label sk-toggleable\"><input class=\"sk-toggleable__control sk-hidden--visually\" id=\"sk-estimator-id-4\" type=\"checkbox\" ><label for=\"sk-estimator-id-4\" class=\"sk-toggleable__label sk-toggleable__label-arrow\">OptunaSearchCV</label><div class=\"sk-toggleable__content\"><pre>OptunaSearchCV(estimator=ExtraTreesRegressor(), n_jobs=1,\n",
              "               param_distributions={&#x27;max_depth&#x27;: IntDistribution(high=30, log=False, low=10, step=2),\n",
              "                                    &#x27;min_samples_leaf&#x27;: IntDistribution(high=15, log=False, low=1, step=2),\n",
              "                                    &#x27;min_samples_split&#x27;: IntDistribution(high=20, log=False, low=2, step=2),\n",
              "                                    &#x27;n_estimators&#x27;: IntDistribution(high=10000, log=False, low=100, step=100)})</pre></div></div></div><div class=\"sk-parallel\"><div class=\"sk-parallel-item\"><div class=\"sk-item\"><div class=\"sk-label-container\"><div class=\"sk-label sk-toggleable\"><input class=\"sk-toggleable__control sk-hidden--visually\" id=\"sk-estimator-id-5\" type=\"checkbox\" ><label for=\"sk-estimator-id-5\" class=\"sk-toggleable__label sk-toggleable__label-arrow\">estimator: ExtraTreesRegressor</label><div class=\"sk-toggleable__content\"><pre>ExtraTreesRegressor()</pre></div></div></div><div class=\"sk-serial\"><div class=\"sk-item\"><div class=\"sk-estimator sk-toggleable\"><input class=\"sk-toggleable__control sk-hidden--visually\" id=\"sk-estimator-id-6\" type=\"checkbox\" ><label for=\"sk-estimator-id-6\" class=\"sk-toggleable__label sk-toggleable__label-arrow\">ExtraTreesRegressor</label><div class=\"sk-toggleable__content\"><pre>ExtraTreesRegressor()</pre></div></div></div></div></div></div></div></div></div></div>"
            ]
          },
          "metadata": {},
          "execution_count": 106
        }
      ]
    },
    {
      "cell_type": "code",
      "source": [
        "my_model = optuna_search.best_estimator_"
      ],
      "metadata": {
        "id": "9J5Gal0P_dzh"
      },
      "execution_count": null,
      "outputs": []
    },
    {
      "cell_type": "code",
      "source": [
        "my_model.feature_importances_"
      ],
      "metadata": {
        "colab": {
          "base_uri": "https://localhost:8080/"
        },
        "id": "8bi66OQM_kbG",
        "outputId": "db0d38d6-9130-47ae-eb61-0ceab9646758"
      },
      "execution_count": null,
      "outputs": [
        {
          "output_type": "execute_result",
          "data": {
            "text/plain": [
              "array([6.07070113e-02, 5.64645915e-03, 7.05899438e-04, 1.27138428e-01,\n",
              "       1.29182586e-01, 3.31180025e-06, 4.57908055e-03, 3.44959749e-06,\n",
              "       2.24663178e-03, 5.78333755e-03, 1.94760491e-06, 6.31132735e-04,\n",
              "       0.00000000e+00, 2.61391650e-05, 3.66825572e-02, 7.52692301e-03,\n",
              "       1.45661876e-01, 1.32734001e-02, 5.73228483e-02, 2.57723962e-01,\n",
              "       1.25371383e-01, 8.86561290e-03, 1.09160237e-02])"
            ]
          },
          "metadata": {},
          "execution_count": 108
        }
      ]
    },
    {
      "cell_type": "code",
      "source": [
        "features = pd.DataFrame({'params': colnames, 'values': my_model.feature_importances_})\n",
        "features.sort_values(by=['values'], ascending=False)"
      ],
      "metadata": {
        "colab": {
          "base_uri": "https://localhost:8080/",
          "height": 770
        },
        "id": "92JOgIrMAAii",
        "outputId": "0ab17b78-d6f2-43c6-f700-e3d39d81dc94"
      },
      "execution_count": null,
      "outputs": [
        {
          "output_type": "execute_result",
          "data": {
            "text/plain": [
              "                          params    values\n",
              "19               max_power_count  0.257724\n",
              "16                           age  0.145662\n",
              "4            transmission_Manual  0.129183\n",
              "3         transmission_Automatic  0.127138\n",
              "20                      torque_1  0.125371\n",
              "0             seller_type_Dealer  0.060707\n",
              "18                 engine_volume  0.057323\n",
              "14                     km_driven  0.036683\n",
              "17                 mileage_count  0.013273\n",
              "22                       rpm_max  0.010916\n",
              "21                       rpm_min  0.008866\n",
              "15                         seats  0.007527\n",
              "9              owner_First Owner  0.005783\n",
              "1         seller_type_Individual  0.005646\n",
              "6                    fuel_Diesel  0.004579\n",
              "8                    fuel_Petrol  0.002247\n",
              "2   seller_type_Trustmark Dealer  0.000706\n",
              "11            owner_Second Owner  0.000631\n",
              "13             owner_Third Owner  0.000026\n",
              "7                       fuel_LPG  0.000003\n",
              "5                       fuel_CNG  0.000003\n",
              "10    owner_Fourth & Above Owner  0.000002\n",
              "12          owner_Test Drive Car  0.000000"
            ],
            "text/html": [
              "\n",
              "  <div id=\"df-305b198b-3d8c-497c-a360-f9c94df061e4\">\n",
              "    <div class=\"colab-df-container\">\n",
              "      <div>\n",
              "<style scoped>\n",
              "    .dataframe tbody tr th:only-of-type {\n",
              "        vertical-align: middle;\n",
              "    }\n",
              "\n",
              "    .dataframe tbody tr th {\n",
              "        vertical-align: top;\n",
              "    }\n",
              "\n",
              "    .dataframe thead th {\n",
              "        text-align: right;\n",
              "    }\n",
              "</style>\n",
              "<table border=\"1\" class=\"dataframe\">\n",
              "  <thead>\n",
              "    <tr style=\"text-align: right;\">\n",
              "      <th></th>\n",
              "      <th>params</th>\n",
              "      <th>values</th>\n",
              "    </tr>\n",
              "  </thead>\n",
              "  <tbody>\n",
              "    <tr>\n",
              "      <th>19</th>\n",
              "      <td>max_power_count</td>\n",
              "      <td>0.257724</td>\n",
              "    </tr>\n",
              "    <tr>\n",
              "      <th>16</th>\n",
              "      <td>age</td>\n",
              "      <td>0.145662</td>\n",
              "    </tr>\n",
              "    <tr>\n",
              "      <th>4</th>\n",
              "      <td>transmission_Manual</td>\n",
              "      <td>0.129183</td>\n",
              "    </tr>\n",
              "    <tr>\n",
              "      <th>3</th>\n",
              "      <td>transmission_Automatic</td>\n",
              "      <td>0.127138</td>\n",
              "    </tr>\n",
              "    <tr>\n",
              "      <th>20</th>\n",
              "      <td>torque_1</td>\n",
              "      <td>0.125371</td>\n",
              "    </tr>\n",
              "    <tr>\n",
              "      <th>0</th>\n",
              "      <td>seller_type_Dealer</td>\n",
              "      <td>0.060707</td>\n",
              "    </tr>\n",
              "    <tr>\n",
              "      <th>18</th>\n",
              "      <td>engine_volume</td>\n",
              "      <td>0.057323</td>\n",
              "    </tr>\n",
              "    <tr>\n",
              "      <th>14</th>\n",
              "      <td>km_driven</td>\n",
              "      <td>0.036683</td>\n",
              "    </tr>\n",
              "    <tr>\n",
              "      <th>17</th>\n",
              "      <td>mileage_count</td>\n",
              "      <td>0.013273</td>\n",
              "    </tr>\n",
              "    <tr>\n",
              "      <th>22</th>\n",
              "      <td>rpm_max</td>\n",
              "      <td>0.010916</td>\n",
              "    </tr>\n",
              "    <tr>\n",
              "      <th>21</th>\n",
              "      <td>rpm_min</td>\n",
              "      <td>0.008866</td>\n",
              "    </tr>\n",
              "    <tr>\n",
              "      <th>15</th>\n",
              "      <td>seats</td>\n",
              "      <td>0.007527</td>\n",
              "    </tr>\n",
              "    <tr>\n",
              "      <th>9</th>\n",
              "      <td>owner_First Owner</td>\n",
              "      <td>0.005783</td>\n",
              "    </tr>\n",
              "    <tr>\n",
              "      <th>1</th>\n",
              "      <td>seller_type_Individual</td>\n",
              "      <td>0.005646</td>\n",
              "    </tr>\n",
              "    <tr>\n",
              "      <th>6</th>\n",
              "      <td>fuel_Diesel</td>\n",
              "      <td>0.004579</td>\n",
              "    </tr>\n",
              "    <tr>\n",
              "      <th>8</th>\n",
              "      <td>fuel_Petrol</td>\n",
              "      <td>0.002247</td>\n",
              "    </tr>\n",
              "    <tr>\n",
              "      <th>2</th>\n",
              "      <td>seller_type_Trustmark Dealer</td>\n",
              "      <td>0.000706</td>\n",
              "    </tr>\n",
              "    <tr>\n",
              "      <th>11</th>\n",
              "      <td>owner_Second Owner</td>\n",
              "      <td>0.000631</td>\n",
              "    </tr>\n",
              "    <tr>\n",
              "      <th>13</th>\n",
              "      <td>owner_Third Owner</td>\n",
              "      <td>0.000026</td>\n",
              "    </tr>\n",
              "    <tr>\n",
              "      <th>7</th>\n",
              "      <td>fuel_LPG</td>\n",
              "      <td>0.000003</td>\n",
              "    </tr>\n",
              "    <tr>\n",
              "      <th>5</th>\n",
              "      <td>fuel_CNG</td>\n",
              "      <td>0.000003</td>\n",
              "    </tr>\n",
              "    <tr>\n",
              "      <th>10</th>\n",
              "      <td>owner_Fourth &amp; Above Owner</td>\n",
              "      <td>0.000002</td>\n",
              "    </tr>\n",
              "    <tr>\n",
              "      <th>12</th>\n",
              "      <td>owner_Test Drive Car</td>\n",
              "      <td>0.000000</td>\n",
              "    </tr>\n",
              "  </tbody>\n",
              "</table>\n",
              "</div>\n",
              "      <button class=\"colab-df-convert\" onclick=\"convertToInteractive('df-305b198b-3d8c-497c-a360-f9c94df061e4')\"\n",
              "              title=\"Convert this dataframe to an interactive table.\"\n",
              "              style=\"display:none;\">\n",
              "        \n",
              "  <svg xmlns=\"http://www.w3.org/2000/svg\" height=\"24px\"viewBox=\"0 0 24 24\"\n",
              "       width=\"24px\">\n",
              "    <path d=\"M0 0h24v24H0V0z\" fill=\"none\"/>\n",
              "    <path d=\"M18.56 5.44l.94 2.06.94-2.06 2.06-.94-2.06-.94-.94-2.06-.94 2.06-2.06.94zm-11 1L8.5 8.5l.94-2.06 2.06-.94-2.06-.94L8.5 2.5l-.94 2.06-2.06.94zm10 10l.94 2.06.94-2.06 2.06-.94-2.06-.94-.94-2.06-.94 2.06-2.06.94z\"/><path d=\"M17.41 7.96l-1.37-1.37c-.4-.4-.92-.59-1.43-.59-.52 0-1.04.2-1.43.59L10.3 9.45l-7.72 7.72c-.78.78-.78 2.05 0 2.83L4 21.41c.39.39.9.59 1.41.59.51 0 1.02-.2 1.41-.59l7.78-7.78 2.81-2.81c.8-.78.8-2.07 0-2.86zM5.41 20L4 18.59l7.72-7.72 1.47 1.35L5.41 20z\"/>\n",
              "  </svg>\n",
              "      </button>\n",
              "      \n",
              "  <style>\n",
              "    .colab-df-container {\n",
              "      display:flex;\n",
              "      flex-wrap:wrap;\n",
              "      gap: 12px;\n",
              "    }\n",
              "\n",
              "    .colab-df-convert {\n",
              "      background-color: #E8F0FE;\n",
              "      border: none;\n",
              "      border-radius: 50%;\n",
              "      cursor: pointer;\n",
              "      display: none;\n",
              "      fill: #1967D2;\n",
              "      height: 32px;\n",
              "      padding: 0 0 0 0;\n",
              "      width: 32px;\n",
              "    }\n",
              "\n",
              "    .colab-df-convert:hover {\n",
              "      background-color: #E2EBFA;\n",
              "      box-shadow: 0px 1px 2px rgba(60, 64, 67, 0.3), 0px 1px 3px 1px rgba(60, 64, 67, 0.15);\n",
              "      fill: #174EA6;\n",
              "    }\n",
              "\n",
              "    [theme=dark] .colab-df-convert {\n",
              "      background-color: #3B4455;\n",
              "      fill: #D2E3FC;\n",
              "    }\n",
              "\n",
              "    [theme=dark] .colab-df-convert:hover {\n",
              "      background-color: #434B5C;\n",
              "      box-shadow: 0px 1px 3px 1px rgba(0, 0, 0, 0.15);\n",
              "      filter: drop-shadow(0px 1px 2px rgba(0, 0, 0, 0.3));\n",
              "      fill: #FFFFFF;\n",
              "    }\n",
              "  </style>\n",
              "\n",
              "      <script>\n",
              "        const buttonEl =\n",
              "          document.querySelector('#df-305b198b-3d8c-497c-a360-f9c94df061e4 button.colab-df-convert');\n",
              "        buttonEl.style.display =\n",
              "          google.colab.kernel.accessAllowed ? 'block' : 'none';\n",
              "\n",
              "        async function convertToInteractive(key) {\n",
              "          const element = document.querySelector('#df-305b198b-3d8c-497c-a360-f9c94df061e4');\n",
              "          const dataTable =\n",
              "            await google.colab.kernel.invokeFunction('convertToInteractive',\n",
              "                                                     [key], {});\n",
              "          if (!dataTable) return;\n",
              "\n",
              "          const docLinkHtml = 'Like what you see? Visit the ' +\n",
              "            '<a target=\"_blank\" href=https://colab.research.google.com/notebooks/data_table.ipynb>data table notebook</a>'\n",
              "            + ' to learn more about interactive tables.';\n",
              "          element.innerHTML = '';\n",
              "          dataTable['output_type'] = 'display_data';\n",
              "          await google.colab.output.renderOutput(dataTable, element);\n",
              "          const docLink = document.createElement('div');\n",
              "          docLink.innerHTML = docLinkHtml;\n",
              "          element.appendChild(docLink);\n",
              "        }\n",
              "      </script>\n",
              "    </div>\n",
              "  </div>\n",
              "  "
            ]
          },
          "metadata": {},
          "execution_count": 109
        }
      ]
    },
    {
      "cell_type": "markdown",
      "source": [
        "Что ж, важность фичей вопросов с точки зрения интуиции не вызывает."
      ],
      "metadata": {
        "id": "hjKc_9HPAdRp"
      }
    },
    {
      "cell_type": "code",
      "source": [
        "mean_squared_error(y_test, my_model.predict(X_test_st))"
      ],
      "metadata": {
        "colab": {
          "base_uri": "https://localhost:8080/"
        },
        "id": "D2MGc66P_0A8",
        "outputId": "0ec911b8-11ca-4bc0-eb87-d2399a233aaa"
      },
      "execution_count": null,
      "outputs": [
        {
          "output_type": "execute_result",
          "data": {
            "text/plain": [
              "19896624768.089745"
            ]
          },
          "metadata": {},
          "execution_count": 110
        }
      ]
    },
    {
      "cell_type": "code",
      "source": [
        "print('Predictions mean:', preds.mean(), 'standard deviation:', preds.std())\n",
        "print('Selling price mean:', df.selling_price.mean(), 'standard deviation', df.selling_price.std())"
      ],
      "metadata": {
        "colab": {
          "base_uri": "https://localhost:8080/"
        },
        "id": "z94Eb7uBJdAE",
        "outputId": "7e90d076-29c7-4ea8-811f-f0a09b930dc3"
      },
      "execution_count": null,
      "outputs": [
        {
          "output_type": "stream",
          "name": "stdout",
          "text": [
            "Predictions mean: 628823.8196281209 standard deviation: 732419.4946548749\n",
            "Selling price mean: 651657.6240988672 standard deviation 816716.4903396886\n"
          ]
        }
      ]
    },
    {
      "cell_type": "markdown",
      "source": [],
      "metadata": {
        "id": "5sksFcJWLy-Q"
      }
    }
  ]
}