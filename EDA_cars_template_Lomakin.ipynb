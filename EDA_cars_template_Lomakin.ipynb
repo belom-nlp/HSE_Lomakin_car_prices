{
  "nbformat": 4,
  "nbformat_minor": 0,
  "metadata": {
    "colab": {
      "provenance": [],
      "collapsed_sections": [
        "82EB3dIau8iR"
      ],
      "toc_visible": true,
      "include_colab_link": true
    },
    "kernelspec": {
      "name": "python3",
      "display_name": "Python 3"
    },
    "language_info": {
      "name": "python"
    }
  },
  "cells": [
    {
      "cell_type": "markdown",
      "metadata": {
        "id": "view-in-github",
        "colab_type": "text"
      },
      "source": [
        "<a href=\"https://colab.research.google.com/github/belom-nlp/HSE_Lomakin_car_prices/blob/main/EDA_cars_template_Lomakin.ipynb\" target=\"_parent\"><img src=\"https://colab.research.google.com/assets/colab-badge.svg\" alt=\"Open In Colab\"/></a>"
      ]
    },
    {
      "cell_type": "markdown",
      "source": [
        "# Подержанные автомобили"
      ],
      "metadata": {
        "id": "d04VdHY7jUnn"
      }
    },
    {
      "cell_type": "markdown",
      "source": [
        "Датасет содержит информацию о характеристиках и ценах подержанных автомобилей в некоторой стране"
      ],
      "metadata": {
        "id": "DxMCeYxukBKi"
      }
    },
    {
      "cell_type": "markdown",
      "source": [
        "## Импорт библиотек, константы"
      ],
      "metadata": {
        "id": "lhA1Am55jZ3D"
      }
    },
    {
      "cell_type": "code",
      "execution_count": null,
      "metadata": {
        "id": "HV1hv_cBi-zx"
      },
      "outputs": [],
      "source": [
        "import numpy as np\n",
        "import pandas as pd\n",
        "import seaborn as sns\n",
        "import matplotlib.pyplot as plt"
      ]
    },
    {
      "cell_type": "code",
      "source": [
        "RANDOM_STATE = 42"
      ],
      "metadata": {
        "id": "IfM0ZXowjluS"
      },
      "execution_count": null,
      "outputs": []
    },
    {
      "cell_type": "code",
      "source": [
        "DATASET_PATH = \"https://raw.githubusercontent.com/evgpat/edu_stepik_from_idea_to_mvp/main/datasets/cars.csv\""
      ],
      "metadata": {
        "id": "otQxpwuxjoBA"
      },
      "execution_count": null,
      "outputs": []
    },
    {
      "cell_type": "markdown",
      "source": [
        "## Загрузка и обзор данных"
      ],
      "metadata": {
        "id": "Fp7HfNokjzdr"
      }
    },
    {
      "cell_type": "markdown",
      "source": [
        "### Загрузка"
      ],
      "metadata": {
        "id": "voBVih6bkqoP"
      }
    },
    {
      "cell_type": "code",
      "source": [
        "# загрузка данных\n",
        "df = pd.read_csv(DATASET_PATH)"
      ],
      "metadata": {
        "id": "akRLgc55jyGl"
      },
      "execution_count": null,
      "outputs": []
    },
    {
      "cell_type": "markdown",
      "source": [
        "### Описание данных"
      ],
      "metadata": {
        "id": "mNHZ_G-tkb1e"
      }
    },
    {
      "cell_type": "markdown",
      "source": [
        "**Целевая переменная**\n",
        "- `selling_price`: цена продажи, числовая\n",
        "\n",
        "**Признаки**\n",
        "- `name` (string): модель автомобиля\n",
        "- `year` (numeric, int): год выпуска с завода-изготовителя\n",
        "- `km_driven` (numeric, int): пробег на дату продажи\n",
        "- `fuel` (categorical: _Diesel_ или _Petrol_, или _CNG_, или _LPG_, или _electric_): тип топлива\n",
        "- `seller_type` (categorical: _Individual_ или _Dealer_, или _Trustmark Dealer_): продавец\n",
        "- `transmission` (categorical: _Manual_ или _Automatic_): тип трансмиссии\n",
        "- `owner` (categorical: _First Owner_ или _Second Owner_, или _Third Owner_, или _Fourth & Above Owner_): какой по счёту хозяин?\n",
        "- `mileage` (string, по смыслу числовой): пробег, требует предобработки\n",
        "- `engine` (string, по смыслу числовой): рабочий объем двигателя, требует предобработки\n",
        "- `max_power` (string, по смыслу числовой): пиковая мощность двигателя, требует предобработки\n",
        "- `torque` (string, по смыслу числовой, а то и 2): крутящий момент, требует предобработки\n",
        "- `seats` (numeric, float; по смыслу categorical, int)"
      ],
      "metadata": {
        "id": "3FxkHi2QkEPV"
      }
    },
    {
      "cell_type": "code",
      "source": [
        "# информация от столбцах\n",
        "df.info()"
      ],
      "metadata": {
        "colab": {
          "base_uri": "https://localhost:8080/"
        },
        "id": "VterO9sXkWTi",
        "outputId": "d1a4beb1-3c72-4fe1-90e8-07210de1f514"
      },
      "execution_count": null,
      "outputs": [
        {
          "output_type": "stream",
          "name": "stdout",
          "text": [
            "<class 'pandas.core.frame.DataFrame'>\n",
            "RangeIndex: 6999 entries, 0 to 6998\n",
            "Data columns (total 13 columns):\n",
            " #   Column         Non-Null Count  Dtype  \n",
            "---  ------         --------------  -----  \n",
            " 0   name           6999 non-null   object \n",
            " 1   year           6999 non-null   int64  \n",
            " 2   selling_price  6999 non-null   int64  \n",
            " 3   km_driven      6999 non-null   int64  \n",
            " 4   fuel           6999 non-null   object \n",
            " 5   seller_type    6999 non-null   object \n",
            " 6   transmission   6999 non-null   object \n",
            " 7   owner          6999 non-null   object \n",
            " 8   mileage        6797 non-null   object \n",
            " 9   engine         6797 non-null   object \n",
            " 10  max_power      6803 non-null   object \n",
            " 11  torque         6796 non-null   object \n",
            " 12  seats          6797 non-null   float64\n",
            "dtypes: float64(1), int64(3), object(9)\n",
            "memory usage: 711.0+ KB\n"
          ]
        }
      ]
    },
    {
      "cell_type": "markdown",
      "source": [
        "Как видим, в колонках с 8 по 12 у нас есть пропуски в данных (максимум около 200). Посмотрим, совпадают они или нет."
      ],
      "metadata": {
        "id": "nH8eJC0FjmJ4"
      }
    },
    {
      "cell_type": "code",
      "source": [
        "df[df.mileage.isnull()].index == df[df.engine.isnull()].index"
      ],
      "metadata": {
        "colab": {
          "base_uri": "https://localhost:8080/"
        },
        "id": "4yAjN5DihJg8",
        "outputId": "dc8c5887-9eb4-4518-9e28-620ea8dc339a"
      },
      "execution_count": null,
      "outputs": [
        {
          "output_type": "execute_result",
          "data": {
            "text/plain": [
              "array([ True,  True,  True,  True,  True,  True,  True,  True,  True,\n",
              "        True,  True,  True,  True,  True,  True,  True,  True,  True,\n",
              "        True,  True,  True,  True,  True,  True,  True,  True,  True,\n",
              "        True,  True,  True,  True,  True,  True,  True,  True,  True,\n",
              "        True,  True,  True,  True,  True,  True,  True,  True,  True,\n",
              "        True,  True,  True,  True,  True,  True,  True,  True,  True,\n",
              "        True,  True,  True,  True,  True,  True,  True,  True,  True,\n",
              "        True,  True,  True,  True,  True,  True,  True,  True,  True,\n",
              "        True,  True,  True,  True,  True,  True,  True,  True,  True,\n",
              "        True,  True,  True,  True,  True,  True,  True,  True,  True,\n",
              "        True,  True,  True,  True,  True,  True,  True,  True,  True,\n",
              "        True,  True,  True,  True,  True,  True,  True,  True,  True,\n",
              "        True,  True,  True,  True,  True,  True,  True,  True,  True,\n",
              "        True,  True,  True,  True,  True,  True,  True,  True,  True,\n",
              "        True,  True,  True,  True,  True,  True,  True,  True,  True,\n",
              "        True,  True,  True,  True,  True,  True,  True,  True,  True,\n",
              "        True,  True,  True,  True,  True,  True,  True,  True,  True,\n",
              "        True,  True,  True,  True,  True,  True,  True,  True,  True,\n",
              "        True,  True,  True,  True,  True,  True,  True,  True,  True,\n",
              "        True,  True,  True,  True,  True,  True,  True,  True,  True,\n",
              "        True,  True,  True,  True,  True,  True,  True,  True,  True,\n",
              "        True,  True,  True,  True,  True,  True,  True,  True,  True,\n",
              "        True,  True,  True,  True])"
            ]
          },
          "metadata": {},
          "execution_count": 6
        }
      ]
    },
    {
      "cell_type": "code",
      "source": [
        "df[df.mileage.isnull()].index == df[df.seats.isnull()].index"
      ],
      "metadata": {
        "colab": {
          "base_uri": "https://localhost:8080/"
        },
        "id": "tHi7yh4uhvVx",
        "outputId": "e472a8b4-a596-4469-a5ca-6426a839f3d7"
      },
      "execution_count": null,
      "outputs": [
        {
          "output_type": "execute_result",
          "data": {
            "text/plain": [
              "array([ True,  True,  True,  True,  True,  True,  True,  True,  True,\n",
              "        True,  True,  True,  True,  True,  True,  True,  True,  True,\n",
              "        True,  True,  True,  True,  True,  True,  True,  True,  True,\n",
              "        True,  True,  True,  True,  True,  True,  True,  True,  True,\n",
              "        True,  True,  True,  True,  True,  True,  True,  True,  True,\n",
              "        True,  True,  True,  True,  True,  True,  True,  True,  True,\n",
              "        True,  True,  True,  True,  True,  True,  True,  True,  True,\n",
              "        True,  True,  True,  True,  True,  True,  True,  True,  True,\n",
              "        True,  True,  True,  True,  True,  True,  True,  True,  True,\n",
              "        True,  True,  True,  True,  True,  True,  True,  True,  True,\n",
              "        True,  True,  True,  True,  True,  True,  True,  True,  True,\n",
              "        True,  True,  True,  True,  True,  True,  True,  True,  True,\n",
              "        True,  True,  True,  True,  True,  True,  True,  True,  True,\n",
              "        True,  True,  True,  True,  True,  True,  True,  True,  True,\n",
              "        True,  True,  True,  True,  True,  True,  True,  True,  True,\n",
              "        True,  True,  True,  True,  True,  True,  True,  True,  True,\n",
              "        True,  True,  True,  True,  True,  True,  True,  True,  True,\n",
              "        True,  True,  True,  True,  True,  True,  True,  True,  True,\n",
              "        True,  True,  True,  True,  True,  True,  True,  True,  True,\n",
              "        True,  True,  True,  True,  True,  True,  True,  True,  True,\n",
              "        True,  True,  True,  True,  True,  True,  True,  True,  True,\n",
              "        True,  True,  True,  True,  True,  True,  True,  True,  True,\n",
              "        True,  True,  True,  True])"
            ]
          },
          "metadata": {},
          "execution_count": 7
        }
      ]
    },
    {
      "cell_type": "markdown",
      "source": [
        "Прекраснейшим образом совпадают. Попробуем убрать."
      ],
      "metadata": {
        "id": "V3N-Vqwah6FH"
      }
    },
    {
      "cell_type": "code",
      "source": [
        "df_1 = df.dropna(subset=['mileage'])"
      ],
      "metadata": {
        "id": "hcCAs1Xovj5s"
      },
      "execution_count": null,
      "outputs": []
    },
    {
      "cell_type": "code",
      "source": [
        "df_1.info()"
      ],
      "metadata": {
        "colab": {
          "base_uri": "https://localhost:8080/"
        },
        "id": "k1vabbihvp-4",
        "outputId": "6cfcf7fc-1149-4e9a-aad3-71bcbb77d37e"
      },
      "execution_count": null,
      "outputs": [
        {
          "output_type": "stream",
          "name": "stdout",
          "text": [
            "<class 'pandas.core.frame.DataFrame'>\n",
            "Int64Index: 6797 entries, 0 to 6998\n",
            "Data columns (total 18 columns):\n",
            " #   Column           Non-Null Count  Dtype  \n",
            "---  ------           --------------  -----  \n",
            " 0   name             6797 non-null   object \n",
            " 1   year             6797 non-null   int64  \n",
            " 2   selling_price    6797 non-null   int64  \n",
            " 3   km_driven        6797 non-null   int64  \n",
            " 4   fuel             6797 non-null   object \n",
            " 5   seller_type      6797 non-null   object \n",
            " 6   transmission     6797 non-null   object \n",
            " 7   owner            6797 non-null   object \n",
            " 8   mileage          6797 non-null   object \n",
            " 9   engine           6797 non-null   object \n",
            " 10  max_power        6797 non-null   object \n",
            " 11  torque           6796 non-null   object \n",
            " 12  seats            6797 non-null   float64\n",
            " 13  age              6797 non-null   int64  \n",
            " 14  mileage_count    6797 non-null   float64\n",
            " 15  mileage_measure  6797 non-null   object \n",
            " 16  engine_volume    6797 non-null   float64\n",
            " 17  max_power_count  6796 non-null   float64\n",
            "dtypes: float64(4), int64(4), object(10)\n",
            "memory usage: 1008.9+ KB\n"
          ]
        }
      ]
    },
    {
      "cell_type": "markdown",
      "source": [
        "Идеально!"
      ],
      "metadata": {
        "id": "j8t0NJfJvvGO"
      }
    },
    {
      "cell_type": "code",
      "source": [
        "# случайные три записи из датасета\n",
        "df.sample(3)"
      ],
      "metadata": {
        "colab": {
          "base_uri": "https://localhost:8080/",
          "height": 485
        },
        "id": "RsDeQvZXmVpW",
        "outputId": "8a42cc91-6652-44f4-ce2f-916b2b6668f8"
      },
      "execution_count": null,
      "outputs": [
        {
          "output_type": "execute_result",
          "data": {
            "text/plain": [
              "                                             name  year  selling_price  \\\n",
              "6101  Ford EcoSport 1.5 Diesel Titanium Plus BSIV  2017         880000   \n",
              "4928      Mahindra Bolero 2011-2019 SLX 2WD BSIII  2013         500000   \n",
              "1609                Honda Amaze V CVT Petrol BSIV  2019         779000   \n",
              "\n",
              "      km_driven    fuel       seller_type transmission        owner  \\\n",
              "6101      33000  Diesel        Individual       Manual  First Owner   \n",
              "4928     160000  Diesel        Individual       Manual  First Owner   \n",
              "1609       7032  Petrol  Trustmark Dealer    Automatic  First Owner   \n",
              "\n",
              "         mileage   engine  max_power               torque  seats  \n",
              "6101   23.0 kmpl  1498 CC  98.96 bhp  205Nm@ 1750-3250rpm    5.0  \n",
              "4928  15.96 kmpl  2523 CC   62.1 bhp  195Nm@ 1400-2200rpm    7.0  \n",
              "1609   19.0 kmpl  1199 CC  88.76 bhp       110Nm@ 4800rpm    5.0  "
            ],
            "text/html": [
              "\n",
              "  <div id=\"df-48092359-f019-4054-a70a-bdb42f6075b0\">\n",
              "    <div class=\"colab-df-container\">\n",
              "      <div>\n",
              "<style scoped>\n",
              "    .dataframe tbody tr th:only-of-type {\n",
              "        vertical-align: middle;\n",
              "    }\n",
              "\n",
              "    .dataframe tbody tr th {\n",
              "        vertical-align: top;\n",
              "    }\n",
              "\n",
              "    .dataframe thead th {\n",
              "        text-align: right;\n",
              "    }\n",
              "</style>\n",
              "<table border=\"1\" class=\"dataframe\">\n",
              "  <thead>\n",
              "    <tr style=\"text-align: right;\">\n",
              "      <th></th>\n",
              "      <th>name</th>\n",
              "      <th>year</th>\n",
              "      <th>selling_price</th>\n",
              "      <th>km_driven</th>\n",
              "      <th>fuel</th>\n",
              "      <th>seller_type</th>\n",
              "      <th>transmission</th>\n",
              "      <th>owner</th>\n",
              "      <th>mileage</th>\n",
              "      <th>engine</th>\n",
              "      <th>max_power</th>\n",
              "      <th>torque</th>\n",
              "      <th>seats</th>\n",
              "    </tr>\n",
              "  </thead>\n",
              "  <tbody>\n",
              "    <tr>\n",
              "      <th>6101</th>\n",
              "      <td>Ford EcoSport 1.5 Diesel Titanium Plus BSIV</td>\n",
              "      <td>2017</td>\n",
              "      <td>880000</td>\n",
              "      <td>33000</td>\n",
              "      <td>Diesel</td>\n",
              "      <td>Individual</td>\n",
              "      <td>Manual</td>\n",
              "      <td>First Owner</td>\n",
              "      <td>23.0 kmpl</td>\n",
              "      <td>1498 CC</td>\n",
              "      <td>98.96 bhp</td>\n",
              "      <td>205Nm@ 1750-3250rpm</td>\n",
              "      <td>5.0</td>\n",
              "    </tr>\n",
              "    <tr>\n",
              "      <th>4928</th>\n",
              "      <td>Mahindra Bolero 2011-2019 SLX 2WD BSIII</td>\n",
              "      <td>2013</td>\n",
              "      <td>500000</td>\n",
              "      <td>160000</td>\n",
              "      <td>Diesel</td>\n",
              "      <td>Individual</td>\n",
              "      <td>Manual</td>\n",
              "      <td>First Owner</td>\n",
              "      <td>15.96 kmpl</td>\n",
              "      <td>2523 CC</td>\n",
              "      <td>62.1 bhp</td>\n",
              "      <td>195Nm@ 1400-2200rpm</td>\n",
              "      <td>7.0</td>\n",
              "    </tr>\n",
              "    <tr>\n",
              "      <th>1609</th>\n",
              "      <td>Honda Amaze V CVT Petrol BSIV</td>\n",
              "      <td>2019</td>\n",
              "      <td>779000</td>\n",
              "      <td>7032</td>\n",
              "      <td>Petrol</td>\n",
              "      <td>Trustmark Dealer</td>\n",
              "      <td>Automatic</td>\n",
              "      <td>First Owner</td>\n",
              "      <td>19.0 kmpl</td>\n",
              "      <td>1199 CC</td>\n",
              "      <td>88.76 bhp</td>\n",
              "      <td>110Nm@ 4800rpm</td>\n",
              "      <td>5.0</td>\n",
              "    </tr>\n",
              "  </tbody>\n",
              "</table>\n",
              "</div>\n",
              "      <button class=\"colab-df-convert\" onclick=\"convertToInteractive('df-48092359-f019-4054-a70a-bdb42f6075b0')\"\n",
              "              title=\"Convert this dataframe to an interactive table.\"\n",
              "              style=\"display:none;\">\n",
              "        \n",
              "  <svg xmlns=\"http://www.w3.org/2000/svg\" height=\"24px\"viewBox=\"0 0 24 24\"\n",
              "       width=\"24px\">\n",
              "    <path d=\"M0 0h24v24H0V0z\" fill=\"none\"/>\n",
              "    <path d=\"M18.56 5.44l.94 2.06.94-2.06 2.06-.94-2.06-.94-.94-2.06-.94 2.06-2.06.94zm-11 1L8.5 8.5l.94-2.06 2.06-.94-2.06-.94L8.5 2.5l-.94 2.06-2.06.94zm10 10l.94 2.06.94-2.06 2.06-.94-2.06-.94-.94-2.06-.94 2.06-2.06.94z\"/><path d=\"M17.41 7.96l-1.37-1.37c-.4-.4-.92-.59-1.43-.59-.52 0-1.04.2-1.43.59L10.3 9.45l-7.72 7.72c-.78.78-.78 2.05 0 2.83L4 21.41c.39.39.9.59 1.41.59.51 0 1.02-.2 1.41-.59l7.78-7.78 2.81-2.81c.8-.78.8-2.07 0-2.86zM5.41 20L4 18.59l7.72-7.72 1.47 1.35L5.41 20z\"/>\n",
              "  </svg>\n",
              "      </button>\n",
              "      \n",
              "  <style>\n",
              "    .colab-df-container {\n",
              "      display:flex;\n",
              "      flex-wrap:wrap;\n",
              "      gap: 12px;\n",
              "    }\n",
              "\n",
              "    .colab-df-convert {\n",
              "      background-color: #E8F0FE;\n",
              "      border: none;\n",
              "      border-radius: 50%;\n",
              "      cursor: pointer;\n",
              "      display: none;\n",
              "      fill: #1967D2;\n",
              "      height: 32px;\n",
              "      padding: 0 0 0 0;\n",
              "      width: 32px;\n",
              "    }\n",
              "\n",
              "    .colab-df-convert:hover {\n",
              "      background-color: #E2EBFA;\n",
              "      box-shadow: 0px 1px 2px rgba(60, 64, 67, 0.3), 0px 1px 3px 1px rgba(60, 64, 67, 0.15);\n",
              "      fill: #174EA6;\n",
              "    }\n",
              "\n",
              "    [theme=dark] .colab-df-convert {\n",
              "      background-color: #3B4455;\n",
              "      fill: #D2E3FC;\n",
              "    }\n",
              "\n",
              "    [theme=dark] .colab-df-convert:hover {\n",
              "      background-color: #434B5C;\n",
              "      box-shadow: 0px 1px 3px 1px rgba(0, 0, 0, 0.15);\n",
              "      filter: drop-shadow(0px 1px 2px rgba(0, 0, 0, 0.3));\n",
              "      fill: #FFFFFF;\n",
              "    }\n",
              "  </style>\n",
              "\n",
              "      <script>\n",
              "        const buttonEl =\n",
              "          document.querySelector('#df-48092359-f019-4054-a70a-bdb42f6075b0 button.colab-df-convert');\n",
              "        buttonEl.style.display =\n",
              "          google.colab.kernel.accessAllowed ? 'block' : 'none';\n",
              "\n",
              "        async function convertToInteractive(key) {\n",
              "          const element = document.querySelector('#df-48092359-f019-4054-a70a-bdb42f6075b0');\n",
              "          const dataTable =\n",
              "            await google.colab.kernel.invokeFunction('convertToInteractive',\n",
              "                                                     [key], {});\n",
              "          if (!dataTable) return;\n",
              "\n",
              "          const docLinkHtml = 'Like what you see? Visit the ' +\n",
              "            '<a target=\"_blank\" href=https://colab.research.google.com/notebooks/data_table.ipynb>data table notebook</a>'\n",
              "            + ' to learn more about interactive tables.';\n",
              "          element.innerHTML = '';\n",
              "          dataTable['output_type'] = 'display_data';\n",
              "          await google.colab.output.renderOutput(dataTable, element);\n",
              "          const docLink = document.createElement('div');\n",
              "          docLink.innerHTML = docLinkHtml;\n",
              "          element.appendChild(docLink);\n",
              "        }\n",
              "      </script>\n",
              "    </div>\n",
              "  </div>\n",
              "  "
            ]
          },
          "metadata": {},
          "execution_count": 8
        }
      ]
    },
    {
      "cell_type": "markdown",
      "source": [
        "# Предобработка данных"
      ],
      "metadata": {
        "id": "e-LvKj-Loz3k"
      }
    },
    {
      "cell_type": "markdown",
      "source": [
        "Выясним, нужна ли нам переменная name."
      ],
      "metadata": {
        "id": "REAg936UkLRI"
      }
    },
    {
      "cell_type": "code",
      "source": [
        "df.name.nunique()"
      ],
      "metadata": {
        "colab": {
          "base_uri": "https://localhost:8080/"
        },
        "id": "fFjlsU9YkEYv",
        "outputId": "f08f9c04-6b12-4262-9f44-40c8db44c724"
      },
      "execution_count": null,
      "outputs": [
        {
          "output_type": "execute_result",
          "data": {
            "text/plain": [
              "1924"
            ]
          },
          "metadata": {},
          "execution_count": 9
        }
      ]
    },
    {
      "cell_type": "markdown",
      "source": [
        "Видим, что у нас 1924 различных класса. Класс вполне может влиять на стоимость машины, избавиться от этой переменной мы не сможем."
      ],
      "metadata": {
        "id": "ObuNNIKskU2U"
      }
    },
    {
      "cell_type": "markdown",
      "source": [
        "## Year"
      ],
      "metadata": {
        "id": "82EB3dIau8iR"
      }
    },
    {
      "cell_type": "markdown",
      "source": [
        "Посмотрим на то, какие годы представлены в колонке year, максимальное и минимальное значение."
      ],
      "metadata": {
        "id": "f4X5ajw-k4va"
      }
    },
    {
      "cell_type": "code",
      "source": [
        "print('Число уникальных элементов в столбце:', df.year.nunique())\n",
        "print('Годы представлены в диапазоне от', df.year.unique().min(), 'до', df.year.unique().max())"
      ],
      "metadata": {
        "colab": {
          "base_uri": "https://localhost:8080/"
        },
        "id": "mEDMRkAKlDrI",
        "outputId": "ac8d70e7-5451-4d9e-b8a6-d152add4c81d"
      },
      "execution_count": null,
      "outputs": [
        {
          "output_type": "stream",
          "name": "stdout",
          "text": [
            "Число уникальных элементов в столбце: 29\n",
            "Годы представлены в диапазоне от 1983 до 2020\n"
          ]
        }
      ]
    },
    {
      "cell_type": "markdown",
      "source": [
        "Представляется более логичным и удобным определить на основании года возраст машины."
      ],
      "metadata": {
        "id": "winALKZ6l4V5"
      }
    },
    {
      "cell_type": "code",
      "source": [
        "df['age'] = 2021 - df['year']"
      ],
      "metadata": {
        "id": "BfX2h748mDeI"
      },
      "execution_count": null,
      "outputs": []
    },
    {
      "cell_type": "markdown",
      "source": [
        "Интересно посмотреть на распределение по годам."
      ],
      "metadata": {
        "id": "NHoMowh2l1QY"
      }
    },
    {
      "cell_type": "code",
      "source": [
        "sns.histplot(df.age)"
      ],
      "metadata": {
        "colab": {
          "base_uri": "https://localhost:8080/"
        },
        "id": "gngsWXJvm43A",
        "outputId": "379fb331-a831-4f8e-b4c5-7e0eaacd81ed"
      },
      "execution_count": null,
      "outputs": [
        {
          "output_type": "execute_result",
          "data": {
            "text/plain": [
              "<Axes: xlabel='age', ylabel='Count'>"
            ]
          },
          "metadata": {},
          "execution_count": 12
        },
        {
          "output_type": "display_data",
          "data": {
            "text/plain": [
              "<Figure size 640x480 with 1 Axes>"
            ],
            "image/png": "[encoded data removed]"
          },
          "metadata": {}
        }
      ]
    },
    {
      "cell_type": "markdown",
      "source": [
        "Как видим, данные распределены неравномерно, подавляющее большинство машин не старше 13 лет. Попробуем сбалансировать данные."
      ],
      "metadata": {
        "id": "_ZWUjYkYnP8B"
      }
    },
    {
      "cell_type": "code",
      "source": [
        "print('Количество машин старше 13 лет:', df[df.age > 13].shape[0])"
      ],
      "metadata": {
        "colab": {
          "base_uri": "https://localhost:8080/"
        },
        "id": "IJAouRDZni8z",
        "outputId": "7f5cde15-249f-46e7-b2dc-e1e7ed21773b"
      },
      "execution_count": null,
      "outputs": [
        {
          "output_type": "stream",
          "name": "stdout",
          "text": [
            "Количество машин старше 13 лет: 537\n"
          ]
        }
      ]
    },
    {
      "cell_type": "markdown",
      "source": [
        "Заменим все возрасты больше 13 цифрой 14."
      ],
      "metadata": {
        "id": "Ve2rWQoeoeLd"
      }
    },
    {
      "cell_type": "code",
      "source": [
        "df['age'] = np.where(df['age'] > 13, 14, df['age'])\n",
        "df.age.nunique()"
      ],
      "metadata": {
        "colab": {
          "base_uri": "https://localhost:8080/"
        },
        "id": "7W1bhtYiomp5",
        "outputId": "223e2da7-78e9-46af-bc3e-65158919694c"
      },
      "execution_count": null,
      "outputs": [
        {
          "output_type": "execute_result",
          "data": {
            "text/plain": [
              "14"
            ]
          },
          "metadata": {},
          "execution_count": 14
        }
      ]
    },
    {
      "cell_type": "code",
      "source": [
        "sns.histplot(df.age)"
      ],
      "metadata": {
        "colab": {
          "base_uri": "https://localhost:8080/"
        },
        "id": "03Vpo45Jo9mf",
        "outputId": "06314bbd-e366-4fd4-f7f8-dddfc69cf0cf"
      },
      "execution_count": null,
      "outputs": [
        {
          "output_type": "execute_result",
          "data": {
            "text/plain": [
              "<Axes: xlabel='age', ylabel='Count'>"
            ]
          },
          "metadata": {},
          "execution_count": 15
        },
        {
          "output_type": "display_data",
          "data": {
            "text/plain": [
              "<Figure size 640x480 with 1 Axes>"
            ],
            "image/png": "[encoded data removed]"
          },
          "metadata": {}
        }
      ]
    },
    {
      "cell_type": "markdown",
      "source": [
        "С таким распределением нашей модели будет гораздо легче справиться."
      ],
      "metadata": {
        "id": "VySuPET9pAwj"
      }
    },
    {
      "cell_type": "markdown",
      "source": [
        "##Mileage"
      ],
      "metadata": {
        "id": "KI_0GYgevF0E"
      }
    },
    {
      "cell_type": "markdown",
      "source": [
        "Посмотрим на переменную milage."
      ],
      "metadata": {
        "id": "XxwGQWaxpM01"
      }
    },
    {
      "cell_type": "code",
      "source": [
        "df['mileage'].unique()"
      ],
      "metadata": {
        "colab": {
          "base_uri": "https://localhost:8080/"
        },
        "id": "85tg3fBPpQwF",
        "outputId": "f798e57c-23b4-4c5c-98aa-11d8799c46f6"
      },
      "execution_count": null,
      "outputs": [
        {
          "output_type": "execute_result",
          "data": {
            "text/plain": [
              "array(['23.4 kmpl', '21.14 kmpl', '23.0 kmpl', '16.1 kmpl', '20.14 kmpl',\n",
              "       '17.3 km/kg', '23.59 kmpl', '20.0 kmpl', '19.01 kmpl', '17.3 kmpl',\n",
              "       '19.3 kmpl', nan, '18.9 kmpl', '18.15 kmpl', '19.7 kmpl',\n",
              "       '22.54 kmpl', '21.0 kmpl', '25.5 kmpl', '26.59 kmpl', '21.5 kmpl',\n",
              "       '21.4 kmpl', '24.7 kmpl', '18.2 kmpl', '16.8 kmpl', '24.3 kmpl',\n",
              "       '14.0 kmpl', '33.44 km/kg', '23.95 kmpl', '17.0 kmpl',\n",
              "       '20.63 kmpl', '13.93 kmpl', '16.0 kmpl', '17.8 kmpl', '12.55 kmpl',\n",
              "       '12.99 kmpl', '14.8 kmpl', '13.5 kmpl', '26.0 kmpl', '27.3 kmpl',\n",
              "       '11.36 kmpl', '17.68 kmpl', '18.53 kmpl', '14.84 kmpl',\n",
              "       '21.12 kmpl', '20.36 kmpl', '21.27 kmpl', '18.16 kmpl',\n",
              "       '22.0 kmpl', '25.1 kmpl', '20.51 kmpl', '21.66 kmpl', '25.2 kmpl',\n",
              "       '22.9 kmpl', '16.02 kmpl', '20.54 kmpl', '22.77 kmpl',\n",
              "       '15.71 kmpl', '23.1 kmpl', '19.02 kmpl', '19.81 kmpl',\n",
              "       '26.2 km/kg', '16.47 kmpl', '15.04 kmpl', '18.5 kmpl', '19.1 kmpl',\n",
              "       '21.79 kmpl', '18.8 kmpl', '21.21 kmpl', '11.79 kmpl', '19.0 kmpl',\n",
              "       '14.3 kmpl', '15.1 kmpl', '19.09 kmpl', '22.32 kmpl', '21.9 kmpl',\n",
              "       '14.53 kmpl', '21.63 kmpl', '20.85 kmpl', '20.45 kmpl',\n",
              "       '19.67 kmpl', '23.01 kmpl', '17.92 kmpl', '20.77 kmpl',\n",
              "       '17.01 kmpl', '22.37 kmpl', '19.33 kmpl', '12.83 kmpl',\n",
              "       '22.48 kmpl', '16.78 kmpl', '14.67 kmpl', '15.0 kmpl',\n",
              "       '13.96 kmpl', '14.28 kmpl', '18.0 kmpl', '12.07 kmpl',\n",
              "       '26.21 kmpl', '10.8 kmpl', '13.6 kmpl', '16.3 kmpl', '14.74 kmpl',\n",
              "       '15.6 kmpl', '19.56 kmpl', '22.69 kmpl', '19.16 kmpl',\n",
              "       '18.12 kmpl', '12.1 kmpl', '17.5 kmpl', '42.0 kmpl', '20.4 kmpl',\n",
              "       '18.6 kmpl', '21.1 kmpl', '19.44 kmpl', '13.0 kmpl', '21.43 kmpl',\n",
              "       '22.95 kmpl', '15.3 kmpl', '28.09 kmpl', '20.3 kmpl', '17.4 kmpl',\n",
              "       '26.6 km/kg', '17.6 kmpl', '28.4 kmpl', '14.1 kmpl', '22.74 kmpl',\n",
              "       '17.57 kmpl', '16.95 kmpl', '17.21 kmpl', '25.17 kmpl',\n",
              "       '15.37 kmpl', '13.2 kmpl', '24.52 kmpl', '14.2 kmpl', '19.4 kmpl',\n",
              "       '26.8 kmpl', '25.4 kmpl', '27.28 kmpl', '17.97 kmpl', '12.8 kmpl',\n",
              "       '16.55 kmpl', '12.05 kmpl', '21.02 kmpl', '17.9 kmpl',\n",
              "       '15.96 kmpl', '17.1 kmpl', '17.19 kmpl', '21.01 kmpl', '24.0 kmpl',\n",
              "       '25.6 kmpl', '21.38 kmpl', '23.84 kmpl', '23.08 kmpl',\n",
              "       '14.24 kmpl', '20.71 kmpl', '15.64 kmpl', '14.5 kmpl',\n",
              "       '16.34 kmpl', '27.39 kmpl', '11.1 kmpl', '20.88 km/kg',\n",
              "       '20.92 kmpl', '23.8 kmpl', '24.4 kmpl', '15.29 kmpl', '21.19 kmpl',\n",
              "       '22.5 kmpl', '19.6 kmpl', '23.65 kmpl', '11.5 kmpl', '19.49 kmpl',\n",
              "       '16.2 kmpl', '23.5 kmpl', '16.6 kmpl', '23.9 kmpl', '25.32 kmpl',\n",
              "       '20.8 kmpl', '27.62 kmpl', '12.9 kmpl', '25.44 kmpl', '17.88 kmpl',\n",
              "       '17.2 kmpl', '15.42 kmpl', '19.68 kmpl', '18.7 kmpl', '15.4 kmpl',\n",
              "       '17.7 kmpl', '19.34 kmpl', '22.7 kmpl', '22.71 kmpl', '13.7 kmpl',\n",
              "       '12.2 kmpl', '18.49 kmpl', '9.0 kmpl', '0.0 kmpl', '13.58 kmpl',\n",
              "       '10.1 kmpl', '20.5 kmpl', '25.0 kmpl', '10.5 kmpl', '22.07 kmpl',\n",
              "       '15.26 kmpl', '20.62 kmpl', '27.4 kmpl', '25.8 kmpl', '23.2 kmpl',\n",
              "       '18.4 kmpl', '30.46 km/kg', '14.02 kmpl', '11.0 kmpl', '20.6 kmpl',\n",
              "       '22.3 kmpl', '20.2 kmpl', '22.1 kmpl', '19.87 kmpl', '13.01 kmpl',\n",
              "       '18.06 kmpl', '13.9 kmpl', '16.52 kmpl', '13.55 kmpl', '24.2 kmpl',\n",
              "       '25.83 kmpl', '11.2 kmpl', '18.1 kmpl', '17.09 kmpl', '21.03 kmpl',\n",
              "       '21.94 km/kg', '13.87 kmpl', '19.98 kmpl', '20.52 kmpl',\n",
              "       '23.57 kmpl', '11.57 kmpl', '11.7 kmpl', '17.43 kmpl',\n",
              "       '13.68 kmpl', '11.18 kmpl', '20.89 kmpl', '19.62 kmpl',\n",
              "       '21.7 kmpl', '14.9 kmpl', '10.91 kmpl', '19.5 kmpl', '15.7 kmpl',\n",
              "       '15.85 kmpl', '9.5 kmpl', '20.7 kmpl', '14.23 kmpl', '16.5 kmpl',\n",
              "       '17.36 kmpl', '17.45 kmpl', '12.6 kmpl', '16.36 kmpl', '16.9 kmpl',\n",
              "       '19.2 kmpl', '16.96 kmpl', '22.15 kmpl', '18.78 kmpl',\n",
              "       '19.61 kmpl', '17.71 kmpl', '18.3 kmpl', '19.12 kmpl',\n",
              "       '19.72 kmpl', '12.0 kmpl', '23.03 kmpl', '11.07 kmpl', '15.9 kmpl',\n",
              "       '17.67 kmpl', '13.1 kmpl', '11.4 kmpl', '13.45 km/kg',\n",
              "       '14.95 kmpl', '21.64 kmpl', '24.8 kmpl', '15.73 kmpl', '15.8 kmpl',\n",
              "       '15.11 kmpl', '18.88 kmpl', '12.7 kmpl', '21.2 kmpl', '20.38 kmpl',\n",
              "       '21.56 kmpl', '13.22 kmpl', '14.49 kmpl', '15.05 kmpl',\n",
              "       '20.73 kmpl', '23.26 kmpl', '15.41 kmpl', '13.8 kmpl',\n",
              "       '22.27 kmpl', '32.52 km/kg', '14.66 kmpl', '12.12 kmpl',\n",
              "       '16.84 kmpl', '14.09 kmpl', '14.7 kmpl', '20.46 kmpl', '13.4 kmpl',\n",
              "       '13.49 kmpl', '11.88 km/kg', '14.6 kmpl', '10.75 kmpl',\n",
              "       '15.5 kmpl', '24.5 kmpl', '11.74 kmpl', '16.07 kmpl', '15.63 kmpl',\n",
              "       '26.3 km/kg', '23.7 km/kg', '25.47 kmpl', '23.3 kmpl', '11.9 kmpl',\n",
              "       '13.38 kmpl', '20.86 kmpl', '19.2 km/kg', '10.9 kmpl',\n",
              "       '18.25 kmpl', '15.2 kmpl', '20.37 kmpl', '17.8 km/kg',\n",
              "       '22.05 kmpl', '21.8 kmpl', '11.96 kmpl', '24.04 kmpl',\n",
              "       '19.69 kmpl', '13.73 kmpl', '21.04 kmpl', '25.01 kmpl',\n",
              "       '10.93 kmpl', '10.9 km/kg', '24.29 kmpl', '13.44 kmpl',\n",
              "       '19.08 kmpl', '20.34 kmpl', '11.68 kmpl', '12.5 kmpl', '12.3 kmpl',\n",
              "       '23.87 kmpl', '16.38 kmpl', '17.42 kmpl', '10.0 kmpl',\n",
              "       '18.24 kmpl', '10.71 kmpl', '14.07 kmpl', '19.59 kmpl',\n",
              "       '16.7 kmpl', '19.83 kmpl', '21.76 kmpl', '16.05 kmpl',\n",
              "       '20.28 kmpl', '16.25 kmpl', '18.48 kmpl', '13.2 km/kg',\n",
              "       '21.4 km/kg', '14.99 kmpl', '18.76 kmpl', '16.4 kmpl',\n",
              "       '19.64 kmpl', '14.94 kmpl', '16.6 km/kg', '16.0 km/kg',\n",
              "       '17.11 kmpl', '14.4 kmpl', '22.8 km/kg', '33.0 km/kg', '12.4 kmpl',\n",
              "       '18.44 kmpl', '16.09 kmpl', '19.0 km/kg', '20.65 kmpl',\n",
              "       '12.62 kmpl', '21.13 kmpl', '26.1 kmpl', '15.17 kmpl',\n",
              "       '21.73 kmpl', '21.72 kmpl', '13.24 kmpl', '14.4 km/kg',\n",
              "       '21.49 kmpl', '14.62 kmpl', '26.83 km/kg', '11.45 kmpl',\n",
              "       '12.08 kmpl', '15.74 kmpl', '14.81 kmpl', '11.3 kmpl',\n",
              "       '15.1 km/kg', '14.21 kmpl', '11.72 kmpl', '16.51 kmpl'],\n",
              "      dtype=object)"
            ]
          },
          "metadata": {},
          "execution_count": 16
        }
      ]
    },
    {
      "cell_type": "markdown",
      "source": [
        "Как видим, числа находятся в разных диапазонах: км/л или км/кг. Хотелось бы это унифицировать, однако проблема в том, что у разного топлива разная плотность. Поэтому пока разобьем на две колонки: значение и единица"
      ],
      "metadata": {
        "id": "v23ww7-SpQA7"
      }
    },
    {
      "cell_type": "code",
      "source": [
        "df['mileage_count'] = df['mileage'].apply(lambda x: float(x.split(' ')[0]) if type(x) == str else None)"
      ],
      "metadata": {
        "id": "COEX-449p8iz"
      },
      "execution_count": null,
      "outputs": []
    },
    {
      "cell_type": "code",
      "source": [
        "df['mileage_measure'] = df['mileage'].apply(lambda x: x.split(' ')[1] if type(x) == str else None)"
      ],
      "metadata": {
        "id": "Msi4ZUALs2P9"
      },
      "execution_count": null,
      "outputs": []
    },
    {
      "cell_type": "markdown",
      "source": [
        "Убедимся, что данные не потеряны."
      ],
      "metadata": {
        "id": "oEh4ZJ_6stH9"
      }
    },
    {
      "cell_type": "code",
      "source": [
        "df.mileage.isna().sum() == df.mileage_count.isna().sum()"
      ],
      "metadata": {
        "colab": {
          "base_uri": "https://localhost:8080/"
        },
        "id": "vXFsMM6tsRFf",
        "outputId": "00767f12-990c-4539-a289-e984a2637c5b"
      },
      "execution_count": null,
      "outputs": [
        {
          "output_type": "execute_result",
          "data": {
            "text/plain": [
              "True"
            ]
          },
          "metadata": {},
          "execution_count": 19
        }
      ]
    },
    {
      "cell_type": "markdown",
      "source": [
        "Посмотрим, в каких случаях у нас меняется единица измерения. По логике вещей, это должно быть связано с типом топлива."
      ],
      "metadata": {
        "id": "Y9j3yXYOswb7"
      }
    },
    {
      "cell_type": "code",
      "source": [
        "df[df['mileage_measure'] == 'km/kg'].fuel.unique()"
      ],
      "metadata": {
        "colab": {
          "base_uri": "https://localhost:8080/"
        },
        "id": "9kcQYv8vtO3m",
        "outputId": "ed2b9d4b-425f-41c2-9dd3-803f08634c45"
      },
      "execution_count": null,
      "outputs": [
        {
          "output_type": "execute_result",
          "data": {
            "text/plain": [
              "array(['LPG', 'CNG'], dtype=object)"
            ]
          },
          "metadata": {},
          "execution_count": 20
        }
      ]
    },
    {
      "cell_type": "code",
      "source": [
        "df[df['mileage_measure'] == 'kmpl'].fuel.unique()"
      ],
      "metadata": {
        "colab": {
          "base_uri": "https://localhost:8080/"
        },
        "id": "Z5SjoDZqtnj6",
        "outputId": "201e0b41-95ad-4702-cacc-4f63595b7a2b"
      },
      "execution_count": null,
      "outputs": [
        {
          "output_type": "execute_result",
          "data": {
            "text/plain": [
              "array(['Diesel', 'Petrol'], dtype=object)"
            ]
          },
          "metadata": {},
          "execution_count": 21
        }
      ]
    },
    {
      "cell_type": "markdown",
      "source": [
        "Видимо, в случае с электрическим топливом mileage == None. Для модели данные лучше всего подавать в следующем виде: mileage_measure через one-hot encoding. Fuel можно вообще не подавать: информация о нем и так содержится в этой колонке."
      ],
      "metadata": {
        "id": "0x9Hm0h1tyZa"
      }
    },
    {
      "cell_type": "markdown",
      "source": [
        "##Engine"
      ],
      "metadata": {
        "id": "EjFsIc2fvJt_"
      }
    },
    {
      "cell_type": "markdown",
      "source": [
        "Посмотрим на данные."
      ],
      "metadata": {
        "id": "aUAsI-oRvRFX"
      }
    },
    {
      "cell_type": "code",
      "source": [
        "df.engine.unique()"
      ],
      "metadata": {
        "colab": {
          "base_uri": "https://localhost:8080/"
        },
        "id": "EEuwke_8vT2h",
        "outputId": "51fb4b99-d80b-4d60-cc96-33e29909d362"
      },
      "execution_count": null,
      "outputs": [
        {
          "output_type": "execute_result",
          "data": {
            "text/plain": [
              "array(['1248 CC', '1498 CC', '1396 CC', '1298 CC', '1197 CC', '1061 CC',\n",
              "       '796 CC', '1364 CC', '1399 CC', '1461 CC', '993 CC', nan,\n",
              "       '1198 CC', '998 CC', '1591 CC', '2179 CC', '1368 CC', '1497 CC',\n",
              "       '2982 CC', '2494 CC', '2143 CC', '2477 CC', '2755 CC', '1968 CC',\n",
              "       '1196 CC', '1373 CC', '1598 CC', '1998 CC', '1086 CC', '1194 CC',\n",
              "       '1798 CC', '1405 CC', '1582 CC', '999 CC', '2487 CC', '1999 CC',\n",
              "       '2987 CC', '1995 CC', '1451 CC', '1969 CC', '2967 CC', '2497 CC',\n",
              "       '1797 CC', '1991 CC', '2362 CC', '1493 CC', '1341 CC', '1199 CC',\n",
              "       '1794 CC', '1193 CC', '2696 CC', '799 CC', '1495 CC', '1186 CC',\n",
              "       '1047 CC', '2498 CC', '2523 CC', '1120 CC', '624 CC', '1496 CC',\n",
              "       '1984 CC', '2354 CC', '793 CC', '1799 CC', '936 CC', '1956 CC',\n",
              "       '814 CC', '1997 CC', '1948 CC', '2997 CC', '1172 CC', '2489 CC',\n",
              "       '2499 CC', '2609 CC', '2953 CC', '1150 CC', '1994 CC', '1388 CC',\n",
              "       '1462 CC', '2956 CC', '1527 CC', '2199 CC', '995 CC', '1599 CC',\n",
              "       '2993 CC', '1586 CC', '1390 CC', '909 CC', '2393 CC', '3198 CC',\n",
              "       '1499 CC', '3604 CC', '1339 CC', '2092 CC', '1595 CC', '2496 CC',\n",
              "       '1596 CC', '1597 CC', '2596 CC', '2148 CC', '1299 CC', '1590 CC',\n",
              "       '2231 CC', '2694 CC', '2200 CC', '1795 CC', '1896 CC', '1796 CC',\n",
              "       '1422 CC', '1489 CC', '2359 CC', '2197 CC', '2999 CC', '1781 CC',\n",
              "       '2650 CC', '1343 CC', '2446 CC', '3498 CC', '2198 CC', '2776 CC',\n",
              "       '1950 CC'], dtype=object)"
            ]
          },
          "metadata": {},
          "execution_count": 22
        }
      ]
    },
    {
      "cell_type": "markdown",
      "source": [
        "Единица измерения одна, поэтому обработать колонку гораздо проще."
      ],
      "metadata": {
        "id": "dxyVym7WvZym"
      }
    },
    {
      "cell_type": "code",
      "source": [
        "df['engine_volume'] = df['engine'].apply(lambda x: float(x.split(' ')[0]) if type(x) == str else None)"
      ],
      "metadata": {
        "id": "WrbRLF96voe4"
      },
      "execution_count": null,
      "outputs": []
    },
    {
      "cell_type": "markdown",
      "source": [
        "##Max_power"
      ],
      "metadata": {
        "id": "sRlglEiKwBQD"
      }
    },
    {
      "cell_type": "markdown",
      "source": [
        "Так же поступим с max_power."
      ],
      "metadata": {
        "id": "71tOkQVBwFHK"
      }
    },
    {
      "cell_type": "code",
      "source": [
        "df.max_power.unique()"
      ],
      "metadata": {
        "colab": {
          "base_uri": "https://localhost:8080/"
        },
        "id": "dlS8XDIDv5Ru",
        "outputId": "35a61a3a-0d0c-46fa-e4af-a5b460d770d6"
      },
      "execution_count": null,
      "outputs": [
        {
          "output_type": "execute_result",
          "data": {
            "text/plain": [
              "array(['74 bhp', '103.52 bhp', '90 bhp', '88.2 bhp', '81.86 bhp',\n",
              "       '57.5 bhp', '37 bhp', '67.1 bhp', '68.1 bhp', '108.45 bhp',\n",
              "       '60 bhp', '73.9 bhp', nan, '67 bhp', '82 bhp', '46.3 bhp',\n",
              "       '88.73 bhp', '64.1 bhp', '98.6 bhp', '88.8 bhp', '83.1 bhp',\n",
              "       '47.3 bhp', '73.8 bhp', '34.2 bhp', '88.5 bhp', '35 bhp',\n",
              "       '40.3 bhp', '121.3 bhp', '138.03 bhp', '160.77 bhp', '117.3 bhp',\n",
              "       '116.3 bhp', '67.05 bhp', '168.5 bhp', '100 bhp', '120.7 bhp',\n",
              "       '98.63 bhp', '175.56 bhp', '171.5 bhp', '100.6 bhp', '174.33 bhp',\n",
              "       '187.74 bhp', '170 bhp', '78.9 bhp', '88.76 bhp', '86.8 bhp',\n",
              "       '108.495 bhp', '108.62 bhp', '93.7 bhp', '103.6 bhp', '98.59 bhp',\n",
              "       '189 bhp', '67.04 bhp', '68.05 bhp', '58.2 bhp', '82.85 bhp',\n",
              "       '81.80 bhp', '120 bhp', '94.68 bhp', '160 bhp', '155 bhp',\n",
              "       '69.01 bhp', '126.32 bhp', '138.1 bhp', '83.14 bhp', '83.8 bhp',\n",
              "       '126.2 bhp', '62.1 bhp', '86.7 bhp', '188 bhp', '214.56 bhp',\n",
              "       '177 bhp', '148.31 bhp', '254.79 bhp', '190 bhp', '177.46 bhp',\n",
              "       '204 bhp', '141 bhp', '241.4 bhp', '282 bhp', '150 bhp',\n",
              "       '108.5 bhp', '147.5 bhp', '103.5 bhp', '183 bhp', '181.04 bhp',\n",
              "       '157.7 bhp', '164.7 bhp', '91.1 bhp', '400 bhp', '68 bhp',\n",
              "       '81.83 bhp', '75 bhp', '85.8 bhp', '87.2 bhp', '53 bhp', '118 bhp',\n",
              "       '83 bhp', '84 bhp', '58.16 bhp', '147.94 bhp', '74.02 bhp',\n",
              "       '80 bhp', '88.7 bhp', '97.7 bhp', '121.36 bhp', '162 bhp',\n",
              "       '53.3 bhp', '140 bhp', '73 bhp', '94 bhp', '100.57 bhp',\n",
              "       '82.9 bhp', '83.11 bhp', '70 bhp', '153.86 bhp', '121 bhp',\n",
              "       '126.3 bhp', '73.97 bhp', '69 bhp', '99.6 bhp', '102 bhp',\n",
              "       '105 bhp', '63 bhp', '79.4 bhp', '97.9 bhp', '63.1 bhp',\n",
              "       '66.1 bhp', '174.5 bhp', '53.26 bhp', '73.75 bhp', '67.06 bhp',\n",
              "       '64.08 bhp', '37.5 bhp', '189.3 bhp', '158.8 bhp', '110 bhp',\n",
              "       '117.6 bhp', '61.7 bhp', '71.01 bhp', '98.96 bhp', '73.74 bhp',\n",
              "       '147.9 bhp', '71 bhp', '121.4 bhp', '77 bhp', '113.4 bhp',\n",
              "       '47 bhp', '130 bhp', '57.6 bhp', '138 bhp', '52.8 bhp', '53.5 bhp',\n",
              "       '76.8 bhp', '82.4 bhp', '113.42 bhp', '76 bhp', '55.2 bhp',\n",
              "       '53.64 bhp', '84.8 bhp', '0', '56.3 bhp', '83.81 bhp', '218 bhp',\n",
              "       '65 bhp', '92 bhp', '105.5 bhp', '169 bhp', '95 bhp', '112 bhp',\n",
              "       '72.4 bhp', '115 bhp', '152 bhp', '91.2 bhp', '156 bhp',\n",
              "       '74.9 bhp', '105.3 bhp', '78 bhp', '73.94 bhp', '85 bhp',\n",
              "       '118.3 bhp', '72 bhp', '171 bhp', '147.51 bhp', '103.2 bhp',\n",
              "       '58 bhp', '64 bhp', '126.24 bhp', '76.9 bhp', '194.3 bhp',\n",
              "       '62 bhp', '89.84 bhp', '123.7 bhp', '118.35 bhp', '99 bhp',\n",
              "       '241 bhp', '136 bhp', '261.4 bhp', '104.68 bhp', '37.48 bhp',\n",
              "       '104 bhp', '88.50 bhp', '85.80 bhp', '63.12 bhp', '91.7 bhp',\n",
              "       '102.5 bhp', '177.6 bhp', '45 bhp', '147.8 bhp', '184 bhp',\n",
              "       '84.48 bhp', '68.07 bhp', '74.96 bhp', '167.6 bhp', '152.87 bhp',\n",
              "       '112.2 bhp', '83.83 bhp', '197 bhp', '110.4 bhp', '280 bhp',\n",
              "       '104.55 bhp', '103 bhp', '103.3 bhp', '66 bhp', '108.6 bhp',\n",
              "       '165 bhp', '163.7 bhp', '94.93 bhp', '127 bhp', '198.5 bhp',\n",
              "       '179.5 bhp', '120.69 bhp', '138.08 bhp', '187.7 bhp', '80.8 bhp',\n",
              "       '86.79 bhp', '116.6 bhp', '143 bhp', '103.25 bhp', '92.7 bhp',\n",
              "       '88 bhp', '58.33 bhp', '78.8 bhp', '64.4 bhp', '125 bhp',\n",
              "       '139.01 bhp', '254.8 bhp', '181 bhp', '258 bhp', '55.23 bhp',\n",
              "       '265 bhp', '157.75 bhp', '101 bhp', '186 bhp', '187.4 bhp',\n",
              "       '224 bhp', '64.9 bhp', '148 bhp', '35.5 bhp', '89.75 bhp',\n",
              "       '32.8 bhp', '91.72 bhp', '106 bhp', '98.97 bhp', '66.6 bhp',\n",
              "       '86 bhp', '98.82 bhp', '198.25 bhp', '65.3 bhp', '132 bhp',\n",
              "       '174.57 bhp', '178 bhp', '163.2 bhp', '203.2 bhp', '175 bhp',\n",
              "       '57 bhp', '80.84 bhp', '68.4 bhp', '167.67 bhp', '170.63 bhp',\n",
              "       '52 bhp', '149.5 bhp', '270.9 bhp', '48.21 bhp', ' bhp',\n",
              "       '201.1 bhp', '38 bhp', '194.4 bhp', '168.7 bhp', '104.5 bhp',\n",
              "       '103.26 bhp', '116.4 bhp', '93.87 bhp', '80.9 bhp', '272 bhp',\n",
              "       '235 bhp', '167.62 bhp', '170.30 bhp', '139.46 bhp', '158 bhp',\n",
              "       '110.5 bhp', '121.31 bhp', '99.23 bhp', '82.5 bhp', '141.1 bhp',\n",
              "       '100.5 bhp', '38.4 bhp', '197.2 bhp', '161 bhp', '194 bhp',\n",
              "       '122.4 bhp', '134.10 bhp', '123.37 bhp', '60.2 bhp', '134 bhp',\n",
              "       '203 bhp', '177.5 bhp'], dtype=object)"
            ]
          },
          "metadata": {},
          "execution_count": 24
        }
      ]
    },
    {
      "cell_type": "code",
      "source": [
        "df['max_power_count'] = df['max_power'].apply(lambda x: float(x.strip().split(' ')[0]) if type(x) == str and x!=' bhp' else None)"
      ],
      "metadata": {
        "id": "4kA_G5RTwItN"
      },
      "execution_count": null,
      "outputs": []
    },
    {
      "cell_type": "markdown",
      "source": [
        "Проверим количество Nan-ов"
      ],
      "metadata": {
        "id": "fS70P7YWfNO0"
      }
    },
    {
      "cell_type": "code",
      "source": [
        "print(df.max_power.isna().sum(), df.max_power_count.isna().sum())"
      ],
      "metadata": {
        "colab": {
          "base_uri": "https://localhost:8080/"
        },
        "id": "NZfKCsQPfSvX",
        "outputId": "393bf0fa-4fc7-4cce-c463-bf5e1a9c0494"
      },
      "execution_count": null,
      "outputs": [
        {
          "output_type": "stream",
          "name": "stdout",
          "text": [
            "196 197\n"
          ]
        }
      ]
    },
    {
      "cell_type": "markdown",
      "source": [
        "Как видим, потеряли всего одно значение, которое в таблице выглядело как ' bhp' (без числа), то есть ничего не потеряли."
      ],
      "metadata": {
        "id": "1Boy1FzEfa70"
      }
    },
    {
      "cell_type": "markdown",
      "source": [
        "## Torque"
      ],
      "metadata": {
        "id": "AciPcea9J0eT"
      }
    },
    {
      "cell_type": "markdown",
      "source": [
        "Здесь данные отформатированы черт знает как, придется много переделывать."
      ],
      "metadata": {
        "id": "SBTxr1i5fpd2"
      }
    },
    {
      "cell_type": "code",
      "source": [
        "df['torque'] = df['torque'].apply(lambda x: x.replace('at', '@') if type(x) == str else None)\n",
        "df['torque'] = df['torque'].apply(lambda x: x.replace('/', '@') if type(x) == str else None)"
      ],
      "metadata": {
        "id": "k6YNLBbEJ9eY"
      },
      "execution_count": null,
      "outputs": []
    },
    {
      "cell_type": "code",
      "source": [
        "df['torque'].unique()"
      ],
      "metadata": {
        "colab": {
          "base_uri": "https://localhost:8080/"
        },
        "id": "PFIWp4heKgm2",
        "outputId": "f3751ae0-eb1e-415e-fd06-67556faf95a5"
      },
      "execution_count": null,
      "outputs": [
        {
          "output_type": "execute_result",
          "data": {
            "text/plain": [
              "array(['190Nm@ 2000rpm', '250Nm@ 1500-2500rpm', '22.4 kgm @ 1750-2750rpm',\n",
              "       '11.5@ 4,500(kgm@ rpm)', '113.75nm@ 4000rpm',\n",
              "       '7.8@ 4,500(kgm@ rpm)', '59Nm@ 2500rpm', '170Nm@ 1800-2400rpm',\n",
              "       '160Nm@ 2000rpm', '248Nm@ 2250rpm', '78Nm@ 4500rpm', None,\n",
              "       '84Nm@ 3500rpm', '115Nm@ 3500-3600rpm', '62Nm@ 3000rpm',\n",
              "       '219.7Nm@ 1500-2750rpm', '200Nm@ 1750rpm', '115Nm@ 4000rpm',\n",
              "       '69Nm@ 3500rpm', '172.5Nm@ 1750rpm', '6.1kgm@ 3000rpm',\n",
              "       '60Nm@ 3500rpm', '90Nm@ 3500rpm', '151Nm@ 4850rpm',\n",
              "       '104Nm@ 4000rpm', '320Nm@ 1700-2700rpm', '250Nm@ 1750-2500rpm',\n",
              "       '145Nm@ 4600rpm', '146Nm@ 4800rpm', '343Nm@ 1400-3400rpm',\n",
              "       '200Nm@ 1400-3400rpm', '200Nm@ 1250-4000rpm',\n",
              "       '400Nm@ 2000-2500rpm', '360Nm@ 1200-3400rpm',\n",
              "       '200Nm@ 1200-3600rpm', '380Nm@ 1750-2500rpm',\n",
              "       '400Nm@ 1750-3000rpm', '400Nm@ 1400-2800rpm',\n",
              "       '200Nm@ 1750-3000rpm', '111.7Nm@ 4000rpm', '219.6Nm@ 1500-2750rpm',\n",
              "       '112Nm@ 4000rpm', '250Nm@ 1500-3000rpm', '130Nm@ 4000rpm',\n",
              "       '205Nm@ 1750-3250rpm', '280Nm@ 1350-4600rpm', '99.04Nm@ 4500rpm',\n",
              "       '77Nm@ 3500rpm', '110Nm@ 3750rpm', '153Nm@ 3800rpm',\n",
              "       '113.7Nm@ 4000rpm', '114Nm@ 4000rpm', '113Nm@ 4200rpm',\n",
              "       '290Nm@ 1800-2800rpm', '120Nm@ 4250rpm', '250Nm@ 1500~4500rpm',\n",
              "       '360Nm@ 1750-2800rpm', '135Nm@ 2500rpm', '259.8Nm@ 1900-2750rpm',\n",
              "       '173Nm@ 4000rpm', '200Nm@ 1900rpm', '259.9Nm@ 1900-2750rpm',\n",
              "       '91Nm@ 4250rpm', '96.1Nm@ 3000rpm', '109Nm@ 4500rpm',\n",
              "       '400nm@ 1750-3000rpm', '202Nm@ 3600-5200rpm',\n",
              "       '430Nm@ 1750-2500rpm', '382nm@ 1750-2250rpm',\n",
              "       '620Nm@ 1600-2400rpm', '400Nm@ 1750-2500rpm', '250@ 1250-5000rpm',\n",
              "       '500Nm@ 1600-1800rpm', '250Nm@ 1600-3600rpm', '400Nm',\n",
              "       '550Nm@ 1750-2750rpm', '490Nm@ 1600rpm', '250 Nm @ 2750 rpm',\n",
              "       '170Nm@ 1750-4000rpm', '177.5Nm@ 4700rpm', '300Nm@ 1200-4000rpm',\n",
              "       '300Nm@ 1200-1400rpm', '260Nm@ 1500-2750rpm', '213Nm@ 4500rpm',\n",
              "       '224Nm@ 4000rpm', '640Nm@ 1740rpm', '114.7Nm@ 4000rpm',\n",
              "       '113Nm@ 4500rpm', '95Nm@ 3000-4300rpm', '13.1kgm@ 4600rpm',\n",
              "       '205Nm@ 1800-2800rpm', '71Nm@ 3500rpm', '190Nm@ 1750-3000rpm',\n",
              "       '146Nm @ 4800 rpm', '115Nm@ 3200rpm', '114Nm@ 3500rpm',\n",
              "       '320Nm@ 1500-3000rpm', '11.4 kgm @ 4,000 rpm',\n",
              "       '140Nm@ 1500-4000rpm', '134Nm@ 4000rpm', '150Nm@ 4500rpm',\n",
              "       '340Nm@ 1800-3250rpm', '240Nm@ 1600-2800rpm', '72Nm@ 4386rpm',\n",
              "       '330Nm@ 1600-2800rpm', '101Nm@ 3000rpm', '12.5@ 3,500(kgm@ rpm)',\n",
              "       '110Nm@ 4800rpm', '111.8Nm@ 4000rpm', '11.8@ 3,200(kgm@ rpm)',\n",
              "       '135.4Nm@ 2500rpm', '300Nm@ 1750-2500rpm',\n",
              "       '190.25nm@ 1750-2250rpm', '140Nm@ 1800-3000rpm', '117nm@ 4000rpm',\n",
              "       '20.4@ 1400-3400(kgm@ rpm)', '247Nm@ 1800-2000rpm',\n",
              "       '180 Nm @ 1440-1500rpm', '195Nm@ 1400-2200rpm', '154.9Nm@ 4200rpm',\n",
              "       '114.73Nm@ 4000rpm', '160Nm@ 1500-2750rpm', '108Nm@ 4400rpm',\n",
              "       '190.24nm@ 1750-2250rpm', '420Nm@ 1400-2600rpm', '100Nm@ 2700rpm',\n",
              "       '51Nm@ 4000rpm', '250Nm@ 1250-5300rpm', '132Nm@ 3000rpm',\n",
              "       '350Nm@ 1500-2750rpm', '218Nm@ 4200rpm',\n",
              "       '24@ 1,900-2,750(kgm@ rpm)', '13.5@ 2,500(kgm@ rpm)',\n",
              "       '85Nm@ 3000rpm', '160Nm@ 1750rpm', '180.4Nm@ 1750-2500rpm',\n",
              "       '230Nm@ 1500-2500rpm', '113.75Nm@ 4000rpm',\n",
              "       '219.66nm@ 1500-2750rpm', '245Nm@ 1750rpm', '360Nm@ 1400-3200rpm',\n",
              "       '320Nm@ 2000rpm', '135 Nm @ 2500  rpm ', '24 KGM @ 1900-2750 RPM',\n",
              "       '204Nm@ 2000-2750rpm', '14.3@ 1,800-3,000(kgm@ rpm)',\n",
              "       '190Nm@ 1750-2250rpm', '250nm@ 1500-2750rpm', '125Nm@ 2000rpm',\n",
              "       '172Nm@ 4300rpm', '150Nm@ 1750rpm', '102Nm@ 4000rpm',\n",
              "       '85Nm@ 2500rpm', '8.5@ 2,500(kgm@ rpm)', '180Nm@ 1440-1500rpm',\n",
              "       '106.5Nm@ 4400rpm', '108.5Nm@ 5000rpm', '350Nm@ 1750-2500rpm',\n",
              "       '144.15nm@ 4500rpm', '104Nm@ 4400rpm', '74.5Nm@ 4000rpm',\n",
              "       '200Nm@ 2000rpm', '280Nm@ 1800-2800rpm', '142.5Nm@ 1750rpm',\n",
              "       '115@ 2,500(kgm@ rpm)', '196Nm@ 5000rpm', '9.8@ 3,000(kgm@ rpm)',\n",
              "       '209Nm@ 2000rpm', '140Nm@ 4200rpm', '220Nm @ 1400-2600 rpm',\n",
              "       '260 Nm @ 1800-2200 rpm', '171Nm@ 1800rpm',\n",
              "       '277.5Nm@ 1700-2200rpm', '215Nm@ 3600rpm', '195Nm@ 1440-2200rpm',\n",
              "       '13@ 2,500(kgm@ rpm)', '180Nm@ 2000rpm', '200Nm@ 1400-2200rpm',\n",
              "       '380Nm(38.7kgm)@ 2500rpm', '110Nm@ 4400rpm', '72Nm@ 4388rpm',\n",
              "       '263.7Nm@ 2500rpm', '12.7@ 2,700(kgm@ rpm)', '320Nm@ 1600-2800rpm',\n",
              "       '16.3@ 2,000(kgm@ rpm)', '190 Nm @ 1750 rpm ', '94.14Nm@ 3500rpm',\n",
              "       '12@ 3,500(kgm@ rpm)', '280Nm@ 2400-2800rpm', '96Nm@ 3500rpm',\n",
              "       '16@ 2,000(kgm@ rpm)', '320Nm@ 1750-3000rpm', '114.73nm@ 4000rpm',\n",
              "       '320Nm@ 1750-2500rpm', '138nm@ 4400rpm', '99Nm@ 4500rpm',\n",
              "       '190Nm@ 1750rpm', '789Nm@ 2250rpm', '259.87Nm@ 1900-2750rpm',\n",
              "       '205Nm@ 1750rpm', '436.39Nm@ 1800-2500rpm',\n",
              "       '182.5Nm@ 1500-1800rpm', '90.3Nm@ 4200rpm',\n",
              "       '14.9@ 3,000(kgm@ rpm)', '305Nm@ 2000rpm', '14.9 KGM @ 3000 RPM',\n",
              "       '215Nm@ 1750-3000rpm', '540Nm@ 2000rpm', '327Nm@ 2600rpm',\n",
              "       '300Nm@ 1600-3000rpm', '620Nm@ 2000-2500rpm',\n",
              "       '19@ 1,800(kgm@ rpm)', '9.2@ 4,200(kgm@ rpm)',\n",
              "       '145@ 4,100(kgm@ rpm)', '51Nm@ 4000+@-500rpm', '110Nm@ 3000rpm',\n",
              "       '148Nm@ 3500rpm', '12.5@ 2,500(kgm@ rpm)', '116Nm@ 4750rpm',\n",
              "       '148Nm@ 4000rpm', '222Nm@ 4300rpm', '135.3Nm@ 5000rpm',\n",
              "       '98Nm@ 1600-3000rpm', '343Nm@ 1400-2800rpm', '402Nm@ 1600-3000rpm',\n",
              "       '113Nm@ 3300rpm', '99.07Nm@ 4500rpm', '210nm@ 1600-2200rpm',\n",
              "       '190 Nm @ 1750  rpm ', '224nm@ 1500-2750rpm',\n",
              "       '400nm@ 1750-2500rpm', '215Nm@ 1750-2500rpm',\n",
              "       '25@ 1,800-2,800(kgm@ rpm)', '136.3Nm@ 4200rpm',\n",
              "       '470Nm@ 1750-2500rpm', '11@ 3,000(kgm@ rpm)',\n",
              "       '450Nm@ 1600-2400rpm', '140Nm@ 4400rpm', '347Nm@ 4300rpm',\n",
              "       '142Nm@ 4000rpm', '138Nm@ 4400rpm', '145Nm@ 4100rpm',\n",
              "       '320Nm@ 1500-2800rpm', '123Nm@ 1000-2500rpm', '510@ 1600-2400',\n",
              "       '220Nm@ 1500-2750rpm', '380Nm@ 2000rpm', '104Nm@ 3100rpm',\n",
              "       '20@ 3,750(kgm@ rpm)', '46.5@ 1,400-2,800(kgm@ rpm)',\n",
              "       '15@ 3,800(kgm@ rpm)', '136Nm@ 4250rpm', '228Nm@ 4400rpm',\n",
              "       '149Nm@ 4500rpm', '187Nm@ 2500rpm', '146Nm@ 3400rpm',\n",
              "       '218Nm@ 1400-2600rpm', '8.6@ 3,500(kgm@ rpm)',\n",
              "       '219.7Nm@ 1750-2750rpm', '450Nm@ 2000rpm', '300Nm@ 2000rpm',\n",
              "       '230Nm@ 1800-2000rpm', '42@ 2,000(kgm@ rpm)',\n",
              "       '110Nm@ 3000-4300rpm', '330Nm@ 1800rpm', '219.6Nm@ 1750-2750rpm',\n",
              "       '380Nm@ 1750-2750rpm', '28.3@ 1,700-2,200(kgm@ rpm)',\n",
              "       '197Nm@ 1750rpm', '259.88Nm@ 1900-2750rpm', '580Nm@ 1400-3250rpm',\n",
              "       '400 Nm @2000 rpm', '127Nm@ 3500rpm', '300Nm@ 1500-2500rpm',\n",
              "       '132.3Nm@ 4000rpm', '113nm@ 4400rpm', '151NM@ 4850rpm',\n",
              "       '153Nm@ 3750-3800rpm', '10.7@ 2,500(kgm@ rpm)', '78Nm@ 3500rpm',\n",
              "       '219.9Nm@ 1750-2750rpm', '420.7Nm@ 1800-2500rpm', '113Nm@ 5000rpm',\n",
              "       '130Nm@ 3000rpm', '424Nm@ 2000rpm', '130@ 2500(kgm@ rpm)',\n",
              "       '99.8Nm@ 2700rpm', '11.2@ 4,400(kgm@ rpm)', '380Nm@ 2500rpm',\n",
              "       '240Nm@ 1850rpm', '16.1@ 4,200(kgm@ rpm)', '320Nm@ 1750-2700rpm',\n",
              "       '115Nm@ 4500rpm', '245Nm@ 4000rpm', '321Nm@ 1600-2400rpm',\n",
              "       '619Nm@ 1600-2400rpm', '380Nm@ 1750-3000rpm', '560Nm@ 1500rpm',\n",
              "       '230Nm@ 1500-2250rpm', '90Nm@ 2650rpm', '260Nm@ 1800-2200rpm',\n",
              "       '113Nm@ 4,500rpm', '259.87nm@ 1500-3000rpm',\n",
              "       '16.6@ 4,500(kgm@ rpm)', '219.66NM@ 1500-2750rpm',\n",
              "       '12.5@ 3,000(kgm@ rpm)', '620Nm@ 1500-2500rpm',\n",
              "       '250Nm@ 1500-4500rpm', '14.9@ 3,400(kgm@ rpm)',\n",
              "       '25.5@ 1,900(kgm@ rpm)', '33.7@ 1,800(kgm@ rpm)',\n",
              "       '285Nm@ 2400-4000rpm', '10.7@ 2,600(kgm@ rpm)', '240Nm@ 1750rpm',\n",
              "       '226Nm@ 4400rpm', '510Nm@ 1600-2800rpm', '259.87NM@ 1500-3000rpm',\n",
              "       '155 Nm @ 1600-2800 rpm', '240Nm@ 2000rpm', '103Nm@ 4500rpm',\n",
              "       '13.5@ 4,800(kgm@ rpm)', '400Nm@ 1750-2750rpm',\n",
              "       '175Nm@ 1500-4100rpm', '72.9Nm@ 2250rpm', '135.4Nm@ 2500',\n",
              "       '245Nm@ 5000rpm', '57Nm@ 2500rpm', '215nm@ 1750-2500rpm',\n",
              "       '10.4@ 3,200(kgm@ rpm)', '128Nm@ 3100rpm', '131Nm@ 4400rpm',\n",
              "       '250Nm@ 4250rpm', '96Nm@ 2500rpm', '135 Nm @ 2500 rpm',\n",
              "       '12@ 2500(kgm@ rpm)', '12.4@ 2,600(kgm@ rpm)', '102Nm@ 2600rpm',\n",
              "       '250Nm@ 1000-2000rpm', '170Nm@ 4200rpm', '380NM@ 1800-2800rpm',\n",
              "       '24.5@ 3,500-4,500(kgm@ rpm)', '22.9@ 1,950-4,700(kgm@ rpm)',\n",
              "       '113Nm@ 4400rpm', '190Nm@ 2000-3000', '210 @ 1900',\n",
              "       '400Nm@ 175-2750rpm', '350Nm@ 1500-3500rpm', '175nm@ 1750-4000rpm',\n",
              "       '115@ 2500(kgm@ rpm)', '110Nm@ 4500rpm', '190Nm@ 2000-3000rpm',\n",
              "       '223Nm@ 1600-2200rpm', '106Nm@ 2200rpm',\n",
              "       '21.4@ 1,750-4,600(kgm@ rpm)', '96Nm@ 3000rpm', '600Nm@ 2000rpm',\n",
              "       '23.6@ 4,250(kgm@ rpm)', '96 Nm @ 3000 rpm', '11.3kgm@ 4700rpm',\n",
              "       '35.7@ 1,750-3,000(kgm@ rpm)', '6@ 2,500(kgm@ rpm)',\n",
              "       '13.9 kgm @ 4200 rpm', '320Nm@ 1400-4100rpm', '113.8Nm@ 4000rpm',\n",
              "       '110@ 3,000(kgm@ rpm)', '151Nm@ 2400rpm', '200Nm@ 2000-3500rpm',\n",
              "       '124.6Nm@ 3500rpm', '62Nm@ 2500rpm', '18@ 1,600-2,200(kgm@ rpm)',\n",
              "       '83Nm@ 3000rpm', '124.5Nm@ 3500rpm', '300Nm@ 1600-4000rpm',\n",
              "       '21.4@ 1,900(kgm@ rpm)', '225Nm@ 1500-2500rpm',\n",
              "       '190@ 21,800(kgm@ rpm)', '5.7@ 2,500(kgm@ rpm)', '88.4Nm@ 4200rpm',\n",
              "       '250 Nm @ 1,500-3,000 rpm', '36.6@ 1,750-2,500(kgm@ rpm)',\n",
              "       '12.5kgm@ 3500rpm', '6.1@ 3,000(kgm@ rpm)', '110Nm@ 4000rpm',\n",
              "       '350nm@ 1800-2600rpm', '175nm@ 1500-4100rpm', '4.8kgm@ 3000rpm',\n",
              "       '355Nm@ 4500rpm', '51@ 1,750-3,000(kgm@ rpm)',\n",
              "       '410Nm@ 1600-2800rpm', '174Nm@ 4300rpm', '99.1Nm@ 4500rpm',\n",
              "       '385Nm@ 1600-2500rpm', '180 Nm @ 2000rpm', '190 Nm @ 1750 rpm',\n",
              "       '119Nm@ 4250rpm', '360Nm@ 1400-2600rpm', '420Nm@ 2000rpm',\n",
              "       '48@ 3,000+@-500(NM@ rpm)', '17.5@ 4,300(kgm@ rpm)',\n",
              "       '145Nm@ 3750rpm', '85Nm@ 3500rpm', '190Nm@ 4200rpm',\n",
              "       '190 Nm @ 2000rpm', '13.5@ 2500(kgm@ rpm)', '150Nm@ 1700-4500rpm',\n",
              "       '250nm@ 1500-3000rpm', '500Nm@ 2000rpm', '333Nm@ 1600-3200rpm',\n",
              "       '400nm@ 2800rpm', '360Nm@ 2000rpm', '170Nm@ 1400-4500rpm',\n",
              "       '10.2@ 2,600(kgm@ rpm)', '190Nm@ 4300rpm', '171.6Nm@ 1500-4000rpm',\n",
              "       '320Nm@ 1800-2800rpm', '380Nm@ 1750rpm', '250.06nm@ 1500-2750rpm',\n",
              "       '90nm@ 3500rpm', '436.4Nm@ 1800-2500rpm', '250Nm@ 1250-5000rpm'],\n",
              "      dtype=object)"
            ]
          },
          "metadata": {},
          "execution_count": 28
        }
      ]
    },
    {
      "cell_type": "code",
      "source": [
        "df_1.torque.unique()"
      ],
      "metadata": {
        "colab": {
          "base_uri": "https://localhost:8080/"
        },
        "id": "3BgFW3USv73Y",
        "outputId": "30ab3941-063d-4f3a-acc9-63115fd11edd"
      },
      "execution_count": null,
      "outputs": [
        {
          "output_type": "execute_result",
          "data": {
            "text/plain": [
              "array(['190Nm@ 2000rpm', '250Nm@ 1500-2500rpm', '22.4 kgm @ 1750-2750rpm',\n",
              "       '11.5@ 4,500(kgm@ rpm)', '113.75nm@ 4000rpm',\n",
              "       '7.8@ 4,500(kgm@ rpm)', '59Nm@ 2500rpm', '170Nm@ 1800-2400rpm',\n",
              "       '160Nm@ 2000rpm', '248Nm@ 2250rpm', '78Nm@ 4500rpm',\n",
              "       '84Nm@ 3500rpm', '115Nm@ 3500-3600rpm', '62Nm@ 3000rpm',\n",
              "       '219.7Nm@ 1500-2750rpm', '200Nm@ 1750rpm', '115Nm@ 4000rpm',\n",
              "       '69Nm@ 3500rpm', '172.5Nm@ 1750rpm', '6.1kgm@ 3000rpm',\n",
              "       '60Nm@ 3500rpm', '90Nm@ 3500rpm', '151Nm@ 4850rpm',\n",
              "       '104Nm@ 4000rpm', '320Nm@ 1700-2700rpm', '250Nm@ 1750-2500rpm',\n",
              "       '145Nm@ 4600rpm', '146Nm@ 4800rpm', '343Nm@ 1400-3400rpm',\n",
              "       '200Nm@ 1400-3400rpm', '200Nm@ 1250-4000rpm',\n",
              "       '400Nm@ 2000-2500rpm', '360Nm@ 1200-3400rpm',\n",
              "       '200Nm@ 1200-3600rpm', '380Nm@ 1750-2500rpm',\n",
              "       '400Nm@ 1750-3000rpm', '400Nm@ 1400-2800rpm',\n",
              "       '200Nm@ 1750-3000rpm', '111.7Nm@ 4000rpm', '219.6Nm@ 1500-2750rpm',\n",
              "       '112Nm@ 4000rpm', '250Nm@ 1500-3000rpm', '130Nm@ 4000rpm',\n",
              "       '205Nm@ 1750-3250rpm', '280Nm@ 1350-4600rpm', '99.04Nm@ 4500rpm',\n",
              "       '77Nm@ 3500rpm', '110Nm@ 3750rpm', '153Nm@ 3800rpm',\n",
              "       '113.7Nm@ 4000rpm', '114Nm@ 4000rpm', '113Nm@ 4200rpm',\n",
              "       '290Nm@ 1800-2800rpm', '120Nm@ 4250rpm', '250Nm@ 1500~4500rpm',\n",
              "       '360Nm@ 1750-2800rpm', '135Nm@ 2500rpm', '259.8Nm@ 1900-2750rpm',\n",
              "       '173Nm@ 4000rpm', '200Nm@ 1900rpm', '259.9Nm@ 1900-2750rpm',\n",
              "       '91Nm@ 4250rpm', '96.1Nm@ 3000rpm', '109Nm@ 4500rpm',\n",
              "       '400nm@ 1750-3000rpm', '202Nm@ 3600-5200rpm',\n",
              "       '430Nm@ 1750-2500rpm', '382nm@ 1750-2250rpm',\n",
              "       '620Nm@ 1600-2400rpm', '400Nm@ 1750-2500rpm', '250@ 1250-5000rpm',\n",
              "       '500Nm@ 1600-1800rpm', '250Nm@ 1600-3600rpm', '400Nm',\n",
              "       '550Nm@ 1750-2750rpm', '490Nm@ 1600rpm', '250 Nm @ 2750 rpm',\n",
              "       '170Nm@ 1750-4000rpm', '177.5Nm@ 4700rpm', '300Nm@ 1200-4000rpm',\n",
              "       '300Nm@ 1200-1400rpm', '260Nm@ 1500-2750rpm', '213Nm@ 4500rpm',\n",
              "       '224Nm@ 4000rpm', '640Nm@ 1740rpm', '114.7Nm@ 4000rpm',\n",
              "       '113Nm@ 4500rpm', '95Nm@ 3000-4300rpm', '13.1kgm@ 4600rpm',\n",
              "       '205Nm@ 1800-2800rpm', '71Nm@ 3500rpm', '190Nm@ 1750-3000rpm',\n",
              "       '146Nm @ 4800 rpm', '115Nm@ 3200rpm', '114Nm@ 3500rpm',\n",
              "       '320Nm@ 1500-3000rpm', '11.4 kgm @ 4,000 rpm',\n",
              "       '140Nm@ 1500-4000rpm', '134Nm@ 4000rpm', '150Nm@ 4500rpm',\n",
              "       '340Nm@ 1800-3250rpm', '240Nm@ 1600-2800rpm', '72Nm@ 4386rpm',\n",
              "       '330Nm@ 1600-2800rpm', '101Nm@ 3000rpm', '12.5@ 3,500(kgm@ rpm)',\n",
              "       '110Nm@ 4800rpm', '111.8Nm@ 4000rpm', '11.8@ 3,200(kgm@ rpm)',\n",
              "       '135.4Nm@ 2500rpm', '300Nm@ 1750-2500rpm',\n",
              "       '190.25nm@ 1750-2250rpm', '140Nm@ 1800-3000rpm', '117nm@ 4000rpm',\n",
              "       '20.4@ 1400-3400(kgm@ rpm)', '247Nm@ 1800-2000rpm',\n",
              "       '180 Nm @ 1440-1500rpm', '195Nm@ 1400-2200rpm', '154.9Nm@ 4200rpm',\n",
              "       '114.73Nm@ 4000rpm', '160Nm@ 1500-2750rpm', '108Nm@ 4400rpm',\n",
              "       '190.24nm@ 1750-2250rpm', '420Nm@ 1400-2600rpm', '100Nm@ 2700rpm',\n",
              "       '51Nm@ 4000rpm', '250Nm@ 1250-5300rpm', '132Nm@ 3000rpm',\n",
              "       '350Nm@ 1500-2750rpm', '218Nm@ 4200rpm',\n",
              "       '24@ 1,900-2,750(kgm@ rpm)', '13.5@ 2,500(kgm@ rpm)',\n",
              "       '85Nm@ 3000rpm', '160Nm@ 1750rpm', '180.4Nm@ 1750-2500rpm',\n",
              "       '230Nm@ 1500-2500rpm', '113.75Nm@ 4000rpm',\n",
              "       '219.66nm@ 1500-2750rpm', '245Nm@ 1750rpm', '360Nm@ 1400-3200rpm',\n",
              "       '320Nm@ 2000rpm', '135 Nm @ 2500  rpm ', '24 KGM @ 1900-2750 RPM',\n",
              "       '204Nm@ 2000-2750rpm', '14.3@ 1,800-3,000(kgm@ rpm)',\n",
              "       '190Nm@ 1750-2250rpm', '250nm@ 1500-2750rpm', '125Nm@ 2000rpm',\n",
              "       '172Nm@ 4300rpm', '150Nm@ 1750rpm', '102Nm@ 4000rpm',\n",
              "       '85Nm@ 2500rpm', '8.5@ 2,500(kgm@ rpm)', '180Nm@ 1440-1500rpm',\n",
              "       '106.5Nm@ 4400rpm', '108.5Nm@ 5000rpm', '350Nm@ 1750-2500rpm',\n",
              "       '144.15nm@ 4500rpm', '104Nm@ 4400rpm', '74.5Nm@ 4000rpm',\n",
              "       '200Nm@ 2000rpm', '280Nm@ 1800-2800rpm', '142.5Nm@ 1750rpm',\n",
              "       '115@ 2,500(kgm@ rpm)', '196Nm@ 5000rpm', '9.8@ 3,000(kgm@ rpm)',\n",
              "       '209Nm@ 2000rpm', '140Nm@ 4200rpm', '220Nm @ 1400-2600 rpm',\n",
              "       '260 Nm @ 1800-2200 rpm', '171Nm@ 1800rpm',\n",
              "       '277.5Nm@ 1700-2200rpm', '215Nm@ 3600rpm', '195Nm@ 1440-2200rpm',\n",
              "       '13@ 2,500(kgm@ rpm)', '180Nm@ 2000rpm', '200Nm@ 1400-2200rpm',\n",
              "       '380Nm(38.7kgm)@ 2500rpm', '110Nm@ 4400rpm', '72Nm@ 4388rpm',\n",
              "       '263.7Nm@ 2500rpm', '12.7@ 2,700(kgm@ rpm)', '320Nm@ 1600-2800rpm',\n",
              "       '16.3@ 2,000(kgm@ rpm)', '190 Nm @ 1750 rpm ', '94.14Nm@ 3500rpm',\n",
              "       '12@ 3,500(kgm@ rpm)', '280Nm@ 2400-2800rpm', '96Nm@ 3500rpm',\n",
              "       '16@ 2,000(kgm@ rpm)', '320Nm@ 1750-3000rpm', '114.73nm@ 4000rpm',\n",
              "       '320Nm@ 1750-2500rpm', '138nm@ 4400rpm', '99Nm@ 4500rpm',\n",
              "       '190Nm@ 1750rpm', '789Nm@ 2250rpm', '259.87Nm@ 1900-2750rpm',\n",
              "       '205Nm@ 1750rpm', '436.39Nm@ 1800-2500rpm',\n",
              "       '182.5Nm@ 1500-1800rpm', '90.3Nm@ 4200rpm',\n",
              "       '14.9@ 3,000(kgm@ rpm)', '305Nm@ 2000rpm', '14.9 KGM @ 3000 RPM',\n",
              "       '215Nm@ 1750-3000rpm', '540Nm@ 2000rpm', '327Nm@ 2600rpm',\n",
              "       '300Nm@ 1600-3000rpm', '620Nm@ 2000-2500rpm',\n",
              "       '19@ 1,800(kgm@ rpm)', '9.2@ 4,200(kgm@ rpm)',\n",
              "       '145@ 4,100(kgm@ rpm)', '51Nm@ 4000+@-500rpm', '110Nm@ 3000rpm',\n",
              "       '148Nm@ 3500rpm', '12.5@ 2,500(kgm@ rpm)', '116Nm@ 4750rpm',\n",
              "       '148Nm@ 4000rpm', '222Nm@ 4300rpm', '135.3Nm@ 5000rpm',\n",
              "       '98Nm@ 1600-3000rpm', '343Nm@ 1400-2800rpm', '402Nm@ 1600-3000rpm',\n",
              "       '113Nm@ 3300rpm', '99.07Nm@ 4500rpm', '210nm@ 1600-2200rpm',\n",
              "       '190 Nm @ 1750  rpm ', '224nm@ 1500-2750rpm',\n",
              "       '400nm@ 1750-2500rpm', '215Nm@ 1750-2500rpm',\n",
              "       '25@ 1,800-2,800(kgm@ rpm)', '136.3Nm@ 4200rpm',\n",
              "       '470Nm@ 1750-2500rpm', '11@ 3,000(kgm@ rpm)',\n",
              "       '450Nm@ 1600-2400rpm', '140Nm@ 4400rpm', '347Nm@ 4300rpm',\n",
              "       '142Nm@ 4000rpm', '138Nm@ 4400rpm', '145Nm@ 4100rpm',\n",
              "       '320Nm@ 1500-2800rpm', '123Nm@ 1000-2500rpm', '510@ 1600-2400',\n",
              "       '220Nm@ 1500-2750rpm', '380Nm@ 2000rpm', '104Nm@ 3100rpm',\n",
              "       '20@ 3,750(kgm@ rpm)', '46.5@ 1,400-2,800(kgm@ rpm)',\n",
              "       '15@ 3,800(kgm@ rpm)', '136Nm@ 4250rpm', '228Nm@ 4400rpm',\n",
              "       '149Nm@ 4500rpm', '187Nm@ 2500rpm', '146Nm@ 3400rpm',\n",
              "       '218Nm@ 1400-2600rpm', '8.6@ 3,500(kgm@ rpm)',\n",
              "       '219.7Nm@ 1750-2750rpm', '450Nm@ 2000rpm', '300Nm@ 2000rpm',\n",
              "       '230Nm@ 1800-2000rpm', '42@ 2,000(kgm@ rpm)',\n",
              "       '110Nm@ 3000-4300rpm', '330Nm@ 1800rpm', '219.6Nm@ 1750-2750rpm',\n",
              "       '380Nm@ 1750-2750rpm', '28.3@ 1,700-2,200(kgm@ rpm)',\n",
              "       '197Nm@ 1750rpm', '259.88Nm@ 1900-2750rpm', '580Nm@ 1400-3250rpm',\n",
              "       '400 Nm @2000 rpm', '127Nm@ 3500rpm', '300Nm@ 1500-2500rpm',\n",
              "       '132.3Nm@ 4000rpm', '113nm@ 4400rpm', '151NM@ 4850rpm',\n",
              "       '153Nm@ 3750-3800rpm', '10.7@ 2,500(kgm@ rpm)', '78Nm@ 3500rpm',\n",
              "       '219.9Nm@ 1750-2750rpm', '420.7Nm@ 1800-2500rpm', '113Nm@ 5000rpm',\n",
              "       '130Nm@ 3000rpm', '424Nm@ 2000rpm', '130@ 2500(kgm@ rpm)',\n",
              "       '99.8Nm@ 2700rpm', '11.2@ 4,400(kgm@ rpm)', '380Nm@ 2500rpm',\n",
              "       '240Nm@ 1850rpm', '16.1@ 4,200(kgm@ rpm)', '320Nm@ 1750-2700rpm',\n",
              "       '115Nm@ 4500rpm', '245Nm@ 4000rpm', '321Nm@ 1600-2400rpm',\n",
              "       '619Nm@ 1600-2400rpm', '380Nm@ 1750-3000rpm', '560Nm@ 1500rpm',\n",
              "       '230Nm@ 1500-2250rpm', '90Nm@ 2650rpm', '260Nm@ 1800-2200rpm',\n",
              "       '113Nm@ 4,500rpm', '259.87nm@ 1500-3000rpm',\n",
              "       '16.6@ 4,500(kgm@ rpm)', '219.66NM@ 1500-2750rpm',\n",
              "       '12.5@ 3,000(kgm@ rpm)', '620Nm@ 1500-2500rpm',\n",
              "       '250Nm@ 1500-4500rpm', '14.9@ 3,400(kgm@ rpm)',\n",
              "       '25.5@ 1,900(kgm@ rpm)', '33.7@ 1,800(kgm@ rpm)',\n",
              "       '285Nm@ 2400-4000rpm', '10.7@ 2,600(kgm@ rpm)', '240Nm@ 1750rpm',\n",
              "       '226Nm@ 4400rpm', '510Nm@ 1600-2800rpm', '259.87NM@ 1500-3000rpm',\n",
              "       '155 Nm @ 1600-2800 rpm', '240Nm@ 2000rpm', '103Nm@ 4500rpm',\n",
              "       '13.5@ 4,800(kgm@ rpm)', '400Nm@ 1750-2750rpm',\n",
              "       '175Nm@ 1500-4100rpm', '72.9Nm@ 2250rpm', '135.4Nm@ 2500',\n",
              "       '245Nm@ 5000rpm', '57Nm@ 2500rpm', '215nm@ 1750-2500rpm',\n",
              "       '10.4@ 3,200(kgm@ rpm)', '128Nm@ 3100rpm', '131Nm@ 4400rpm',\n",
              "       '250Nm@ 4250rpm', '96Nm@ 2500rpm', '135 Nm @ 2500 rpm',\n",
              "       '12@ 2500(kgm@ rpm)', '12.4@ 2,600(kgm@ rpm)', '102Nm@ 2600rpm',\n",
              "       '250Nm@ 1000-2000rpm', '170Nm@ 4200rpm', '380NM@ 1800-2800rpm',\n",
              "       '24.5@ 3,500-4,500(kgm@ rpm)', '22.9@ 1,950-4,700(kgm@ rpm)',\n",
              "       '113Nm@ 4400rpm', '190Nm@ 2000-3000', '210 @ 1900',\n",
              "       '400Nm@ 175-2750rpm', '350Nm@ 1500-3500rpm', '175nm@ 1750-4000rpm',\n",
              "       '115@ 2500(kgm@ rpm)', '110Nm@ 4500rpm', '190Nm@ 2000-3000rpm',\n",
              "       '223Nm@ 1600-2200rpm', '106Nm@ 2200rpm',\n",
              "       '21.4@ 1,750-4,600(kgm@ rpm)', '96Nm@ 3000rpm', '600Nm@ 2000rpm',\n",
              "       '23.6@ 4,250(kgm@ rpm)', '96 Nm @ 3000 rpm', '11.3kgm@ 4700rpm',\n",
              "       '35.7@ 1,750-3,000(kgm@ rpm)', '6@ 2,500(kgm@ rpm)', None,\n",
              "       '13.9 kgm @ 4200 rpm', '320Nm@ 1400-4100rpm', '113.8Nm@ 4000rpm',\n",
              "       '110@ 3,000(kgm@ rpm)', '151Nm@ 2400rpm', '200Nm@ 2000-3500rpm',\n",
              "       '124.6Nm@ 3500rpm', '62Nm@ 2500rpm', '18@ 1,600-2,200(kgm@ rpm)',\n",
              "       '83Nm@ 3000rpm', '124.5Nm@ 3500rpm', '300Nm@ 1600-4000rpm',\n",
              "       '21.4@ 1,900(kgm@ rpm)', '225Nm@ 1500-2500rpm',\n",
              "       '190@ 21,800(kgm@ rpm)', '5.7@ 2,500(kgm@ rpm)', '88.4Nm@ 4200rpm',\n",
              "       '250 Nm @ 1,500-3,000 rpm', '36.6@ 1,750-2,500(kgm@ rpm)',\n",
              "       '12.5kgm@ 3500rpm', '6.1@ 3,000(kgm@ rpm)', '110Nm@ 4000rpm',\n",
              "       '350nm@ 1800-2600rpm', '175nm@ 1500-4100rpm', '4.8kgm@ 3000rpm',\n",
              "       '355Nm@ 4500rpm', '51@ 1,750-3,000(kgm@ rpm)',\n",
              "       '410Nm@ 1600-2800rpm', '174Nm@ 4300rpm', '99.1Nm@ 4500rpm',\n",
              "       '385Nm@ 1600-2500rpm', '180 Nm @ 2000rpm', '190 Nm @ 1750 rpm',\n",
              "       '119Nm@ 4250rpm', '360Nm@ 1400-2600rpm', '420Nm@ 2000rpm',\n",
              "       '48@ 3,000+@-500(NM@ rpm)', '17.5@ 4,300(kgm@ rpm)',\n",
              "       '145Nm@ 3750rpm', '85Nm@ 3500rpm', '190Nm@ 4200rpm',\n",
              "       '190 Nm @ 2000rpm', '13.5@ 2500(kgm@ rpm)', '150Nm@ 1700-4500rpm',\n",
              "       '250nm@ 1500-3000rpm', '500Nm@ 2000rpm', '333Nm@ 1600-3200rpm',\n",
              "       '400nm@ 2800rpm', '360Nm@ 2000rpm', '170Nm@ 1400-4500rpm',\n",
              "       '10.2@ 2,600(kgm@ rpm)', '190Nm@ 4300rpm', '171.6Nm@ 1500-4000rpm',\n",
              "       '320Nm@ 1800-2800rpm', '380Nm@ 1750rpm', '250.06nm@ 1500-2750rpm',\n",
              "       '90nm@ 3500rpm', '436.4Nm@ 1800-2500rpm', '250Nm@ 1250-5000rpm'],\n",
              "      dtype=object)"
            ]
          },
          "metadata": {},
          "execution_count": 31
        }
      ]
    },
    {
      "cell_type": "markdown",
      "source": [
        "Итак, первая часть представляет собой значение крутящего момента в ньютон-метрах. Отделим ее от второй."
      ],
      "metadata": {
        "id": "QsaZirUuK_tZ"
      }
    },
    {
      "cell_type": "code",
      "source": [
        "df_1['torque_1'] = df_1.torque.apply(lambda x: x.split('@', maxsplit=1)[0].lower() if type(x) == str else None)"
      ],
      "metadata": {
        "colab": {
          "base_uri": "https://localhost:8080/"
        },
        "id": "IEaL2Pi3wJ2I",
        "outputId": "88ea960b-d10d-4a39-f37e-73995824654a"
      },
      "execution_count": null,
      "outputs": [
        {
          "output_type": "stream",
          "name": "stderr",
          "text": [
            "<ipython-input-53-d5b9529e5222>:1: SettingWithCopyWarning: \n",
            "A value is trying to be set on a copy of a slice from a DataFrame.\n",
            "Try using .loc[row_indexer,col_indexer] = value instead\n",
            "\n",
            "See the caveats in the documentation: https://pandas.pydata.org/pandas-docs/stable/user_guide/indexing.html#returning-a-view-versus-a-copy\n",
            "  df_1['torque_1'] = df_1.torque.apply(lambda x: x.split('@', maxsplit=1)[0].lower() if type(x) == str else None)\n"
          ]
        }
      ]
    },
    {
      "cell_type": "code",
      "source": [
        "def count_nm(x: str):\n",
        "  if 'nm' in x:\n",
        "    x = x.replace('nm', '')\n",
        "    x = x.strip()\n",
        "    if '(' in x:\n",
        "      if '380' in x:\n",
        "        return 380.0\n",
        "    else:\n",
        "      return float(x)\n",
        "  elif 'kgm' in x:\n",
        "    x = x.replace('kgm', '')\n",
        "    x = x.strip()\n",
        "    return float(x) * 9.8\n",
        "  else:\n",
        "    if float(x) > 100:\n",
        "      return float(x)\n",
        "    else:\n",
        "      return float(x) * 9.8"
      ],
      "metadata": {
        "id": "AaOrRecCwyRN"
      },
      "execution_count": null,
      "outputs": []
    },
    {
      "cell_type": "code",
      "source": [
        "df_1['torque_1'] = df_1['torque_1'].apply(lambda x: count_nm(x) if type(x) == str else None )"
      ],
      "metadata": {
        "id": "uoHrfdY0y5O6"
      },
      "execution_count": null,
      "outputs": []
    },
    {
      "cell_type": "code",
      "source": [
        "df_1['rpm'] = df_1['torque'].apply(lambda x: x.split('@', maxsplit=1)[1].lower() if type(x) == str and '@' in x else None)"
      ],
      "metadata": {
        "id": "GFOzCq9409ry"
      },
      "execution_count": null,
      "outputs": []
    },
    {
      "cell_type": "code",
      "source": [
        "def process_rpm(x: str):\n",
        "  x = x.replace('(kgm@ rpm)', '')\n",
        "  x = x.replace('rpm', '')\n",
        "  x = x.strip()\n",
        "  x = x.replace(',', '')\n",
        "  x = x.replace('+@', '')\n",
        "  x = x.replace('(nm@ )', '')\n",
        "  if '-' in x:\n",
        "    rpm = x.split('-')\n",
        "    rpm[0] = int(rpm[0])\n",
        "    rpm[1] = int(rpm[1])\n",
        "  elif '~' in x:\n",
        "    rpm = x.split('~')\n",
        "    rpm[0] = int(rpm[0])\n",
        "    rpm[1] = int(rpm[1])\n",
        "  else:\n",
        "    rpm = [int(x), int(x)]\n",
        "  return rpm"
      ],
      "metadata": {
        "id": "gPq4qRbF1cHR"
      },
      "execution_count": null,
      "outputs": []
    },
    {
      "cell_type": "code",
      "source": [
        "df_1['rpm'] = df_1['rpm'].apply(lambda x: process_rpm(x) if type(x) == str else None)"
      ],
      "metadata": {
        "id": "UzenEa5f2Zpi"
      },
      "execution_count": null,
      "outputs": []
    },
    {
      "cell_type": "code",
      "source": [
        "df_1.rpm.isna().sum()"
      ],
      "metadata": {
        "colab": {
          "base_uri": "https://localhost:8080/"
        },
        "id": "oH-fZB1P3Rh7",
        "outputId": "4bd03e85-f9c0-4482-cd29-c9c1c5eeb34f"
      },
      "execution_count": null,
      "outputs": [
        {
          "output_type": "execute_result",
          "data": {
            "text/plain": [
              "29"
            ]
          },
          "metadata": {},
          "execution_count": 74
        }
      ]
    },
    {
      "cell_type": "markdown",
      "source": [
        "Странно, но..."
      ],
      "metadata": {
        "id": "3O_BUIw04ERu"
      }
    },
    {
      "cell_type": "code",
      "source": [
        "df_1[df_1['rpm'].isna()]"
      ],
      "metadata": {
        "colab": {
          "base_uri": "https://localhost:8080/",
          "height": 1000
        },
        "id": "dbXwfXJ43oHk",
        "outputId": "ac497edf-2f8a-4b6f-b26a-76b339029145"
      },
      "execution_count": null,
      "outputs": [
        {
          "output_type": "execute_result",
          "data": {
            "text/plain": [
              "                                name  year  selling_price  km_driven    fuel  \\\n",
              "129           Volvo XC40 D4 R-Design  2018        3400000      22000  Diesel   \n",
              "361   Volvo XC40 D4 Inscription BSIV  2019        3800000      20000  Diesel   \n",
              "567   Volvo XC40 D4 Inscription BSIV  2019        3800000      20000  Diesel   \n",
              "929   Volvo XC40 D4 Inscription BSIV  2019        3800000      20000  Diesel   \n",
              "947   Volvo XC40 D4 Inscription BSIV  2019        3800000      20000  Diesel   \n",
              "962   Volvo XC40 D4 Inscription BSIV  2019        3800000      20000  Diesel   \n",
              "978   Volvo XC40 D4 Inscription BSIV  2019        3800000      20000  Diesel   \n",
              "1468  Volvo XC40 D4 Inscription BSIV  2019        3800000      20000  Diesel   \n",
              "1568  Volvo XC40 D4 Inscription BSIV  2019        3800000      20000  Diesel   \n",
              "2293  Volvo XC40 D4 Inscription BSIV  2019        3800000      20000  Diesel   \n",
              "2652  Volvo XC40 D4 Inscription BSIV  2019        3800000      20000  Diesel   \n",
              "2941  Volvo XC40 D4 Inscription BSIV  2019        3800000      20000  Diesel   \n",
              "3035  Volvo XC40 D4 Inscription BSIV  2019        3800000      20000  Diesel   \n",
              "3291  Volvo XC40 D4 Inscription BSIV  2019        3800000      20000  Diesel   \n",
              "3623  Volvo XC40 D4 Inscription BSIV  2019        3800000      20000  Diesel   \n",
              "3643  Volvo XC40 D4 Inscription BSIV  2019        3800000      20000  Diesel   \n",
              "3699  Volvo XC40 D4 Inscription BSIV  2019        3800000      20000  Diesel   \n",
              "3773  Volvo XC40 D4 Inscription BSIV  2019        3800000      20000  Diesel   \n",
              "4121  Volvo XC40 D4 Inscription BSIV  2019        3800000      20000  Diesel   \n",
              "4217                 Maruti Omni CNG  2000          80000     100000     CNG   \n",
              "4349  Volvo XC40 D4 Inscription BSIV  2019        3800000      20000  Diesel   \n",
              "5299  Volvo XC40 D4 Inscription BSIV  2019        3800000      20000  Diesel   \n",
              "5335  Volvo XC40 D4 Inscription BSIV  2019        3800000      20000  Diesel   \n",
              "5637  Volvo XC40 D4 Inscription BSIV  2019        3800000      20000  Diesel   \n",
              "5652  Volvo XC40 D4 Inscription BSIV  2019        3800000      20000  Diesel   \n",
              "5753  Volvo XC40 D4 Inscription BSIV  2019        3800000      20000  Diesel   \n",
              "5991  Volvo XC40 D4 Inscription BSIV  2019        3800000      20000  Diesel   \n",
              "6778  Volvo XC40 D4 Inscription BSIV  2019        3800000      20000  Diesel   \n",
              "6832   Volvo S90 D4 Inscription BSIV  2019        5500000      17000  Diesel   \n",
              "\n",
              "     seller_type transmission         owner     mileage   engine max_power  \\\n",
              "129       Dealer    Automatic   First Owner   18.0 kmpl  1969 CC   190 bhp   \n",
              "361   Individual    Automatic   First Owner   18.0 kmpl  1969 CC   190 bhp   \n",
              "567   Individual    Automatic   First Owner   18.0 kmpl  1969 CC   190 bhp   \n",
              "929   Individual    Automatic   First Owner   18.0 kmpl  1969 CC   190 bhp   \n",
              "947   Individual    Automatic   First Owner   18.0 kmpl  1969 CC   190 bhp   \n",
              "962   Individual    Automatic   First Owner   18.0 kmpl  1969 CC   190 bhp   \n",
              "978   Individual    Automatic   First Owner   18.0 kmpl  1969 CC   190 bhp   \n",
              "1468  Individual    Automatic   First Owner   18.0 kmpl  1969 CC   190 bhp   \n",
              "1568  Individual    Automatic   First Owner   18.0 kmpl  1969 CC   190 bhp   \n",
              "2293  Individual    Automatic   First Owner   18.0 kmpl  1969 CC   190 bhp   \n",
              "2652  Individual    Automatic   First Owner   18.0 kmpl  1969 CC   190 bhp   \n",
              "2941  Individual    Automatic   First Owner   18.0 kmpl  1969 CC   190 bhp   \n",
              "3035  Individual    Automatic   First Owner   18.0 kmpl  1969 CC   190 bhp   \n",
              "3291  Individual    Automatic   First Owner   18.0 kmpl  1969 CC   190 bhp   \n",
              "3623  Individual    Automatic   First Owner   18.0 kmpl  1969 CC   190 bhp   \n",
              "3643  Individual    Automatic   First Owner   18.0 kmpl  1969 CC   190 bhp   \n",
              "3699  Individual    Automatic   First Owner   18.0 kmpl  1969 CC   190 bhp   \n",
              "3773  Individual    Automatic   First Owner   18.0 kmpl  1969 CC   190 bhp   \n",
              "4121  Individual    Automatic   First Owner   18.0 kmpl  1969 CC   190 bhp   \n",
              "4217  Individual       Manual  Second Owner  10.9 km/kg   796 CC       bhp   \n",
              "4349  Individual    Automatic   First Owner   18.0 kmpl  1969 CC   190 bhp   \n",
              "5299  Individual    Automatic   First Owner   18.0 kmpl  1969 CC   190 bhp   \n",
              "5335  Individual    Automatic   First Owner   18.0 kmpl  1969 CC   190 bhp   \n",
              "5637  Individual    Automatic   First Owner   18.0 kmpl  1969 CC   190 bhp   \n",
              "5652  Individual    Automatic   First Owner   18.0 kmpl  1969 CC   190 bhp   \n",
              "5753  Individual    Automatic   First Owner   18.0 kmpl  1969 CC   190 bhp   \n",
              "5991  Individual    Automatic   First Owner   18.0 kmpl  1969 CC   190 bhp   \n",
              "6778  Individual    Automatic   First Owner   18.0 kmpl  1969 CC   190 bhp   \n",
              "6832  Individual    Automatic   First Owner   18.0 kmpl  1969 CC   190 bhp   \n",
              "\n",
              "     torque  seats  age  mileage_count mileage_measure  engine_volume  \\\n",
              "129   400Nm    5.0    3           18.0            kmpl         1969.0   \n",
              "361   400Nm    5.0    2           18.0            kmpl         1969.0   \n",
              "567   400Nm    5.0    2           18.0            kmpl         1969.0   \n",
              "929   400Nm    5.0    2           18.0            kmpl         1969.0   \n",
              "947   400Nm    5.0    2           18.0            kmpl         1969.0   \n",
              "962   400Nm    5.0    2           18.0            kmpl         1969.0   \n",
              "978   400Nm    5.0    2           18.0            kmpl         1969.0   \n",
              "1468  400Nm    5.0    2           18.0            kmpl         1969.0   \n",
              "1568  400Nm    5.0    2           18.0            kmpl         1969.0   \n",
              "2293  400Nm    5.0    2           18.0            kmpl         1969.0   \n",
              "2652  400Nm    5.0    2           18.0            kmpl         1969.0   \n",
              "2941  400Nm    5.0    2           18.0            kmpl         1969.0   \n",
              "3035  400Nm    5.0    2           18.0            kmpl         1969.0   \n",
              "3291  400Nm    5.0    2           18.0            kmpl         1969.0   \n",
              "3623  400Nm    5.0    2           18.0            kmpl         1969.0   \n",
              "3643  400Nm    5.0    2           18.0            kmpl         1969.0   \n",
              "3699  400Nm    5.0    2           18.0            kmpl         1969.0   \n",
              "3773  400Nm    5.0    2           18.0            kmpl         1969.0   \n",
              "4121  400Nm    5.0    2           18.0            kmpl         1969.0   \n",
              "4217   None    8.0   14           10.9           km/kg          796.0   \n",
              "4349  400Nm    5.0    2           18.0            kmpl         1969.0   \n",
              "5299  400Nm    5.0    2           18.0            kmpl         1969.0   \n",
              "5335  400Nm    5.0    2           18.0            kmpl         1969.0   \n",
              "5637  400Nm    5.0    2           18.0            kmpl         1969.0   \n",
              "5652  400Nm    5.0    2           18.0            kmpl         1969.0   \n",
              "5753  400Nm    5.0    2           18.0            kmpl         1969.0   \n",
              "5991  400Nm    5.0    2           18.0            kmpl         1969.0   \n",
              "6778  400Nm    5.0    2           18.0            kmpl         1969.0   \n",
              "6832  400Nm    5.0    2           18.0            kmpl         1969.0   \n",
              "\n",
              "      max_power_count  torque_1   rpm  \n",
              "129             190.0     400.0  None  \n",
              "361             190.0     400.0  None  \n",
              "567             190.0     400.0  None  \n",
              "929             190.0     400.0  None  \n",
              "947             190.0     400.0  None  \n",
              "962             190.0     400.0  None  \n",
              "978             190.0     400.0  None  \n",
              "1468            190.0     400.0  None  \n",
              "1568            190.0     400.0  None  \n",
              "2293            190.0     400.0  None  \n",
              "2652            190.0     400.0  None  \n",
              "2941            190.0     400.0  None  \n",
              "3035            190.0     400.0  None  \n",
              "3291            190.0     400.0  None  \n",
              "3623            190.0     400.0  None  \n",
              "3643            190.0     400.0  None  \n",
              "3699            190.0     400.0  None  \n",
              "3773            190.0     400.0  None  \n",
              "4121            190.0     400.0  None  \n",
              "4217              NaN       NaN  None  \n",
              "4349            190.0     400.0  None  \n",
              "5299            190.0     400.0  None  \n",
              "5335            190.0     400.0  None  \n",
              "5637            190.0     400.0  None  \n",
              "5652            190.0     400.0  None  \n",
              "5753            190.0     400.0  None  \n",
              "5991            190.0     400.0  None  \n",
              "6778            190.0     400.0  None  \n",
              "6832            190.0     400.0  None  "
            ],
            "text/html": [
              "\n",
              "  <div id=\"df-e2bdb881-db93-4140-99a1-64d5beae9b8e\">\n",
              "    <div class=\"colab-df-container\">\n",
              "      <div>\n",
              "<style scoped>\n",
              "    .dataframe tbody tr th:only-of-type {\n",
              "        vertical-align: middle;\n",
              "    }\n",
              "\n",
              "    .dataframe tbody tr th {\n",
              "        vertical-align: top;\n",
              "    }\n",
              "\n",
              "    .dataframe thead th {\n",
              "        text-align: right;\n",
              "    }\n",
              "</style>\n",
              "<table border=\"1\" class=\"dataframe\">\n",
              "  <thead>\n",
              "    <tr style=\"text-align: right;\">\n",
              "      <th></th>\n",
              "      <th>name</th>\n",
              "      <th>year</th>\n",
              "      <th>selling_price</th>\n",
              "      <th>km_driven</th>\n",
              "      <th>fuel</th>\n",
              "      <th>seller_type</th>\n",
              "      <th>transmission</th>\n",
              "      <th>owner</th>\n",
              "      <th>mileage</th>\n",
              "      <th>engine</th>\n",
              "      <th>max_power</th>\n",
              "      <th>torque</th>\n",
              "      <th>seats</th>\n",
              "      <th>age</th>\n",
              "      <th>mileage_count</th>\n",
              "      <th>mileage_measure</th>\n",
              "      <th>engine_volume</th>\n",
              "      <th>max_power_count</th>\n",
              "      <th>torque_1</th>\n",
              "      <th>rpm</th>\n",
              "    </tr>\n",
              "  </thead>\n",
              "  <tbody>\n",
              "    <tr>\n",
              "      <th>129</th>\n",
              "      <td>Volvo XC40 D4 R-Design</td>\n",
              "      <td>2018</td>\n",
              "      <td>3400000</td>\n",
              "      <td>22000</td>\n",
              "      <td>Diesel</td>\n",
              "      <td>Dealer</td>\n",
              "      <td>Automatic</td>\n",
              "      <td>First Owner</td>\n",
              "      <td>18.0 kmpl</td>\n",
              "      <td>1969 CC</td>\n",
              "      <td>190 bhp</td>\n",
              "      <td>400Nm</td>\n",
              "      <td>5.0</td>\n",
              "      <td>3</td>\n",
              "      <td>18.0</td>\n",
              "      <td>kmpl</td>\n",
              "      <td>1969.0</td>\n",
              "      <td>190.0</td>\n",
              "      <td>400.0</td>\n",
              "      <td>None</td>\n",
              "    </tr>\n",
              "    <tr>\n",
              "      <th>361</th>\n",
              "      <td>Volvo XC40 D4 Inscription BSIV</td>\n",
              "      <td>2019</td>\n",
              "      <td>3800000</td>\n",
              "      <td>20000</td>\n",
              "      <td>Diesel</td>\n",
              "      <td>Individual</td>\n",
              "      <td>Automatic</td>\n",
              "      <td>First Owner</td>\n",
              "      <td>18.0 kmpl</td>\n",
              "      <td>1969 CC</td>\n",
              "      <td>190 bhp</td>\n",
              "      <td>400Nm</td>\n",
              "      <td>5.0</td>\n",
              "      <td>2</td>\n",
              "      <td>18.0</td>\n",
              "      <td>kmpl</td>\n",
              "      <td>1969.0</td>\n",
              "      <td>190.0</td>\n",
              "      <td>400.0</td>\n",
              "      <td>None</td>\n",
              "    </tr>\n",
              "    <tr>\n",
              "      <th>567</th>\n",
              "      <td>Volvo XC40 D4 Inscription BSIV</td>\n",
              "      <td>2019</td>\n",
              "      <td>3800000</td>\n",
              "      <td>20000</td>\n",
              "      <td>Diesel</td>\n",
              "      <td>Individual</td>\n",
              "      <td>Automatic</td>\n",
              "      <td>First Owner</td>\n",
              "      <td>18.0 kmpl</td>\n",
              "      <td>1969 CC</td>\n",
              "      <td>190 bhp</td>\n",
              "      <td>400Nm</td>\n",
              "      <td>5.0</td>\n",
              "      <td>2</td>\n",
              "      <td>18.0</td>\n",
              "      <td>kmpl</td>\n",
              "      <td>1969.0</td>\n",
              "      <td>190.0</td>\n",
              "      <td>400.0</td>\n",
              "      <td>None</td>\n",
              "    </tr>\n",
              "    <tr>\n",
              "      <th>929</th>\n",
              "      <td>Volvo XC40 D4 Inscription BSIV</td>\n",
              "      <td>2019</td>\n",
              "      <td>3800000</td>\n",
              "      <td>20000</td>\n",
              "      <td>Diesel</td>\n",
              "      <td>Individual</td>\n",
              "      <td>Automatic</td>\n",
              "      <td>First Owner</td>\n",
              "      <td>18.0 kmpl</td>\n",
              "      <td>1969 CC</td>\n",
              "      <td>190 bhp</td>\n",
              "      <td>400Nm</td>\n",
              "      <td>5.0</td>\n",
              "      <td>2</td>\n",
              "      <td>18.0</td>\n",
              "      <td>kmpl</td>\n",
              "      <td>1969.0</td>\n",
              "      <td>190.0</td>\n",
              "      <td>400.0</td>\n",
              "      <td>None</td>\n",
              "    </tr>\n",
              "    <tr>\n",
              "      <th>947</th>\n",
              "      <td>Volvo XC40 D4 Inscription BSIV</td>\n",
              "      <td>2019</td>\n",
              "      <td>3800000</td>\n",
              "      <td>20000</td>\n",
              "      <td>Diesel</td>\n",
              "      <td>Individual</td>\n",
              "      <td>Automatic</td>\n",
              "      <td>First Owner</td>\n",
              "      <td>18.0 kmpl</td>\n",
              "      <td>1969 CC</td>\n",
              "      <td>190 bhp</td>\n",
              "      <td>400Nm</td>\n",
              "      <td>5.0</td>\n",
              "      <td>2</td>\n",
              "      <td>18.0</td>\n",
              "      <td>kmpl</td>\n",
              "      <td>1969.0</td>\n",
              "      <td>190.0</td>\n",
              "      <td>400.0</td>\n",
              "      <td>None</td>\n",
              "    </tr>\n",
              "    <tr>\n",
              "      <th>962</th>\n",
              "      <td>Volvo XC40 D4 Inscription BSIV</td>\n",
              "      <td>2019</td>\n",
              "      <td>3800000</td>\n",
              "      <td>20000</td>\n",
              "      <td>Diesel</td>\n",
              "      <td>Individual</td>\n",
              "      <td>Automatic</td>\n",
              "      <td>First Owner</td>\n",
              "      <td>18.0 kmpl</td>\n",
              "      <td>1969 CC</td>\n",
              "      <td>190 bhp</td>\n",
              "      <td>400Nm</td>\n",
              "      <td>5.0</td>\n",
              "      <td>2</td>\n",
              "      <td>18.0</td>\n",
              "      <td>kmpl</td>\n",
              "      <td>1969.0</td>\n",
              "      <td>190.0</td>\n",
              "      <td>400.0</td>\n",
              "      <td>None</td>\n",
              "    </tr>\n",
              "    <tr>\n",
              "      <th>978</th>\n",
              "      <td>Volvo XC40 D4 Inscription BSIV</td>\n",
              "      <td>2019</td>\n",
              "      <td>3800000</td>\n",
              "      <td>20000</td>\n",
              "      <td>Diesel</td>\n",
              "      <td>Individual</td>\n",
              "      <td>Automatic</td>\n",
              "      <td>First Owner</td>\n",
              "      <td>18.0 kmpl</td>\n",
              "      <td>1969 CC</td>\n",
              "      <td>190 bhp</td>\n",
              "      <td>400Nm</td>\n",
              "      <td>5.0</td>\n",
              "      <td>2</td>\n",
              "      <td>18.0</td>\n",
              "      <td>kmpl</td>\n",
              "      <td>1969.0</td>\n",
              "      <td>190.0</td>\n",
              "      <td>400.0</td>\n",
              "      <td>None</td>\n",
              "    </tr>\n",
              "    <tr>\n",
              "      <th>1468</th>\n",
              "      <td>Volvo XC40 D4 Inscription BSIV</td>\n",
              "      <td>2019</td>\n",
              "      <td>3800000</td>\n",
              "      <td>20000</td>\n",
              "      <td>Diesel</td>\n",
              "      <td>Individual</td>\n",
              "      <td>Automatic</td>\n",
              "      <td>First Owner</td>\n",
              "      <td>18.0 kmpl</td>\n",
              "      <td>1969 CC</td>\n",
              "      <td>190 bhp</td>\n",
              "      <td>400Nm</td>\n",
              "      <td>5.0</td>\n",
              "      <td>2</td>\n",
              "      <td>18.0</td>\n",
              "      <td>kmpl</td>\n",
              "      <td>1969.0</td>\n",
              "      <td>190.0</td>\n",
              "      <td>400.0</td>\n",
              "      <td>None</td>\n",
              "    </tr>\n",
              "    <tr>\n",
              "      <th>1568</th>\n",
              "      <td>Volvo XC40 D4 Inscription BSIV</td>\n",
              "      <td>2019</td>\n",
              "      <td>3800000</td>\n",
              "      <td>20000</td>\n",
              "      <td>Diesel</td>\n",
              "      <td>Individual</td>\n",
              "      <td>Automatic</td>\n",
              "      <td>First Owner</td>\n",
              "      <td>18.0 kmpl</td>\n",
              "      <td>1969 CC</td>\n",
              "      <td>190 bhp</td>\n",
              "      <td>400Nm</td>\n",
              "      <td>5.0</td>\n",
              "      <td>2</td>\n",
              "      <td>18.0</td>\n",
              "      <td>kmpl</td>\n",
              "      <td>1969.0</td>\n",
              "      <td>190.0</td>\n",
              "      <td>400.0</td>\n",
              "      <td>None</td>\n",
              "    </tr>\n",
              "    <tr>\n",
              "      <th>2293</th>\n",
              "      <td>Volvo XC40 D4 Inscription BSIV</td>\n",
              "      <td>2019</td>\n",
              "      <td>3800000</td>\n",
              "      <td>20000</td>\n",
              "      <td>Diesel</td>\n",
              "      <td>Individual</td>\n",
              "      <td>Automatic</td>\n",
              "      <td>First Owner</td>\n",
              "      <td>18.0 kmpl</td>\n",
              "      <td>1969 CC</td>\n",
              "      <td>190 bhp</td>\n",
              "      <td>400Nm</td>\n",
              "      <td>5.0</td>\n",
              "      <td>2</td>\n",
              "      <td>18.0</td>\n",
              "      <td>kmpl</td>\n",
              "      <td>1969.0</td>\n",
              "      <td>190.0</td>\n",
              "      <td>400.0</td>\n",
              "      <td>None</td>\n",
              "    </tr>\n",
              "    <tr>\n",
              "      <th>2652</th>\n",
              "      <td>Volvo XC40 D4 Inscription BSIV</td>\n",
              "      <td>2019</td>\n",
              "      <td>3800000</td>\n",
              "      <td>20000</td>\n",
              "      <td>Diesel</td>\n",
              "      <td>Individual</td>\n",
              "      <td>Automatic</td>\n",
              "      <td>First Owner</td>\n",
              "      <td>18.0 kmpl</td>\n",
              "      <td>1969 CC</td>\n",
              "      <td>190 bhp</td>\n",
              "      <td>400Nm</td>\n",
              "      <td>5.0</td>\n",
              "      <td>2</td>\n",
              "      <td>18.0</td>\n",
              "      <td>kmpl</td>\n",
              "      <td>1969.0</td>\n",
              "      <td>190.0</td>\n",
              "      <td>400.0</td>\n",
              "      <td>None</td>\n",
              "    </tr>\n",
              "    <tr>\n",
              "      <th>2941</th>\n",
              "      <td>Volvo XC40 D4 Inscription BSIV</td>\n",
              "      <td>2019</td>\n",
              "      <td>3800000</td>\n",
              "      <td>20000</td>\n",
              "      <td>Diesel</td>\n",
              "      <td>Individual</td>\n",
              "      <td>Automatic</td>\n",
              "      <td>First Owner</td>\n",
              "      <td>18.0 kmpl</td>\n",
              "      <td>1969 CC</td>\n",
              "      <td>190 bhp</td>\n",
              "      <td>400Nm</td>\n",
              "      <td>5.0</td>\n",
              "      <td>2</td>\n",
              "      <td>18.0</td>\n",
              "      <td>kmpl</td>\n",
              "      <td>1969.0</td>\n",
              "      <td>190.0</td>\n",
              "      <td>400.0</td>\n",
              "      <td>None</td>\n",
              "    </tr>\n",
              "    <tr>\n",
              "      <th>3035</th>\n",
              "      <td>Volvo XC40 D4 Inscription BSIV</td>\n",
              "      <td>2019</td>\n",
              "      <td>3800000</td>\n",
              "      <td>20000</td>\n",
              "      <td>Diesel</td>\n",
              "      <td>Individual</td>\n",
              "      <td>Automatic</td>\n",
              "      <td>First Owner</td>\n",
              "      <td>18.0 kmpl</td>\n",
              "      <td>1969 CC</td>\n",
              "      <td>190 bhp</td>\n",
              "      <td>400Nm</td>\n",
              "      <td>5.0</td>\n",
              "      <td>2</td>\n",
              "      <td>18.0</td>\n",
              "      <td>kmpl</td>\n",
              "      <td>1969.0</td>\n",
              "      <td>190.0</td>\n",
              "      <td>400.0</td>\n",
              "      <td>None</td>\n",
              "    </tr>\n",
              "    <tr>\n",
              "      <th>3291</th>\n",
              "      <td>Volvo XC40 D4 Inscription BSIV</td>\n",
              "      <td>2019</td>\n",
              "      <td>3800000</td>\n",
              "      <td>20000</td>\n",
              "      <td>Diesel</td>\n",
              "      <td>Individual</td>\n",
              "      <td>Automatic</td>\n",
              "      <td>First Owner</td>\n",
              "      <td>18.0 kmpl</td>\n",
              "      <td>1969 CC</td>\n",
              "      <td>190 bhp</td>\n",
              "      <td>400Nm</td>\n",
              "      <td>5.0</td>\n",
              "      <td>2</td>\n",
              "      <td>18.0</td>\n",
              "      <td>kmpl</td>\n",
              "      <td>1969.0</td>\n",
              "      <td>190.0</td>\n",
              "      <td>400.0</td>\n",
              "      <td>None</td>\n",
              "    </tr>\n",
              "    <tr>\n",
              "      <th>3623</th>\n",
              "      <td>Volvo XC40 D4 Inscription BSIV</td>\n",
              "      <td>2019</td>\n",
              "      <td>3800000</td>\n",
              "      <td>20000</td>\n",
              "      <td>Diesel</td>\n",
              "      <td>Individual</td>\n",
              "      <td>Automatic</td>\n",
              "      <td>First Owner</td>\n",
              "      <td>18.0 kmpl</td>\n",
              "      <td>1969 CC</td>\n",
              "      <td>190 bhp</td>\n",
              "      <td>400Nm</td>\n",
              "      <td>5.0</td>\n",
              "      <td>2</td>\n",
              "      <td>18.0</td>\n",
              "      <td>kmpl</td>\n",
              "      <td>1969.0</td>\n",
              "      <td>190.0</td>\n",
              "      <td>400.0</td>\n",
              "      <td>None</td>\n",
              "    </tr>\n",
              "    <tr>\n",
              "      <th>3643</th>\n",
              "      <td>Volvo XC40 D4 Inscription BSIV</td>\n",
              "      <td>2019</td>\n",
              "      <td>3800000</td>\n",
              "      <td>20000</td>\n",
              "      <td>Diesel</td>\n",
              "      <td>Individual</td>\n",
              "      <td>Automatic</td>\n",
              "      <td>First Owner</td>\n",
              "      <td>18.0 kmpl</td>\n",
              "      <td>1969 CC</td>\n",
              "      <td>190 bhp</td>\n",
              "      <td>400Nm</td>\n",
              "      <td>5.0</td>\n",
              "      <td>2</td>\n",
              "      <td>18.0</td>\n",
              "      <td>kmpl</td>\n",
              "      <td>1969.0</td>\n",
              "      <td>190.0</td>\n",
              "      <td>400.0</td>\n",
              "      <td>None</td>\n",
              "    </tr>\n",
              "    <tr>\n",
              "      <th>3699</th>\n",
              "      <td>Volvo XC40 D4 Inscription BSIV</td>\n",
              "      <td>2019</td>\n",
              "      <td>3800000</td>\n",
              "      <td>20000</td>\n",
              "      <td>Diesel</td>\n",
              "      <td>Individual</td>\n",
              "      <td>Automatic</td>\n",
              "      <td>First Owner</td>\n",
              "      <td>18.0 kmpl</td>\n",
              "      <td>1969 CC</td>\n",
              "      <td>190 bhp</td>\n",
              "      <td>400Nm</td>\n",
              "      <td>5.0</td>\n",
              "      <td>2</td>\n",
              "      <td>18.0</td>\n",
              "      <td>kmpl</td>\n",
              "      <td>1969.0</td>\n",
              "      <td>190.0</td>\n",
              "      <td>400.0</td>\n",
              "      <td>None</td>\n",
              "    </tr>\n",
              "    <tr>\n",
              "      <th>3773</th>\n",
              "      <td>Volvo XC40 D4 Inscription BSIV</td>\n",
              "      <td>2019</td>\n",
              "      <td>3800000</td>\n",
              "      <td>20000</td>\n",
              "      <td>Diesel</td>\n",
              "      <td>Individual</td>\n",
              "      <td>Automatic</td>\n",
              "      <td>First Owner</td>\n",
              "      <td>18.0 kmpl</td>\n",
              "      <td>1969 CC</td>\n",
              "      <td>190 bhp</td>\n",
              "      <td>400Nm</td>\n",
              "      <td>5.0</td>\n",
              "      <td>2</td>\n",
              "      <td>18.0</td>\n",
              "      <td>kmpl</td>\n",
              "      <td>1969.0</td>\n",
              "      <td>190.0</td>\n",
              "      <td>400.0</td>\n",
              "      <td>None</td>\n",
              "    </tr>\n",
              "    <tr>\n",
              "      <th>4121</th>\n",
              "      <td>Volvo XC40 D4 Inscription BSIV</td>\n",
              "      <td>2019</td>\n",
              "      <td>3800000</td>\n",
              "      <td>20000</td>\n",
              "      <td>Diesel</td>\n",
              "      <td>Individual</td>\n",
              "      <td>Automatic</td>\n",
              "      <td>First Owner</td>\n",
              "      <td>18.0 kmpl</td>\n",
              "      <td>1969 CC</td>\n",
              "      <td>190 bhp</td>\n",
              "      <td>400Nm</td>\n",
              "      <td>5.0</td>\n",
              "      <td>2</td>\n",
              "      <td>18.0</td>\n",
              "      <td>kmpl</td>\n",
              "      <td>1969.0</td>\n",
              "      <td>190.0</td>\n",
              "      <td>400.0</td>\n",
              "      <td>None</td>\n",
              "    </tr>\n",
              "    <tr>\n",
              "      <th>4217</th>\n",
              "      <td>Maruti Omni CNG</td>\n",
              "      <td>2000</td>\n",
              "      <td>80000</td>\n",
              "      <td>100000</td>\n",
              "      <td>CNG</td>\n",
              "      <td>Individual</td>\n",
              "      <td>Manual</td>\n",
              "      <td>Second Owner</td>\n",
              "      <td>10.9 km/kg</td>\n",
              "      <td>796 CC</td>\n",
              "      <td>bhp</td>\n",
              "      <td>None</td>\n",
              "      <td>8.0</td>\n",
              "      <td>14</td>\n",
              "      <td>10.9</td>\n",
              "      <td>km/kg</td>\n",
              "      <td>796.0</td>\n",
              "      <td>NaN</td>\n",
              "      <td>NaN</td>\n",
              "      <td>None</td>\n",
              "    </tr>\n",
              "    <tr>\n",
              "      <th>4349</th>\n",
              "      <td>Volvo XC40 D4 Inscription BSIV</td>\n",
              "      <td>2019</td>\n",
              "      <td>3800000</td>\n",
              "      <td>20000</td>\n",
              "      <td>Diesel</td>\n",
              "      <td>Individual</td>\n",
              "      <td>Automatic</td>\n",
              "      <td>First Owner</td>\n",
              "      <td>18.0 kmpl</td>\n",
              "      <td>1969 CC</td>\n",
              "      <td>190 bhp</td>\n",
              "      <td>400Nm</td>\n",
              "      <td>5.0</td>\n",
              "      <td>2</td>\n",
              "      <td>18.0</td>\n",
              "      <td>kmpl</td>\n",
              "      <td>1969.0</td>\n",
              "      <td>190.0</td>\n",
              "      <td>400.0</td>\n",
              "      <td>None</td>\n",
              "    </tr>\n",
              "    <tr>\n",
              "      <th>5299</th>\n",
              "      <td>Volvo XC40 D4 Inscription BSIV</td>\n",
              "      <td>2019</td>\n",
              "      <td>3800000</td>\n",
              "      <td>20000</td>\n",
              "      <td>Diesel</td>\n",
              "      <td>Individual</td>\n",
              "      <td>Automatic</td>\n",
              "      <td>First Owner</td>\n",
              "      <td>18.0 kmpl</td>\n",
              "      <td>1969 CC</td>\n",
              "      <td>190 bhp</td>\n",
              "      <td>400Nm</td>\n",
              "      <td>5.0</td>\n",
              "      <td>2</td>\n",
              "      <td>18.0</td>\n",
              "      <td>kmpl</td>\n",
              "      <td>1969.0</td>\n",
              "      <td>190.0</td>\n",
              "      <td>400.0</td>\n",
              "      <td>None</td>\n",
              "    </tr>\n",
              "    <tr>\n",
              "      <th>5335</th>\n",
              "      <td>Volvo XC40 D4 Inscription BSIV</td>\n",
              "      <td>2019</td>\n",
              "      <td>3800000</td>\n",
              "      <td>20000</td>\n",
              "      <td>Diesel</td>\n",
              "      <td>Individual</td>\n",
              "      <td>Automatic</td>\n",
              "      <td>First Owner</td>\n",
              "      <td>18.0 kmpl</td>\n",
              "      <td>1969 CC</td>\n",
              "      <td>190 bhp</td>\n",
              "      <td>400Nm</td>\n",
              "      <td>5.0</td>\n",
              "      <td>2</td>\n",
              "      <td>18.0</td>\n",
              "      <td>kmpl</td>\n",
              "      <td>1969.0</td>\n",
              "      <td>190.0</td>\n",
              "      <td>400.0</td>\n",
              "      <td>None</td>\n",
              "    </tr>\n",
              "    <tr>\n",
              "      <th>5637</th>\n",
              "      <td>Volvo XC40 D4 Inscription BSIV</td>\n",
              "      <td>2019</td>\n",
              "      <td>3800000</td>\n",
              "      <td>20000</td>\n",
              "      <td>Diesel</td>\n",
              "      <td>Individual</td>\n",
              "      <td>Automatic</td>\n",
              "      <td>First Owner</td>\n",
              "      <td>18.0 kmpl</td>\n",
              "      <td>1969 CC</td>\n",
              "      <td>190 bhp</td>\n",
              "      <td>400Nm</td>\n",
              "      <td>5.0</td>\n",
              "      <td>2</td>\n",
              "      <td>18.0</td>\n",
              "      <td>kmpl</td>\n",
              "      <td>1969.0</td>\n",
              "      <td>190.0</td>\n",
              "      <td>400.0</td>\n",
              "      <td>None</td>\n",
              "    </tr>\n",
              "    <tr>\n",
              "      <th>5652</th>\n",
              "      <td>Volvo XC40 D4 Inscription BSIV</td>\n",
              "      <td>2019</td>\n",
              "      <td>3800000</td>\n",
              "      <td>20000</td>\n",
              "      <td>Diesel</td>\n",
              "      <td>Individual</td>\n",
              "      <td>Automatic</td>\n",
              "      <td>First Owner</td>\n",
              "      <td>18.0 kmpl</td>\n",
              "      <td>1969 CC</td>\n",
              "      <td>190 bhp</td>\n",
              "      <td>400Nm</td>\n",
              "      <td>5.0</td>\n",
              "      <td>2</td>\n",
              "      <td>18.0</td>\n",
              "      <td>kmpl</td>\n",
              "      <td>1969.0</td>\n",
              "      <td>190.0</td>\n",
              "      <td>400.0</td>\n",
              "      <td>None</td>\n",
              "    </tr>\n",
              "    <tr>\n",
              "      <th>5753</th>\n",
              "      <td>Volvo XC40 D4 Inscription BSIV</td>\n",
              "      <td>2019</td>\n",
              "      <td>3800000</td>\n",
              "      <td>20000</td>\n",
              "      <td>Diesel</td>\n",
              "      <td>Individual</td>\n",
              "      <td>Automatic</td>\n",
              "      <td>First Owner</td>\n",
              "      <td>18.0 kmpl</td>\n",
              "      <td>1969 CC</td>\n",
              "      <td>190 bhp</td>\n",
              "      <td>400Nm</td>\n",
              "      <td>5.0</td>\n",
              "      <td>2</td>\n",
              "      <td>18.0</td>\n",
              "      <td>kmpl</td>\n",
              "      <td>1969.0</td>\n",
              "      <td>190.0</td>\n",
              "      <td>400.0</td>\n",
              "      <td>None</td>\n",
              "    </tr>\n",
              "    <tr>\n",
              "      <th>5991</th>\n",
              "      <td>Volvo XC40 D4 Inscription BSIV</td>\n",
              "      <td>2019</td>\n",
              "      <td>3800000</td>\n",
              "      <td>20000</td>\n",
              "      <td>Diesel</td>\n",
              "      <td>Individual</td>\n",
              "      <td>Automatic</td>\n",
              "      <td>First Owner</td>\n",
              "      <td>18.0 kmpl</td>\n",
              "      <td>1969 CC</td>\n",
              "      <td>190 bhp</td>\n",
              "      <td>400Nm</td>\n",
              "      <td>5.0</td>\n",
              "      <td>2</td>\n",
              "      <td>18.0</td>\n",
              "      <td>kmpl</td>\n",
              "      <td>1969.0</td>\n",
              "      <td>190.0</td>\n",
              "      <td>400.0</td>\n",
              "      <td>None</td>\n",
              "    </tr>\n",
              "    <tr>\n",
              "      <th>6778</th>\n",
              "      <td>Volvo XC40 D4 Inscription BSIV</td>\n",
              "      <td>2019</td>\n",
              "      <td>3800000</td>\n",
              "      <td>20000</td>\n",
              "      <td>Diesel</td>\n",
              "      <td>Individual</td>\n",
              "      <td>Automatic</td>\n",
              "      <td>First Owner</td>\n",
              "      <td>18.0 kmpl</td>\n",
              "      <td>1969 CC</td>\n",
              "      <td>190 bhp</td>\n",
              "      <td>400Nm</td>\n",
              "      <td>5.0</td>\n",
              "      <td>2</td>\n",
              "      <td>18.0</td>\n",
              "      <td>kmpl</td>\n",
              "      <td>1969.0</td>\n",
              "      <td>190.0</td>\n",
              "      <td>400.0</td>\n",
              "      <td>None</td>\n",
              "    </tr>\n",
              "    <tr>\n",
              "      <th>6832</th>\n",
              "      <td>Volvo S90 D4 Inscription BSIV</td>\n",
              "      <td>2019</td>\n",
              "      <td>5500000</td>\n",
              "      <td>17000</td>\n",
              "      <td>Diesel</td>\n",
              "      <td>Individual</td>\n",
              "      <td>Automatic</td>\n",
              "      <td>First Owner</td>\n",
              "      <td>18.0 kmpl</td>\n",
              "      <td>1969 CC</td>\n",
              "      <td>190 bhp</td>\n",
              "      <td>400Nm</td>\n",
              "      <td>5.0</td>\n",
              "      <td>2</td>\n",
              "      <td>18.0</td>\n",
              "      <td>kmpl</td>\n",
              "      <td>1969.0</td>\n",
              "      <td>190.0</td>\n",
              "      <td>400.0</td>\n",
              "      <td>None</td>\n",
              "    </tr>\n",
              "  </tbody>\n",
              "</table>\n",
              "</div>\n",
              "      <button class=\"colab-df-convert\" onclick=\"convertToInteractive('df-e2bdb881-db93-4140-99a1-64d5beae9b8e')\"\n",
              "              title=\"Convert this dataframe to an interactive table.\"\n",
              "              style=\"display:none;\">\n",
              "        \n",
              "  <svg xmlns=\"http://www.w3.org/2000/svg\" height=\"24px\"viewBox=\"0 0 24 24\"\n",
              "       width=\"24px\">\n",
              "    <path d=\"M0 0h24v24H0V0z\" fill=\"none\"/>\n",
              "    <path d=\"M18.56 5.44l.94 2.06.94-2.06 2.06-.94-2.06-.94-.94-2.06-.94 2.06-2.06.94zm-11 1L8.5 8.5l.94-2.06 2.06-.94-2.06-.94L8.5 2.5l-.94 2.06-2.06.94zm10 10l.94 2.06.94-2.06 2.06-.94-2.06-.94-.94-2.06-.94 2.06-2.06.94z\"/><path d=\"M17.41 7.96l-1.37-1.37c-.4-.4-.92-.59-1.43-.59-.52 0-1.04.2-1.43.59L10.3 9.45l-7.72 7.72c-.78.78-.78 2.05 0 2.83L4 21.41c.39.39.9.59 1.41.59.51 0 1.02-.2 1.41-.59l7.78-7.78 2.81-2.81c.8-.78.8-2.07 0-2.86zM5.41 20L4 18.59l7.72-7.72 1.47 1.35L5.41 20z\"/>\n",
              "  </svg>\n",
              "      </button>\n",
              "      \n",
              "  <style>\n",
              "    .colab-df-container {\n",
              "      display:flex;\n",
              "      flex-wrap:wrap;\n",
              "      gap: 12px;\n",
              "    }\n",
              "\n",
              "    .colab-df-convert {\n",
              "      background-color: #E8F0FE;\n",
              "      border: none;\n",
              "      border-radius: 50%;\n",
              "      cursor: pointer;\n",
              "      display: none;\n",
              "      fill: #1967D2;\n",
              "      height: 32px;\n",
              "      padding: 0 0 0 0;\n",
              "      width: 32px;\n",
              "    }\n",
              "\n",
              "    .colab-df-convert:hover {\n",
              "      background-color: #E2EBFA;\n",
              "      box-shadow: 0px 1px 2px rgba(60, 64, 67, 0.3), 0px 1px 3px 1px rgba(60, 64, 67, 0.15);\n",
              "      fill: #174EA6;\n",
              "    }\n",
              "\n",
              "    [theme=dark] .colab-df-convert {\n",
              "      background-color: #3B4455;\n",
              "      fill: #D2E3FC;\n",
              "    }\n",
              "\n",
              "    [theme=dark] .colab-df-convert:hover {\n",
              "      background-color: #434B5C;\n",
              "      box-shadow: 0px 1px 3px 1px rgba(0, 0, 0, 0.15);\n",
              "      filter: drop-shadow(0px 1px 2px rgba(0, 0, 0, 0.3));\n",
              "      fill: #FFFFFF;\n",
              "    }\n",
              "  </style>\n",
              "\n",
              "      <script>\n",
              "        const buttonEl =\n",
              "          document.querySelector('#df-e2bdb881-db93-4140-99a1-64d5beae9b8e button.colab-df-convert');\n",
              "        buttonEl.style.display =\n",
              "          google.colab.kernel.accessAllowed ? 'block' : 'none';\n",
              "\n",
              "        async function convertToInteractive(key) {\n",
              "          const element = document.querySelector('#df-e2bdb881-db93-4140-99a1-64d5beae9b8e');\n",
              "          const dataTable =\n",
              "            await google.colab.kernel.invokeFunction('convertToInteractive',\n",
              "                                                     [key], {});\n",
              "          if (!dataTable) return;\n",
              "\n",
              "          const docLinkHtml = 'Like what you see? Visit the ' +\n",
              "            '<a target=\"_blank\" href=https://colab.research.google.com/notebooks/data_table.ipynb>data table notebook</a>'\n",
              "            + ' to learn more about interactive tables.';\n",
              "          element.innerHTML = '';\n",
              "          dataTable['output_type'] = 'display_data';\n",
              "          await google.colab.output.renderOutput(dataTable, element);\n",
              "          const docLink = document.createElement('div');\n",
              "          docLink.innerHTML = docLinkHtml;\n",
              "          element.appendChild(docLink);\n",
              "        }\n",
              "      </script>\n",
              "    </div>\n",
              "  </div>\n",
              "  "
            ]
          },
          "metadata": {},
          "execution_count": 75
        }
      ]
    },
    {
      "cell_type": "markdown",
      "source": [
        "Всё в порядке!"
      ],
      "metadata": {
        "id": "n4d5ZV4Q4HGt"
      }
    },
    {
      "cell_type": "code",
      "source": [
        "df_1['rpm_min'] = df_1['rpm'].apply(lambda x: x[0] if x is not None else None)\n",
        "df_1['rpm_max'] = df_1['rpm'].apply(lambda x: x[1] if x is not None else None)"
      ],
      "metadata": {
        "id": "BOjHyRFS4PPO"
      },
      "execution_count": null,
      "outputs": []
    },
    {
      "cell_type": "markdown",
      "source": [
        "Для модели будем исключать из таблицы следующие колонки: name, year, fuel, mileage, engine, max_power, torque"
      ],
      "metadata": {
        "id": "qKxMJuNi5PSy"
      }
    },
    {
      "cell_type": "code",
      "source": [
        "df_1 = df_1.drop(columns=['name', 'year', 'fuel', 'mileage', 'engine', 'max_power', 'torque', 'rpm'])"
      ],
      "metadata": {
        "id": "SbXtLNpY450R"
      },
      "execution_count": null,
      "outputs": []
    },
    {
      "cell_type": "code",
      "source": [
        "df_1"
      ],
      "metadata": {
        "colab": {
          "base_uri": "https://localhost:8080/",
          "height": 357
        },
        "id": "zUskTZR556Gp",
        "outputId": "dd5e064d-12bb-4246-e68b-995be9914c3d"
      },
      "execution_count": null,
      "outputs": [
        {
          "output_type": "execute_result",
          "data": {
            "text/plain": [
              "   selling_price  km_driven seller_type transmission         owner  seats  \\\n",
              "0         450000     145500  Individual       Manual   First Owner    5.0   \n",
              "1         370000     120000  Individual       Manual  Second Owner    5.0   \n",
              "2         225000     127000  Individual       Manual   First Owner    5.0   \n",
              "3         130000     120000  Individual       Manual   First Owner    5.0   \n",
              "4         440000      45000  Individual       Manual   First Owner    5.0   \n",
              "\n",
              "   age  mileage_count mileage_measure  engine_volume  max_power_count  \\\n",
              "0    7          23.40            kmpl         1248.0            74.00   \n",
              "1    7          21.14            kmpl         1498.0           103.52   \n",
              "2   11          23.00            kmpl         1396.0            90.00   \n",
              "3   14          16.10            kmpl         1298.0            88.20   \n",
              "4    4          20.14            kmpl         1197.0            81.86   \n",
              "\n",
              "   torque_1  rpm_max  rpm_min  \n",
              "0    190.00     2000     2000  \n",
              "1    250.00     2500     1500  \n",
              "2    219.52     2750     1750  \n",
              "3    112.70     4500     4500  \n",
              "4    113.75     4000     4000  "
            ],
            "text/html": [
              "\n",
              "  <div id=\"df-5bfac22e-f35c-49bf-9723-e9c078dd75c5\">\n",
              "    <div class=\"colab-df-container\">\n",
              "      <div>\n",
              "<style scoped>\n",
              "    .dataframe tbody tr th:only-of-type {\n",
              "        vertical-align: middle;\n",
              "    }\n",
              "\n",
              "    .dataframe tbody tr th {\n",
              "        vertical-align: top;\n",
              "    }\n",
              "\n",
              "    .dataframe thead th {\n",
              "        text-align: right;\n",
              "    }\n",
              "</style>\n",
              "<table border=\"1\" class=\"dataframe\">\n",
              "  <thead>\n",
              "    <tr style=\"text-align: right;\">\n",
              "      <th></th>\n",
              "      <th>selling_price</th>\n",
              "      <th>km_driven</th>\n",
              "      <th>seller_type</th>\n",
              "      <th>transmission</th>\n",
              "      <th>owner</th>\n",
              "      <th>seats</th>\n",
              "      <th>age</th>\n",
              "      <th>mileage_count</th>\n",
              "      <th>mileage_measure</th>\n",
              "      <th>engine_volume</th>\n",
              "      <th>max_power_count</th>\n",
              "      <th>torque_1</th>\n",
              "      <th>rpm_max</th>\n",
              "      <th>rpm_min</th>\n",
              "    </tr>\n",
              "  </thead>\n",
              "  <tbody>\n",
              "    <tr>\n",
              "      <th>0</th>\n",
              "      <td>450000</td>\n",
              "      <td>145500</td>\n",
              "      <td>Individual</td>\n",
              "      <td>Manual</td>\n",
              "      <td>First Owner</td>\n",
              "      <td>5.0</td>\n",
              "      <td>7</td>\n",
              "      <td>23.40</td>\n",
              "      <td>kmpl</td>\n",
              "      <td>1248.0</td>\n",
              "      <td>74.00</td>\n",
              "      <td>190.00</td>\n",
              "      <td>2000</td>\n",
              "      <td>2000</td>\n",
              "    </tr>\n",
              "    <tr>\n",
              "      <th>1</th>\n",
              "      <td>370000</td>\n",
              "      <td>120000</td>\n",
              "      <td>Individual</td>\n",
              "      <td>Manual</td>\n",
              "      <td>Second Owner</td>\n",
              "      <td>5.0</td>\n",
              "      <td>7</td>\n",
              "      <td>21.14</td>\n",
              "      <td>kmpl</td>\n",
              "      <td>1498.0</td>\n",
              "      <td>103.52</td>\n",
              "      <td>250.00</td>\n",
              "      <td>2500</td>\n",
              "      <td>1500</td>\n",
              "    </tr>\n",
              "    <tr>\n",
              "      <th>2</th>\n",
              "      <td>225000</td>\n",
              "      <td>127000</td>\n",
              "      <td>Individual</td>\n",
              "      <td>Manual</td>\n",
              "      <td>First Owner</td>\n",
              "      <td>5.0</td>\n",
              "      <td>11</td>\n",
              "      <td>23.00</td>\n",
              "      <td>kmpl</td>\n",
              "      <td>1396.0</td>\n",
              "      <td>90.00</td>\n",
              "      <td>219.52</td>\n",
              "      <td>2750</td>\n",
              "      <td>1750</td>\n",
              "    </tr>\n",
              "    <tr>\n",
              "      <th>3</th>\n",
              "      <td>130000</td>\n",
              "      <td>120000</td>\n",
              "      <td>Individual</td>\n",
              "      <td>Manual</td>\n",
              "      <td>First Owner</td>\n",
              "      <td>5.0</td>\n",
              "      <td>14</td>\n",
              "      <td>16.10</td>\n",
              "      <td>kmpl</td>\n",
              "      <td>1298.0</td>\n",
              "      <td>88.20</td>\n",
              "      <td>112.70</td>\n",
              "      <td>4500</td>\n",
              "      <td>4500</td>\n",
              "    </tr>\n",
              "    <tr>\n",
              "      <th>4</th>\n",
              "      <td>440000</td>\n",
              "      <td>45000</td>\n",
              "      <td>Individual</td>\n",
              "      <td>Manual</td>\n",
              "      <td>First Owner</td>\n",
              "      <td>5.0</td>\n",
              "      <td>4</td>\n",
              "      <td>20.14</td>\n",
              "      <td>kmpl</td>\n",
              "      <td>1197.0</td>\n",
              "      <td>81.86</td>\n",
              "      <td>113.75</td>\n",
              "      <td>4000</td>\n",
              "      <td>4000</td>\n",
              "    </tr>\n",
              "  </tbody>\n",
              "</table>\n",
              "</div>\n",
              "      <button class=\"colab-df-convert\" onclick=\"convertToInteractive('df-5bfac22e-f35c-49bf-9723-e9c078dd75c5')\"\n",
              "              title=\"Convert this dataframe to an interactive table.\"\n",
              "              style=\"display:none;\">\n",
              "        \n",
              "  <svg xmlns=\"http://www.w3.org/2000/svg\" height=\"24px\"viewBox=\"0 0 24 24\"\n",
              "       width=\"24px\">\n",
              "    <path d=\"M0 0h24v24H0V0z\" fill=\"none\"/>\n",
              "    <path d=\"M18.56 5.44l.94 2.06.94-2.06 2.06-.94-2.06-.94-.94-2.06-.94 2.06-2.06.94zm-11 1L8.5 8.5l.94-2.06 2.06-.94-2.06-.94L8.5 2.5l-.94 2.06-2.06.94zm10 10l.94 2.06.94-2.06 2.06-.94-2.06-.94-.94-2.06-.94 2.06-2.06.94z\"/><path d=\"M17.41 7.96l-1.37-1.37c-.4-.4-.92-.59-1.43-.59-.52 0-1.04.2-1.43.59L10.3 9.45l-7.72 7.72c-.78.78-.78 2.05 0 2.83L4 21.41c.39.39.9.59 1.41.59.51 0 1.02-.2 1.41-.59l7.78-7.78 2.81-2.81c.8-.78.8-2.07 0-2.86zM5.41 20L4 18.59l7.72-7.72 1.47 1.35L5.41 20z\"/>\n",
              "  </svg>\n",
              "      </button>\n",
              "      \n",
              "  <style>\n",
              "    .colab-df-container {\n",
              "      display:flex;\n",
              "      flex-wrap:wrap;\n",
              "      gap: 12px;\n",
              "    }\n",
              "\n",
              "    .colab-df-convert {\n",
              "      background-color: #E8F0FE;\n",
              "      border: none;\n",
              "      border-radius: 50%;\n",
              "      cursor: pointer;\n",
              "      display: none;\n",
              "      fill: #1967D2;\n",
              "      height: 32px;\n",
              "      padding: 0 0 0 0;\n",
              "      width: 32px;\n",
              "    }\n",
              "\n",
              "    .colab-df-convert:hover {\n",
              "      background-color: #E2EBFA;\n",
              "      box-shadow: 0px 1px 2px rgba(60, 64, 67, 0.3), 0px 1px 3px 1px rgba(60, 64, 67, 0.15);\n",
              "      fill: #174EA6;\n",
              "    }\n",
              "\n",
              "    [theme=dark] .colab-df-convert {\n",
              "      background-color: #3B4455;\n",
              "      fill: #D2E3FC;\n",
              "    }\n",
              "\n",
              "    [theme=dark] .colab-df-convert:hover {\n",
              "      background-color: #434B5C;\n",
              "      box-shadow: 0px 1px 3px 1px rgba(0, 0, 0, 0.15);\n",
              "      filter: drop-shadow(0px 1px 2px rgba(0, 0, 0, 0.3));\n",
              "      fill: #FFFFFF;\n",
              "    }\n",
              "  </style>\n",
              "\n",
              "      <script>\n",
              "        const buttonEl =\n",
              "          document.querySelector('#df-5bfac22e-f35c-49bf-9723-e9c078dd75c5 button.colab-df-convert');\n",
              "        buttonEl.style.display =\n",
              "          google.colab.kernel.accessAllowed ? 'block' : 'none';\n",
              "\n",
              "        async function convertToInteractive(key) {\n",
              "          const element = document.querySelector('#df-5bfac22e-f35c-49bf-9723-e9c078dd75c5');\n",
              "          const dataTable =\n",
              "            await google.colab.kernel.invokeFunction('convertToInteractive',\n",
              "                                                     [key], {});\n",
              "          if (!dataTable) return;\n",
              "\n",
              "          const docLinkHtml = 'Like what you see? Visit the ' +\n",
              "            '<a target=\"_blank\" href=https://colab.research.google.com/notebooks/data_table.ipynb>data table notebook</a>'\n",
              "            + ' to learn more about interactive tables.';\n",
              "          element.innerHTML = '';\n",
              "          dataTable['output_type'] = 'display_data';\n",
              "          await google.colab.output.renderOutput(dataTable, element);\n",
              "          const docLink = document.createElement('div');\n",
              "          docLink.innerHTML = docLinkHtml;\n",
              "          element.appendChild(docLink);\n",
              "        }\n",
              "      </script>\n",
              "    </div>\n",
              "  </div>\n",
              "  "
            ]
          },
          "metadata": {},
          "execution_count": 91
        }
      ]
    },
    {
      "cell_type": "code",
      "source": [
        "corr = df_1[['engine_volume','max_power_count', 'torque_1', 'rpm_max', 'rpm_min']].corr()\n",
        "\n",
        "sns.heatmap(corr, cmap=\"crest\")"
      ],
      "metadata": {
        "colab": {
          "base_uri": "https://localhost:8080/",
          "height": 566
        },
        "id": "z-kSQJ_n6xyt",
        "outputId": "ab50d04b-6165-45d4-9182-4e5de80efa37"
      },
      "execution_count": null,
      "outputs": [
        {
          "output_type": "execute_result",
          "data": {
            "text/plain": [
              "<Axes: >"
            ]
          },
          "metadata": {},
          "execution_count": 93
        },
        {
          "output_type": "display_data",
          "data": {
            "text/plain": [
              "<Figure size 640x480 with 2 Axes>"
            ],
            "image/png": "[encoded data removed]"
          },
          "metadata": {}
        }
      ]
    },
    {
      "cell_type": "markdown",
      "source": [
        "Видим, что max_power_count и engine_volume тесно коррелируют между собой (что и логично). Пока убирать не будем, можно будет поэкспериментировать с этим и посмотреть, как будут себя вести различные модели."
      ],
      "metadata": {
        "id": "uag5kQ-E6O3u"
      }
    }
  ]
}